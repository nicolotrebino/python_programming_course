{
 "cells": [
  {
   "cell_type": "markdown",
   "id": "0a459ea5-29f1-4895-8559-900994564ccf",
   "metadata": {},
   "source": [
    "# Benvenuti!\n",
    "Benvenuti nel vostro primo quaderno di Jupyter!\n",
    "Il setup è completo, siete prontissimi per scrivere il vostro primo programma :)"
   ]
  },
  {
   "cell_type": "markdown",
   "id": "02631956-b079-44a0-bbee-e59cfb8a5f8b",
   "metadata": {},
   "source": [
    "# Jupyter Notebook"
   ]
  },
  {
   "cell_type": "markdown",
   "id": "0f58aa43-1a6f-4f73-88b1-ee9a36f8865b",
   "metadata": {},
   "source": [
    "Questa è una cella di testo\n",
    "\n",
    "Qui possiamo scrivere quello che vogliamo, per esempio annotare quello che stiamo facendo :)"
   ]
  },
  {
   "cell_type": "code",
   "execution_count": 15,
   "id": "ed6d6de7-ed81-421b-9eb2-bf1d9d830004",
   "metadata": {},
   "outputs": [],
   "source": [
    "# Questa è una cella di codice\n",
    "# Qui si scrive il codice che poi verrà interpretato"
   ]
  },
  {
   "cell_type": "markdown",
   "id": "868da899-40a2-4e24-97f3-9d8ae0c9c7f8",
   "metadata": {},
   "source": [
    "## Markdown\n",
    "Linguaggio molto semplice che descrive le regole di rappresentazione e impaginazione di un testo.\n",
    "\n",
    "# Titolo 1\n",
    "## Titolo 2\n",
    "### Titolo 3\n",
    "#### Titolo 4\n",
    "\n",
    "*Corsivo*\n",
    "\n",
    "**Grassetto**\n",
    "\n",
    "```python\n",
    "# Casella di codice interna a casella di testo\n",
    "```\n",
    "\n",
    "| Tabella | di | prova |\n",
    "| ------ | ----| ---|\n",
    "| Io sono | una | tabella |\n",
    "\n",
    "Formula matematica:\n",
    "\n",
    "$\\frac{3}{2}x - 4y \\ge e$"
   ]
  },
  {
   "cell_type": "markdown",
   "id": "2d8f6664-17ed-473c-b895-09386c15f9f9",
   "metadata": {},
   "source": [
    "# Python"
   ]
  },
  {
   "cell_type": "markdown",
   "id": "530920b5-423d-4f10-9acb-61508cc73711",
   "metadata": {},
   "source": [
    "Python è un linguaggio interpretato, perciò possiamo eseguire da riga di comando immediatamente delle espressioni.\n",
    "\n",
    "Ad esempio:"
   ]
  },
  {
   "cell_type": "code",
   "execution_count": 2,
   "id": "7f34ff41-a83e-4e82-88ad-e3b27257553e",
   "metadata": {},
   "outputs": [
    {
     "data": {
      "text/plain": [
       "24"
      ]
     },
     "execution_count": 2,
     "metadata": {},
     "output_type": "execute_result"
    }
   ],
   "source": [
    "8*3"
   ]
  },
  {
   "cell_type": "code",
   "execution_count": 20,
   "id": "97bc950b-5f6f-4627-902a-9d02a8273916",
   "metadata": {},
   "outputs": [
    {
     "data": {
      "text/plain": [
       "72"
      ]
     },
     "execution_count": 20,
     "metadata": {},
     "output_type": "execute_result"
    }
   ],
   "source": [
    "(5+7)*6"
   ]
  },
  {
   "cell_type": "code",
   "execution_count": 7,
   "id": "746c4a56-0533-48d5-8c6a-a8f5fc60f089",
   "metadata": {},
   "outputs": [],
   "source": [
    "# Questo è un commento in python\n",
    "# I commenti sono utilissimi, e servono al programmatore per capire immediatamente cosa sta succedendo in quella parte di codice\n",
    "# Tutto ciò che è commentato viene saltato dall'interprete"
   ]
  },
  {
   "cell_type": "code",
   "execution_count": 9,
   "id": "d5e92625-239b-45d1-bc51-669ed45e8e9d",
   "metadata": {},
   "outputs": [
    {
     "ename": "SyntaxError",
     "evalue": "invalid syntax (2928773205.py, line 2)",
     "output_type": "error",
     "traceback": [
      "\u001b[0;36m  Cell \u001b[0;32mIn[9], line 2\u001b[0;36m\u001b[0m\n\u001b[0;31m    ciao a tutti\u001b[0m\n\u001b[0m         ^\u001b[0m\n\u001b[0;31mSyntaxError\u001b[0m\u001b[0;31m:\u001b[0m invalid syntax\n"
     ]
    }
   ],
   "source": [
    "# Questo è un errore\n",
    "ciao a tutti"
   ]
  }
 ],
 "metadata": {
  "kernelspec": {
   "display_name": "Python [conda env:base] *",
   "language": "python",
   "name": "conda-base-py"
  },
  "language_info": {
   "codemirror_mode": {
    "name": "ipython",
    "version": 3
   },
   "file_extension": ".py",
   "mimetype": "text/x-python",
   "name": "python",
   "nbconvert_exporter": "python",
   "pygments_lexer": "ipython3",
   "version": "3.10.16"
  }
 },
 "nbformat": 4,
 "nbformat_minor": 5
}
