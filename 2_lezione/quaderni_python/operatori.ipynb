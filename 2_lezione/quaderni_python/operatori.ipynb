{
 "cells": [
  {
   "cell_type": "markdown",
   "id": "99d0d3e5-399b-4ceb-a1dc-20070708ed9d",
   "metadata": {},
   "source": [
    "# Operatori\n",
    "Abbiamo già incontrato e anche utilizzato vari tipi di operatori, approfondiamoli un po' più nel dettaglio e introduciamo i mancanti.\n",
    "## Operatori aritmetici\n",
    "| Operatore | Nome |\n",
    "| --------- | ------|\n",
    "| \\+|\tAddizione\t|\n",
    "| \\-| Sottrazione\t|\n",
    "| \\* |\tMoltiplicazione\t|\n",
    "| /\t| Divisione\t|\n",
    "| %\t| Modulo|\t\n",
    "| **| \tEsponenziale\t|\n",
    "| //\t| Floor |"
   ]
  },
  {
   "cell_type": "code",
   "execution_count": 3,
   "id": "9cf923a9-2777-40c8-8085-056b3802b3ee",
   "metadata": {},
   "outputs": [
    {
     "name": "stdout",
     "output_type": "stream",
     "text": [
      "13\n",
      "7\n",
      "30\n",
      "3.3333333333333335\n",
      "1\n",
      "1000\n",
      "3\n"
     ]
    }
   ],
   "source": [
    "x = 10\n",
    "y = 3\n",
    "\n",
    "# Addizione\n",
    "print(x + y)\n",
    "\n",
    "# Sottrazione\n",
    "print(x - y)\n",
    "\n",
    "# Moltiplicazione\n",
    "print(x * y)\n",
    "\n",
    "# Divisione\n",
    "print(x / y)\n",
    "\n",
    "# Modulo (resto della divisione)\n",
    "print(x % y)\n",
    "\n",
    "# Esponenziale\n",
    "print(x ** y)\n",
    "\n",
    "# Floor (divisione ad intero e scarta il resto)\n",
    "print(x // y)"
   ]
  },
  {
   "cell_type": "markdown",
   "id": "ce5a05a2-9c76-4bf0-82d0-acb980383822",
   "metadata": {},
   "source": [
    "#### Operatori aritmetici e stringhe\n",
    "Cosa succede se proviamo a sommare un intero con una stringa?"
   ]
  },
  {
   "cell_type": "code",
   "execution_count": 6,
   "id": "06d020ea-a4b2-4f22-8d9f-a3866d40bef2",
   "metadata": {},
   "outputs": [],
   "source": [
    "numero = 7\n",
    "parola = \"gente\"\n",
    "# print(numero+parola)\n",
    "# type(numero+parola)"
   ]
  },
  {
   "cell_type": "markdown",
   "id": "cb1d8772-221a-42ad-a625-282fa6429a56",
   "metadata": {},
   "source": [
    "Cosa accade se sommiamo due stringhe?"
   ]
  },
  {
   "cell_type": "code",
   "execution_count": 10,
   "id": "24cd732e-b036-484d-bf88-498db26e0b41",
   "metadata": {},
   "outputs": [
    {
     "name": "stdout",
     "output_type": "stream",
     "text": [
      "ciaogente\n"
     ]
    },
    {
     "data": {
      "text/plain": [
       "str"
      ]
     },
     "execution_count": 10,
     "metadata": {},
     "output_type": "execute_result"
    }
   ],
   "source": [
    "saluto = \"ciao\"\n",
    "print(saluto + parola)\n",
    "type(saluto + parola)"
   ]
  },
  {
   "cell_type": "markdown",
   "id": "c78990ee-d264-4a45-96f3-598c999fe49d",
   "metadata": {},
   "source": [
    "Cosa accade se proviamo a moltiplicare una stringa per un intero?\n",
    "Attenzione: non è possibile con i float."
   ]
  },
  {
   "cell_type": "code",
   "execution_count": 16,
   "id": "f82f2dba-0692-474b-9b5c-b2994f202b2b",
   "metadata": {},
   "outputs": [
    {
     "data": {
      "text/plain": [
       "'gentegentegente'"
      ]
     },
     "execution_count": 16,
     "metadata": {},
     "output_type": "execute_result"
    }
   ],
   "source": [
    "# Restituiscono lo stesso risultato\n",
    "parola * 3\n",
    "3 * parola"
   ]
  },
  {
   "cell_type": "markdown",
   "id": "dd9a4afb-18c1-4133-a15a-821884acb89d",
   "metadata": {},
   "source": [
    "## Operatori di assegnamento\n",
    "\n",
    "| Operatore |\n",
    "| --------- |\n",
    "| = |\n",
    "| +=|\n",
    "| -= |\n",
    "| *=\t|\n",
    "| /=\t|"
   ]
  },
  {
   "cell_type": "code",
   "execution_count": 19,
   "id": "6f4875fd-1d96-4b0a-b4e8-d0d27ae722ff",
   "metadata": {},
   "outputs": [
    {
     "name": "stdout",
     "output_type": "stream",
     "text": [
      "x =  10\n",
      "z = 10\n",
      "x =  15\n",
      "x =  10\n",
      "x =  50\n",
      "x =  10.0\n"
     ]
    }
   ],
   "source": [
    "# Operatore di assegnamento puro\n",
    "print(\"x = \",x)\n",
    "z = x\n",
    "print(\"z =\", z)\n",
    "\n",
    "# +=\n",
    "# x = x + 5\n",
    "x += 5\n",
    "print(\"x = \",x)\n",
    "\n",
    "# -=\n",
    "# x = x - 5\n",
    "x -= 5\n",
    "print(\"x = \",x)\n",
    "\n",
    "# *=\n",
    "# x = x * 5\n",
    "x *= 5\n",
    "print(\"x = \",x)\n",
    "\n",
    "# /=\n",
    "# x = x / 5\n",
    "x /= 5\n",
    "print(\"x = \",x)"
   ]
  },
  {
   "cell_type": "markdown",
   "id": "9b8bbb49-5257-475d-b135-c33db8ecd186",
   "metadata": {},
   "source": [
    "## Operatori di confronto\n",
    "Gli operatori di confronto restituiscono sempre valori booleani, tipo **bool**.\n",
    "\n",
    "| Operatore | Nome |\n",
    "| --------- | ------|\n",
    "| == |\tUguale\t|\n",
    "| != | Diverso\t|\n",
    "| > |\tMaggiore\t|\n",
    "| <\t| Minore\t|\n",
    "| >=\t| Maggiore uguale |\t\n",
    "| <= | \tMinore uguale\t|"
   ]
  },
  {
   "cell_type": "code",
   "execution_count": 22,
   "id": "b7e9233c-049b-4a36-a007-5c89424545ad",
   "metadata": {},
   "outputs": [
    {
     "name": "stdout",
     "output_type": "stream",
     "text": [
      "False\n",
      "True\n",
      "True\n",
      "False\n",
      "True\n",
      "False\n"
     ]
    }
   ],
   "source": [
    "# Uguale\n",
    "print(x == y)\n",
    "\n",
    "# Diverso\n",
    "print(x != y)\n",
    "\n",
    "# Maggiore\n",
    "print(x > y)\n",
    "\n",
    "# Minore\n",
    "print(x < y)\n",
    "\n",
    "# Maggiore uguale\n",
    "print(x >= y)\n",
    "\n",
    "# Minore uguale\n",
    "print(x <= y)"
   ]
  },
  {
   "cell_type": "markdown",
   "id": "f941d7a6-9227-4861-b2e9-976db60c4e48",
   "metadata": {},
   "source": [
    "## Operatori logici\n",
    "Esattamente come coi numeri o le stringhe, anche le varibili booleane hanno degli operatori che si possono usare per combinare valori booleani. \n",
    "Ce ne sono diversi, vediamo i tre principali:\n",
    "\n",
    "| Operatore | Descrizione |\n",
    "| --------- | ------|\n",
    "| and |\tRitorna **True** solo se entrambe le variabili sono vere\t|\n",
    "| or | Ritorna **True** se almeno una variabile è true\t|\n",
    "| not |\tNega il risultato, se la variabile è **False** ritorna **True**\t|\n",
    "\n",
    "**and** e **or** sono due operatori binari.\n",
    "\n",
    "**not** è un operatore unitario.\n",
    "\n",
    "### Tabelle di verità\n",
    "\n",
    "#### and\n",
    "\n",
    "| A   | B   | A and B |\n",
    "|-----|-----|---------|\n",
    "| True  | True  | True    |\n",
    "| True  | False | False   |\n",
    "| False | True  | False   |\n",
    "| False | False | False   |\n",
    "\n",
    "---\n",
    "\n",
    "#### or\n",
    "\n",
    "| A   | B   | A or B  |\n",
    "|-----|-----|---------|\n",
    "| True  | True  | True    |\n",
    "| True  | False | True    |\n",
    "| False | True  | True    |\n",
    "| False | False | False   |\n",
    "\n",
    "---\n",
    "\n",
    "#### not\n",
    "\n",
    "| A   | not A |\n",
    "|-----|-------|\n",
    "| True  | False |\n",
    "| False | True  |"
   ]
  },
  {
   "cell_type": "code",
   "execution_count": 28,
   "id": "b312bcfb-9de9-4cc5-af8d-c1b65b682cb9",
   "metadata": {},
   "outputs": [],
   "source": [
    "val1 = True\n",
    "val2 = False"
   ]
  },
  {
   "cell_type": "code",
   "execution_count": 30,
   "id": "e7f064f9-e5c7-4688-89bc-49aa30a584d9",
   "metadata": {},
   "outputs": [
    {
     "data": {
      "text/plain": [
       "False"
      ]
     },
     "execution_count": 30,
     "metadata": {},
     "output_type": "execute_result"
    }
   ],
   "source": [
    "val1 and val2"
   ]
  },
  {
   "cell_type": "code",
   "execution_count": 32,
   "id": "af723b78-96ec-4528-b529-6073a1a63caa",
   "metadata": {},
   "outputs": [
    {
     "data": {
      "text/plain": [
       "True"
      ]
     },
     "execution_count": 32,
     "metadata": {},
     "output_type": "execute_result"
    }
   ],
   "source": [
    "val1 or val2"
   ]
  },
  {
   "cell_type": "code",
   "execution_count": 34,
   "id": "a2297b18-312b-474a-9445-a9ab44428985",
   "metadata": {},
   "outputs": [
    {
     "data": {
      "text/plain": [
       "False"
      ]
     },
     "execution_count": 34,
     "metadata": {},
     "output_type": "execute_result"
    }
   ],
   "source": [
    "not val1  "
   ]
  },
  {
   "cell_type": "markdown",
   "id": "e732cd31-7772-4cf2-a690-57b4302ae10a",
   "metadata": {},
   "source": [
    "### Esercizio 6\n",
    "Scrivere una condizione che sia vera se e solo se **x** e **y** sono uguali oppure uno è il doppio dell'altro."
   ]
  },
  {
   "cell_type": "code",
   "execution_count": 37,
   "id": "25e9c90e-6c55-4a0e-9690-488be5e4712f",
   "metadata": {},
   "outputs": [
    {
     "data": {
      "text/plain": [
       "True"
      ]
     },
     "execution_count": 37,
     "metadata": {},
     "output_type": "execute_result"
    }
   ],
   "source": [
    "x = 5\n",
    "y = 10\n",
    "\n",
    "x == y or (x == y*2 or y == x*2)"
   ]
  },
  {
   "cell_type": "markdown",
   "id": "f19c3339-e999-49c2-8af4-bf46bfab75a3",
   "metadata": {},
   "source": [
    "### Esercizio 7\n",
    "Si possiede un nome utente e una password, restituire vero se e solo se l'utente inserisce correttamente le credenziali di login."
   ]
  },
  {
   "cell_type": "code",
   "execution_count": 42,
   "id": "9a1f6dec-bb95-4142-865f-5ebbcfe9867a",
   "metadata": {},
   "outputs": [
    {
     "name": "stdin",
     "output_type": "stream",
     "text": [
      "Inserire nome utente:\n",
      " user\n",
      "Inserire password:\n",
      " 1234\n"
     ]
    },
    {
     "data": {
      "text/plain": [
       "True"
      ]
     },
     "execution_count": 42,
     "metadata": {},
     "output_type": "execute_result"
    }
   ],
   "source": [
    "nome_utente = \"user\"\n",
    "password = \"1234\"\n",
    "nome_utente_inserito = input(\"Inserire nome utente:\\n\")\n",
    "password_inserita = input(\"Inserire password:\\n\")\n",
    "\n",
    "nome_utente == nome_utente_inserito and password == password_inserita"
   ]
  },
  {
   "cell_type": "markdown",
   "id": "56ba196f-9a8c-4337-9f3e-a37ebe337f93",
   "metadata": {},
   "source": [
    "### Esercizio 8\n",
    "Chiedere all'utente nome, cognome e anno di nascita.\n",
    "\n",
    "Salutare l'utente, calcolare la sua età (facciamo finta che basti l'anno) e restituire **True** se l'utente è maggiorenne, **False** se è minorenne."
   ]
  },
  {
   "cell_type": "code",
   "execution_count": 49,
   "id": "cc3a9f21-9925-47b8-a99e-d2f803679314",
   "metadata": {},
   "outputs": [
    {
     "name": "stdin",
     "output_type": "stream",
     "text": [
      "Inserire il proprio nome\n",
      " Nicolò\n",
      "Inserire il proprio cognome\n",
      " Trebino\n",
      "Inserire il proprio anno di nascita 2002\n"
     ]
    },
    {
     "name": "stdout",
     "output_type": "stream",
     "text": [
      "Ciao Nicolò Trebino, benvenuto!\n",
      "La tua età è: 23\n",
      "Tu sei maggiorenne:  True\n"
     ]
    }
   ],
   "source": [
    "nome = input(\"Inserire il proprio nome\\n\")\n",
    "cognome = input(\"Inserire il proprio cognome\\n\")\n",
    "anno_di_nascita = input(\"Inserire il proprio anno di nascita\")\n",
    "\n",
    "print(\"Ciao \" + nome + \" \" + cognome + \", benvenuto!\")\n",
    "età = 2025 - int(anno_di_nascita)\n",
    "print(\"La tua età è:\", età)\n",
    "print(\"Tu sei maggiorenne: \", età > 18)"
   ]
  }
 ],
 "metadata": {
  "kernelspec": {
   "display_name": "Python [conda env:base] *",
   "language": "python",
   "name": "conda-base-py"
  },
  "language_info": {
   "codemirror_mode": {
    "name": "ipython",
    "version": 3
   },
   "file_extension": ".py",
   "mimetype": "text/x-python",
   "name": "python",
   "nbconvert_exporter": "python",
   "pygments_lexer": "ipython3",
   "version": "3.10.16"
  }
 },
 "nbformat": 4,
 "nbformat_minor": 5
}
