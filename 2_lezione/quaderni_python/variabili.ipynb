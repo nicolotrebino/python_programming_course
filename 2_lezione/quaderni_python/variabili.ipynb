{
 "cells": [
  {
   "cell_type": "markdown",
   "id": "0cce7193-30d9-43a0-b310-a2c5d127738e",
   "metadata": {},
   "source": [
    "# Variabili\n",
    "## Introduzione\n",
    "\n",
    "Una variabile è una \"scatoletta\" che racchiude un valore.\n",
    "\n",
    "Possiamo assegnare alla scatoletta un **nome** qualunque e un **valore**, l'interprete andrà quindi a salvare questa scatoletta e il suo contenuto nel suo spazio di memoria.\n",
    "\n",
    "Una buona pratica di programmazione è dare dei nomi **parlanti** alle variabili, cioè cercare di chiamarle in modo tale da capire subito cosa c'è dentro."
   ]
  },
  {
   "cell_type": "code",
   "execution_count": 11,
   "id": "e0e5d74d-41ef-4d2f-b890-0b64e999cda7",
   "metadata": {},
   "outputs": [],
   "source": [
    "# Assegno alla variabile pippo il valore 3\n",
    "pippo = 3\n",
    "pluto = 5"
   ]
  },
  {
   "cell_type": "markdown",
   "id": "ee962c77-ee20-435d-b20d-f5dfc5f74213",
   "metadata": {},
   "source": [
    "L'operatore **=** in tutti i linguaggi di programmazione si chiama **operatore di assegnazione**.\n",
    "Infatti il suo compito è quello di assegnare a una variabile un determinato valore."
   ]
  },
  {
   "cell_type": "code",
   "execution_count": 14,
   "id": "0dbc1166-6426-4aaa-ba9b-0e8b0610bf96",
   "metadata": {},
   "outputs": [
    {
     "name": "stdout",
     "output_type": "stream",
     "text": [
      "Variable               Type        Data/Info\n",
      "--------------------------------------------\n",
      "dataframe_columns      function    <function dataframe_columns at 0x12b476e60>\n",
      "dataframe_hash         function    <function dataframe_hash at 0x1039c8430>\n",
      "dtypes_str             function    <function dtypes_str at 0x1039c8940>\n",
      "get_dataframes         function    <function get_dataframes at 0x12b477400>\n",
      "getpass                module      <module 'getpass' from '/<...>b/python3.10/getpass.py'>\n",
      "hashlib                module      <module 'hashlib' from '/<...>b/python3.10/hashlib.py'>\n",
      "import_pandas_safely   function    <function import_pandas_safely at 0x1039c89d0>\n",
      "is_data_frame          function    <function is_data_frame at 0x12b476ef0>\n",
      "json                   module      <module 'json' from '/opt<...>on3.10/json/__init__.py'>\n",
      "pippo                  int         3\n",
      "pluto                  int         5\n"
     ]
    }
   ],
   "source": [
    "# Comando built-in di IPython che mostra tutte le variabili definite nel notebook \n",
    "# con anche delle informazioni relative ad essi\n",
    "%whos"
   ]
  },
  {
   "cell_type": "markdown",
   "id": "33b5aec1-e78b-4118-a60e-301f59afe5de",
   "metadata": {},
   "source": [
    "## Funzione print()\n",
    "**print()** è una funzione!\n",
    "Parleremo più avanti, più nel dettaglio delle funzioni; per questa basta sapere che è una funzione *built-in* di Python, cioè che il linguaggio mette a disposizione del programmatore.\n",
    "La funzione **print()** semplicemente stampa il valore che gli viene passato tra parentesi."
   ]
  },
  {
   "cell_type": "code",
   "execution_count": 15,
   "id": "3329a4c7-f010-46f6-aaf2-c92b0c58885b",
   "metadata": {},
   "outputs": [
    {
     "name": "stdout",
     "output_type": "stream",
     "text": [
      "3\n",
      "5\n"
     ]
    }
   ],
   "source": [
    "print(pippo)\n",
    "print(pluto)"
   ]
  },
  {
   "cell_type": "code",
   "execution_count": 17,
   "id": "6cba702d-166d-4ce4-aced-8d9ef0f89145",
   "metadata": {},
   "outputs": [],
   "source": [
    "# Questo è un errore, RUN per vedere cosa ci dice l'interprete\n",
    "# print(pip)\n",
    "# print(Pippo) # Il Python è case-sensitive, A != a"
   ]
  },
  {
   "cell_type": "code",
   "execution_count": 18,
   "id": "dbd85d76-c659-41b7-a8f9-104639d30280",
   "metadata": {},
   "outputs": [
    {
     "name": "stdout",
     "output_type": "stream",
     "text": [
      "La variabile \"pippo\" ha valore: 3\n",
      "La variabile \"pippo\" ha valore: 3\n"
     ]
    }
   ],
   "source": [
    "print(f\"La variabile \\\"pippo\\\" ha valore: {pippo}\")\n",
    "print(\"La variabile \\\"pippo\\\" ha valore:\", pippo)"
   ]
  },
  {
   "cell_type": "markdown",
   "id": "e9adf676-77f8-472f-afae-c5ea2490776e",
   "metadata": {},
   "source": [
    "Se non ci si ricorda cosa fa una funzione basta scrivere:"
   ]
  },
  {
   "cell_type": "code",
   "execution_count": 19,
   "id": "d2424677-1e3e-4036-b459-2e59070a9532",
   "metadata": {},
   "outputs": [
    {
     "name": "stdout",
     "output_type": "stream",
     "text": [
      "Help on built-in function print in module builtins:\n",
      "\n",
      "print(...)\n",
      "    print(value, ..., sep=' ', end='\\n', file=sys.stdout, flush=False)\n",
      "    \n",
      "    Prints the values to a stream, or to sys.stdout by default.\n",
      "    Optional keyword arguments:\n",
      "    file:  a file-like object (stream); defaults to the current sys.stdout.\n",
      "    sep:   string inserted between values, default a space.\n",
      "    end:   string appended after the last value, default a newline.\n",
      "    flush: whether to forcibly flush the stream.\n",
      "\n"
     ]
    }
   ],
   "source": [
    "help(print)"
   ]
  },
  {
   "cell_type": "markdown",
   "id": "0b9f1df4-00fa-4631-8fa0-1ece0ece8d5f",
   "metadata": {},
   "source": [
    "### Esercizio 1\n",
    "Assegnare alla varabile **pippo** il valore della variabile **pluto**.\n",
    "Deve essere una soluzione generale, deve valere per ogni valore assegnato a **pluto**!"
   ]
  },
  {
   "cell_type": "code",
   "execution_count": 22,
   "id": "a620b170-cf06-499e-a2fe-df74a6faa671",
   "metadata": {},
   "outputs": [
    {
     "name": "stdout",
     "output_type": "stream",
     "text": [
      "5\n",
      "5\n"
     ]
    }
   ],
   "source": [
    "pippo = pluto\n",
    "print(pippo)\n",
    "print(pluto)"
   ]
  },
  {
   "cell_type": "markdown",
   "id": "93653659-55af-4b5e-8da2-4b56bc4b0ebe",
   "metadata": {},
   "source": [
    "### Esercizio 2\n",
    "Dato un trapezio con base maggiore, base minore e altezza rispettivamente: 100, 50, 25. \n",
    "Calcolarne l'area e stampare a schermo il risultato."
   ]
  },
  {
   "cell_type": "code",
   "execution_count": 24,
   "id": "fd5e1d78-82d3-4688-b792-e76dad4b8dbc",
   "metadata": {},
   "outputs": [
    {
     "name": "stdout",
     "output_type": "stream",
     "text": [
      "Il trapezio ha area: 1875.0\n"
     ]
    }
   ],
   "source": [
    "base_maggiore = 100\n",
    "base_minore = 50\n",
    "altezza = 25\n",
    "area_trapezio = (base_maggiore + base_minore)*altezza/2\n",
    "print(\"Il trapezio ha area:\", area_trapezio)"
   ]
  },
  {
   "cell_type": "markdown",
   "id": "99836f61-d073-483a-8435-e0b33683c5ca",
   "metadata": {},
   "source": [
    "### Esercizio 3\n",
    "Assegnare ad **a** un valore, alla variabile **b** un altro valore e scambiarli.\n",
    "Attenzione: ciò vuol dire che l'algoritmo deve funzionare per ogni valore di **a** e **b**"
   ]
  },
  {
   "cell_type": "code",
   "execution_count": 26,
   "id": "ea8a406a-ff3b-42e7-a2bb-82ebdf7823b2",
   "metadata": {},
   "outputs": [
    {
     "name": "stdout",
     "output_type": "stream",
     "text": [
      "a = 7\n",
      "b = 9\n",
      "a = 9\n",
      "b = 7\n"
     ]
    }
   ],
   "source": [
    "a = 7\n",
    "b = 9\n",
    "print(\"a =\", a)\n",
    "print(\"b =\", b)\n",
    "c = b\n",
    "b = a\n",
    "a = c\n",
    "print(\"a =\",a)\n",
    "print(\"b =\", b)"
   ]
  },
  {
   "cell_type": "markdown",
   "id": "fe247587-3738-4165-ba6e-6800297e5f0f",
   "metadata": {},
   "source": [
    "## Tipi di una variabile\n",
    "Una variabile ha sempre un tipo, può immagazzinare valori con tipi diversi.\n",
    "Il **tipo** denota la natura di una variabile.\n",
    "Python è molto intelligente (per nostra fortuna) e in base al valore che assegnamo a una variabile cambia il tipo in modo dinamico, si die che è **tipato dinamicamente** (concetto leggermente avanzato, i linguaggi di programmazione qui sono diversi tra loro, non tutti sono tipati dinamicamente)."
   ]
  },
  {
   "cell_type": "code",
   "execution_count": 28,
   "id": "c620a08a-ee8f-4495-a747-1c14a7393a79",
   "metadata": {},
   "outputs": [],
   "source": [
    "a = 10 # int -> questa variabile è di tipo intero\n",
    "b = 5.5 # float -> questa variabile è di tipo float\n",
    "c = \"Ciao a tutti\" # str -> questa variabile è una stringa\n",
    "d = True # bool -> questa variabile è un booleano"
   ]
  },
  {
   "cell_type": "markdown",
   "id": "32b3d5a5-68f6-4259-9895-275cd54cc749",
   "metadata": {},
   "source": [
    "Per verificare il tipo di una variabile si può utilizzare una funzione built-in di Python."
   ]
  },
  {
   "cell_type": "code",
   "execution_count": 30,
   "id": "80611746-6e2f-48ba-b86a-cc5063b16c0b",
   "metadata": {},
   "outputs": [
    {
     "data": {
      "text/plain": [
       "int"
      ]
     },
     "execution_count": 30,
     "metadata": {},
     "output_type": "execute_result"
    }
   ],
   "source": [
    "type(a)"
   ]
  },
  {
   "cell_type": "code",
   "execution_count": 31,
   "id": "51a4ee99-0ddf-4194-bf22-7d402b313074",
   "metadata": {},
   "outputs": [
    {
     "data": {
      "text/plain": [
       "float"
      ]
     },
     "execution_count": 31,
     "metadata": {},
     "output_type": "execute_result"
    }
   ],
   "source": [
    "type(b)"
   ]
  },
  {
   "cell_type": "code",
   "execution_count": 32,
   "id": "11cdd81b-9f58-4650-a0e5-938fbaf12f36",
   "metadata": {},
   "outputs": [
    {
     "data": {
      "text/plain": [
       "str"
      ]
     },
     "execution_count": 32,
     "metadata": {},
     "output_type": "execute_result"
    }
   ],
   "source": [
    "type(c)"
   ]
  },
  {
   "cell_type": "code",
   "execution_count": 33,
   "id": "68564e38-15a2-4fc8-88ec-dab67632596a",
   "metadata": {},
   "outputs": [
    {
     "data": {
      "text/plain": [
       "bool"
      ]
     },
     "execution_count": 33,
     "metadata": {},
     "output_type": "execute_result"
    }
   ],
   "source": [
    "type(d)"
   ]
  },
  {
   "cell_type": "markdown",
   "id": "d128071f-c9f9-428b-8634-89c98b20f910",
   "metadata": {},
   "source": [
    "### Int e float\n",
    "Provare a indovinare i tipi delle nuove variabili."
   ]
  },
  {
   "cell_type": "code",
   "execution_count": 35,
   "id": "e04ff2d2-b43a-4b37-936c-c1f130f7f2c8",
   "metadata": {},
   "outputs": [],
   "source": [
    "a = 10\n",
    "b = 5.5"
   ]
  },
  {
   "cell_type": "code",
   "execution_count": 36,
   "id": "f45bdb43-cdf1-4ec5-b7fc-d40c481f211b",
   "metadata": {},
   "outputs": [
    {
     "name": "stdout",
     "output_type": "stream",
     "text": [
      "20\n"
     ]
    },
    {
     "data": {
      "text/plain": [
       "int"
      ]
     },
     "execution_count": 36,
     "metadata": {},
     "output_type": "execute_result"
    }
   ],
   "source": [
    "print(a+a)\n",
    "type(a+a)"
   ]
  },
  {
   "cell_type": "code",
   "execution_count": 37,
   "id": "49d31c93-6c44-4f54-86c5-88e79e61a64c",
   "metadata": {},
   "outputs": [
    {
     "name": "stdout",
     "output_type": "stream",
     "text": [
      "15.5\n"
     ]
    },
    {
     "data": {
      "text/plain": [
       "float"
      ]
     },
     "execution_count": 37,
     "metadata": {},
     "output_type": "execute_result"
    }
   ],
   "source": [
    "print(a+b)\n",
    "type(a+b)"
   ]
  },
  {
   "cell_type": "code",
   "execution_count": 38,
   "id": "eaabf71d-6334-4b7e-81dc-855b461d0c08",
   "metadata": {},
   "outputs": [
    {
     "name": "stdout",
     "output_type": "stream",
     "text": [
      "11.0\n"
     ]
    },
    {
     "data": {
      "text/plain": [
       "float"
      ]
     },
     "execution_count": 38,
     "metadata": {},
     "output_type": "execute_result"
    }
   ],
   "source": [
    "c = 5.5\n",
    "print(b+c)\n",
    "type(b+c)"
   ]
  },
  {
   "cell_type": "markdown",
   "id": "33830a53-a5fe-470b-abc4-b1e12ed7fb91",
   "metadata": {},
   "source": [
    "### Stringhe\n",
    "Esistono molti modi per interagire con delle stringhe."
   ]
  },
  {
   "cell_type": "code",
   "execution_count": 40,
   "id": "37d63b3e-4220-436b-ab94-fe1b7086dcba",
   "metadata": {},
   "outputs": [
    {
     "data": {
      "text/plain": [
       "str"
      ]
     },
     "execution_count": 40,
     "metadata": {},
     "output_type": "execute_result"
    }
   ],
   "source": [
    "testo = \"Questo corso di informatica è proprio bello, programmare mi sta divertendo un sacco!\"\n",
    "type(testo)"
   ]
  },
  {
   "cell_type": "code",
   "execution_count": 41,
   "id": "ade214ac-4f45-4f95-8df9-b248c092e76d",
   "metadata": {},
   "outputs": [
    {
     "data": {
      "text/plain": [
       "str"
      ]
     },
     "execution_count": 41,
     "metadata": {},
     "output_type": "execute_result"
    }
   ],
   "source": [
    "frase = 'Che bella giornata'\n",
    "type(frase)"
   ]
  },
  {
   "cell_type": "code",
   "execution_count": 42,
   "id": "68db0fdb-514d-4bfb-bb72-300755814f1a",
   "metadata": {},
   "outputs": [
    {
     "data": {
      "text/plain": [
       "str"
      ]
     },
     "execution_count": 42,
     "metadata": {},
     "output_type": "execute_result"
    }
   ],
   "source": [
    "intero_o_stringa = '345'\n",
    "type(intero_o_stringa)"
   ]
  },
  {
   "cell_type": "markdown",
   "id": "aef08932-ff5e-4f4e-b090-c3668e2cae72",
   "metadata": {},
   "source": [
    "Si può utilizzare la funzione built-in per estrarre la lunghezza della stringa."
   ]
  },
  {
   "cell_type": "code",
   "execution_count": 51,
   "id": "d0455d9f-3e25-4df0-8d76-9b11d3899f4e",
   "metadata": {},
   "outputs": [
    {
     "data": {
      "text/plain": [
       "84"
      ]
     },
     "execution_count": 51,
     "metadata": {},
     "output_type": "execute_result"
    }
   ],
   "source": [
    "len(testo)"
   ]
  },
  {
   "cell_type": "markdown",
   "id": "f5c157a6-e7d9-441f-ad07-ec04c8499031",
   "metadata": {},
   "source": [
    "#### Metodi\n",
    "\n",
    "| Metodo         | Descrizione                                                              |\n",
    "|----------------|--------------------------------------------------------------------------|\n",
    "| capitalize()   | Converte il primo carattere in maiuscolo                                 |\n",
    "| count()        | Restituisce il numero di volte in cui un valore specifico appare in una stringa |\n",
    "| index()        | Cerca nella stringa un valore specifico e restituisce la posizione in cui è stato trovato |\n",
    "| isalnum()      | Restituisce True se tutti i caratteri nella stringa sono alfanumerici    |\n",
    "| isalpha()      | Restituisce True se tutti i caratteri nella stringa sono lettere         |\n",
    "| isascii()      | Restituisce True se tutti i caratteri nella stringa sono caratteri ASCII |\n",
    "| isdecimal()    | Restituisce True se tutti i caratteri nella stringa sono numeri decimali |\n",
    "| isdigit()      | Restituisce True se tutti i caratteri nella stringa sono numeri          |\n",
    "| islower()      | Restituisce True se tutti i caratteri nella stringa sono minuscoli       |\n",
    "| lower()        | Converte una stringa in minuscolo                                       |\n",
    "| swapcase()     | Inverte maiuscole e minuscole: le maiuscole diventano minuscole e viceversa |\n",
    "| title()        | Converte il primo carattere di ogni parola in maiuscolo                 |\n",
    "| upper()        | Converte una stringa in maiuscolo                                       |\n",
    "\n",
    "**Esempi**:"
   ]
  },
  {
   "cell_type": "code",
   "execution_count": 6,
   "id": "e73a7c41-bd44-416c-89c2-501f2e659896",
   "metadata": {},
   "outputs": [
    {
     "name": "stdout",
     "output_type": "stream",
     "text": [
      "Capitalize: Ciao a tutti!\n",
      "È composto solo da numeri?: True\n",
      "È composto solo da numeri?: False\n",
      "In minuscolo: hello world\n",
      "Swapcase: pYTHON È fANTASTICO!\n",
      "È alfanumerico?: True\n",
      "È alfanumerico?: False\n"
     ]
    }
   ],
   "source": [
    "# capitalize()\n",
    "frase = \"ciao a tutti!\"\n",
    "print(\"Capitalize:\", frase.capitalize())  # Converte il primo carattere in maiuscolo\n",
    "\n",
    "# isdigit()\n",
    "testo = \"12345\"\n",
    "print(\"È composto solo da numeri?:\", testo.isdigit())  # True, perché tutti i caratteri sono numeri\n",
    "testo2 = \"123a45\"\n",
    "print(\"È composto solo da numeri?:\", testo2.isdigit())  # False, c'è una lettera\n",
    "\n",
    "# lower()\n",
    "parola = \"HELLO WORLD\"\n",
    "print(\"In minuscolo:\", parola.lower())  # Converte tutta la stringa in minuscolo\n",
    "\n",
    "# swapcase()\n",
    "parola = \"Python è Fantastico!\"\n",
    "print(\"Swapcase:\", parola.swapcase())  # Converte maiuscole in minuscole e viceversa\n",
    "\n",
    "# isalnum()\n",
    "stringa = \"Python3\"\n",
    "print(\"È alfanumerico?:\", stringa.isalnum())  # True, contiene solo lettere e numeri\n",
    "stringa2 = \"Python 3!\"\n",
    "print(\"È alfanumerico?:\", stringa2.isalnum())  # False, ci sono spazi e caratteri speciali\n"
   ]
  },
  {
   "cell_type": "markdown",
   "id": "bd989dcf-9ae5-477d-bc1e-df0601886a0f",
   "metadata": {},
   "source": [
    "### Booleani\n",
    "Concetto molto importante in programmazione, utilizzato per valutare se un'espressione qualsiasi sia Vera (**True**) o falsa (**False**).\n",
    "Concetto molto legato al **bit**, l'unità standard utilizzata dai computer (**0**, **1**)"
   ]
  },
  {
   "cell_type": "code",
   "execution_count": 58,
   "id": "794cda00-62fc-4229-baa6-66d16d28f098",
   "metadata": {},
   "outputs": [
    {
     "data": {
      "text/plain": [
       "bool"
      ]
     },
     "execution_count": 58,
     "metadata": {},
     "output_type": "execute_result"
    }
   ],
   "source": [
    "a = 5<7\n",
    "type(a)"
   ]
  },
  {
   "cell_type": "code",
   "execution_count": 59,
   "id": "21033e0b-b0df-46d6-b30c-7eef201a70d8",
   "metadata": {},
   "outputs": [
    {
     "data": {
      "text/plain": [
       "False"
      ]
     },
     "execution_count": 59,
     "metadata": {},
     "output_type": "execute_result"
    }
   ],
   "source": [
    "10<9"
   ]
  },
  {
   "cell_type": "code",
   "execution_count": 60,
   "id": "38a8b199-edb1-4e32-8558-2460eae75b0c",
   "metadata": {},
   "outputs": [
    {
     "data": {
      "text/plain": [
       "True"
      ]
     },
     "execution_count": 60,
     "metadata": {},
     "output_type": "execute_result"
    }
   ],
   "source": [
    "9<10"
   ]
  },
  {
   "cell_type": "markdown",
   "id": "fed3fe00-7d80-4bc1-99d5-a347c467bec9",
   "metadata": {},
   "source": [
    "Bisogna fare attenzione a una questione: in Python, ma in generale in tutti i linguaggi di programmazione, tutti i valori sono **True**, pochi sono i valori **False**; utilizziamo una funzione built-in per capire meglio il concetto."
   ]
  },
  {
   "cell_type": "code",
   "execution_count": 62,
   "id": "ddf26f9f-9a65-4dc6-9a0e-26eda0b0edf8",
   "metadata": {},
   "outputs": [
    {
     "data": {
      "text/plain": [
       "False"
      ]
     },
     "execution_count": 62,
     "metadata": {},
     "output_type": "execute_result"
    }
   ],
   "source": [
    "bool(False)\n",
    "bool(None)\n",
    "bool(0)\n",
    "bool(\"\")\n",
    "bool(())\n",
    "bool([])\n",
    "bool({})"
   ]
  },
  {
   "cell_type": "code",
   "execution_count": 63,
   "id": "749bafd6-5e9a-43e0-9074-d794d584e380",
   "metadata": {},
   "outputs": [
    {
     "data": {
      "text/plain": [
       "True"
      ]
     },
     "execution_count": 63,
     "metadata": {},
     "output_type": "execute_result"
    }
   ],
   "source": [
    "bool(10)\n",
    "bool(\"ciao\")"
   ]
  },
  {
   "cell_type": "markdown",
   "id": "8501d6ab-5fab-4061-8064-2138f39725fb",
   "metadata": {},
   "source": [
    "## Funzione input()\n",
    "Una importantissima funzione built-in di Python è la funzione **input** che permette all'utente di dare degli input testuali al programma e salvarli in una variabile."
   ]
  },
  {
   "cell_type": "code",
   "execution_count": 66,
   "id": "c11049c7-e7e8-4cd2-9e3f-bcad62ad8e75",
   "metadata": {},
   "outputs": [
    {
     "name": "stdin",
     "output_type": "stream",
     "text": [
      " Ciao\n"
     ]
    },
    {
     "data": {
      "text/plain": [
       "'Ciao'"
      ]
     },
     "execution_count": 66,
     "metadata": {},
     "output_type": "execute_result"
    }
   ],
   "source": [
    "input()"
   ]
  },
  {
   "cell_type": "code",
   "execution_count": 67,
   "id": "4d497c17-d684-4ae7-a598-c5026724afdc",
   "metadata": {},
   "outputs": [
    {
     "name": "stdin",
     "output_type": "stream",
     "text": [
      "Inserire nome utente user\n"
     ]
    }
   ],
   "source": [
    "user = input(\"Inserire nome utente\")"
   ]
  },
  {
   "cell_type": "code",
   "execution_count": 68,
   "id": "467f9e5c-ab81-4780-accd-9a32beab884b",
   "metadata": {},
   "outputs": [
    {
     "name": "stdin",
     "output_type": "stream",
     "text": [
      "Inserire PIN\n",
      " 1234\n"
     ]
    }
   ],
   "source": [
    "pin = input(\"Inserire PIN\\n\")"
   ]
  },
  {
   "cell_type": "code",
   "execution_count": 69,
   "id": "041cc339-2372-4122-a454-8f04387e4cf1",
   "metadata": {},
   "outputs": [
    {
     "name": "stdout",
     "output_type": "stream",
     "text": [
      "<class 'str'>\n",
      "<class 'str'>\n"
     ]
    }
   ],
   "source": [
    "print(type(user))\n",
    "print(type(pin))"
   ]
  },
  {
   "cell_type": "markdown",
   "id": "f2df1d72-2aae-4bfc-8d41-f531503cb3cb",
   "metadata": {},
   "source": [
    "### Esercizio 4a\n",
    "Dato il bilancio del vostro portafoglio, inserire una spesa appena eseguita e aggiornare il bilancio."
   ]
  },
  {
   "cell_type": "code",
   "execution_count": 71,
   "id": "48873553-3f5d-4308-8679-3f1b665a2b12",
   "metadata": {},
   "outputs": [
    {
     "name": "stdin",
     "output_type": "stream",
     "text": [
      "Inserire l'importo della nuova spesa 25\n"
     ]
    }
   ],
   "source": [
    "bilancio = 120\n",
    "spesa = input(\"Inserire l'importo della nuova spesa\")\n",
    "\n",
    "# Errore, Python non riesce a fare la differenza tra un intero e una stringa\n",
    "# risultato = bilancio - spesa\n",
    "# print(\"Il nuovo bilancio è pari a:\")\n",
    "# print(risultato)"
   ]
  },
  {
   "cell_type": "markdown",
   "id": "0d69486c-4204-4555-a20e-b792b53b8454",
   "metadata": {},
   "source": [
    "## Casting\n",
    "Il casting è l'azione usata per specificare il tipo di una variabile.\n",
    "Ci sono casi, ad esempio l'esercizio precedente, in cui si vuole specificare il tipo di nua variabile per poter eseguire determinate operazioni successive.\n",
    "Data una variabile x, possiamo eseguire 3 diversi tipi di casting:\n",
    "- casting a stringa -> str(x)\n",
    "- casting a intero -> int(x)\n",
    "- casting a float -> float(x)"
   ]
  },
  {
   "cell_type": "code",
   "execution_count": 73,
   "id": "e0a11abc-291b-4f79-a4f1-30275af46113",
   "metadata": {},
   "outputs": [
    {
     "data": {
      "text/plain": [
       "int"
      ]
     },
     "execution_count": 73,
     "metadata": {},
     "output_type": "execute_result"
    }
   ],
   "source": [
    "x = 10\n",
    "type(x)"
   ]
  },
  {
   "cell_type": "code",
   "execution_count": 74,
   "id": "41440965-1c70-495b-998d-d90ec5223376",
   "metadata": {},
   "outputs": [
    {
     "name": "stdout",
     "output_type": "stream",
     "text": [
      "10\n",
      "<class 'int'>\n"
     ]
    }
   ],
   "source": [
    "str(x)\n",
    "print(x)\n",
    "print(type(x)) # Notare che qui x è sempre un intero, il casting non sostituisce in generale il tipo di una variabile"
   ]
  },
  {
   "cell_type": "code",
   "execution_count": 75,
   "id": "7a8fd095-64c1-4598-ad02-88fc544c25ba",
   "metadata": {},
   "outputs": [
    {
     "data": {
      "text/plain": [
       "str"
      ]
     },
     "execution_count": 75,
     "metadata": {},
     "output_type": "execute_result"
    }
   ],
   "source": [
    "x = str(x)\n",
    "type(x)"
   ]
  },
  {
   "cell_type": "markdown",
   "id": "21a06854-e7f6-426a-a80f-ee8f32134cca",
   "metadata": {},
   "source": [
    "### Esercizio 4b\n",
    "Riprovare con le nuove conoscenze acquisite.\n",
    "Dato il bilancio del vostro portafoglio, inserire una spesa appena eseguita e aggiornare il bilancio."
   ]
  },
  {
   "cell_type": "code",
   "execution_count": 77,
   "id": "2ec57b7f-3ccc-4f6b-90f0-d32229ed30ac",
   "metadata": {},
   "outputs": [
    {
     "name": "stdin",
     "output_type": "stream",
     "text": [
      "Inserire l'importo della nuova spesa 25\n"
     ]
    },
    {
     "name": "stdout",
     "output_type": "stream",
     "text": [
      "Il nuovo bilancio è pari a:\n",
      "95\n"
     ]
    }
   ],
   "source": [
    "bilancio = 120\n",
    "spesa = input(\"Inserire l'importo della nuova spesa\")\n",
    "\n",
    "risultato = bilancio - int(spesa)\n",
    "print(\"Il nuovo bilancio è pari a:\")\n",
    "print(risultato)"
   ]
  },
  {
   "cell_type": "code",
   "execution_count": 78,
   "id": "5cf9d9c4-ec7d-4cfe-a3bc-f0442cd2f5db",
   "metadata": {},
   "outputs": [
    {
     "name": "stdin",
     "output_type": "stream",
     "text": [
      "Inserire l'importo della nuova spesa 25\n"
     ]
    },
    {
     "name": "stdout",
     "output_type": "stream",
     "text": [
      "Il nuovo bilancio è pari a:\n",
      "95\n"
     ]
    }
   ],
   "source": [
    "# Oppure\n",
    "bilancio = 120\n",
    "spesa = input(\"Inserire l'importo della nuova spesa\")\n",
    "\n",
    "spesa = int(spesa) # ricordarsi di sovrascrivere la variabile con il nuovo tipo \n",
    "risultato = bilancio - spesa\n",
    "print(\"Il nuovo bilancio è pari a:\")\n",
    "print(risultato)"
   ]
  },
  {
   "cell_type": "markdown",
   "id": "9bad2f61-1018-4bd0-a661-442ab235bc71",
   "metadata": {},
   "source": [
    "### Esercizio 5\n",
    "Calcolo area e perimetro di un rettangolo\n",
    "- Dare il benvenuto all'utente\n",
    "- Chiedere all'utente di inserire i valori di base e altezza di un rettangolo\n",
    "- Calcolare area\n",
    "- Calcolare perimetro\n",
    "- Stampare area e perimetro della figura"
   ]
  },
  {
   "cell_type": "code",
   "execution_count": 80,
   "id": "b5e4b488-07c4-4e04-90e7-c5d03a14b1f6",
   "metadata": {},
   "outputs": [
    {
     "name": "stdout",
     "output_type": "stream",
     "text": [
      "Benvenuto, posso aiutarti a calcolare l'area e il perimetro di un rettangolo.\n",
      "Forniscimi base e altezza.\n"
     ]
    },
    {
     "name": "stdin",
     "output_type": "stream",
     "text": [
      "Base:\n",
      " 12\n",
      "Altezza:\n",
      " 8\n"
     ]
    },
    {
     "name": "stdout",
     "output_type": "stream",
     "text": [
      "Il perimetro del rettangolo vale: 40.0\n",
      "L'area del rettangolo vale: 96.0\n"
     ]
    }
   ],
   "source": [
    "# Presentazione e benvenuto all'utente\n",
    "print(\"Benvenuto, posso aiutarti a calcolare l'area e il perimetro di un rettangolo.\")\n",
    "print(\"Forniscimi base e altezza.\")\n",
    "\n",
    "# Salvo i valori di base e altezza\n",
    "b = float(input(\"Base:\\n\"))\n",
    "h = float(input(\"Altezza:\\n\"))\n",
    "\n",
    "# Calcolo l'area\n",
    "area = b*h\n",
    "\n",
    "# Calcolo il perimetro\n",
    "perimetro = b+b+h+h\n",
    "\n",
    "# Stampo a schermo i risultati\n",
    "print(\"Il perimetro del rettangolo vale: \" + str(perimetro))\n",
    "print(\"L'area del rettangolo vale: \" + str(area))"
   ]
  }
 ],
 "metadata": {
  "kernelspec": {
   "display_name": "Python [conda env:base] *",
   "language": "python",
   "name": "conda-base-py"
  },
  "language_info": {
   "codemirror_mode": {
    "name": "ipython",
    "version": 3
   },
   "file_extension": ".py",
   "mimetype": "text/x-python",
   "name": "python",
   "nbconvert_exporter": "python",
   "pygments_lexer": "ipython3",
   "version": "3.10.16"
  },
  "panel-cell-order": [
   "0b408fed-a402-4771-933e-011135a9b599",
   "a11a64cd-64c2-4993-907d-6eabe9f0356c"
  ]
 },
 "nbformat": 4,
 "nbformat_minor": 5
}
