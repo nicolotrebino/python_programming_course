{
 "cells": [
  {
   "cell_type": "markdown",
   "id": "79c45412-4f12-4017-9099-ec6b11dd9306",
   "metadata": {},
   "source": [
    "# Esercizi (if else)\n",
    "\n",
    "## Esercizio 1\n",
    "Scrivi un programma che chieda all'utente di inserire tre numeri interi che rappresentano i lati di un triangolo. \n",
    "\n",
    "Il programma deve verificare se questi tre numeri formano un triangolo rettangolo. \n",
    "\n",
    "Se i tre numeri soddisfano la condizione per essere un triangolo rettangolo (cioè rispettano il teorema di Pitagora), allora stampa \"I tre numeri formano un triangolo rettangolo\". \n",
    "\n",
    "Altrimenti, stampa \"I tre numeri non formano un triangolo rettangolo\".\n",
    "\n",
    "### Teorema di Pitagora\n",
    "\n",
    "Il **Teorema di Pitagora** afferma che in un **triangolo rettangolo**, la somma dei quadrati dei due cateti è uguale al quadrato dell'ipotenusa.  \n",
    "\n",
    "### Formula:\n",
    "$$\n",
    "a^2 + b^2 = c^2\n",
    "$$\n",
    "Dove:\n",
    "- $a$ e $b$ sono i cateti\n",
    "- $c$ è l'ipotenusa (il lato opposto all'angolo retto)"
   ]
  },
  {
   "cell_type": "code",
   "execution_count": 5,
   "id": "b0cddf6a-7c4b-4a96-8e22-22c2cc3e5e76",
   "metadata": {},
   "outputs": [
    {
     "name": "stdin",
     "output_type": "stream",
     "text": [
      "Inserisci il primo lato:  5\n",
      "Inserisci il secondo lato:  6\n",
      "Inserisci il terzo lato:  7\n"
     ]
    },
    {
     "name": "stdout",
     "output_type": "stream",
     "text": [
      "I tre numeri non formano un triangolo rettangolo\n"
     ]
    }
   ],
   "source": [
    "a = int(input(\"Inserisci il primo lato: \"))\n",
    "b = int(input(\"Inserisci il secondo lato: \"))\n",
    "c = int(input(\"Inserisci il terzo lato: \"))\n",
    "\n",
    "if a**2 + b**2 == c**2 or a**2 + c**2 == b**2 or b**2 + c**2 == a**2:\n",
    "    print(\"I tre numeri formano un triangolo rettangolo\")\n",
    "else:\n",
    "    print(\"I tre numeri non formano un triangolo rettangolo\")"
   ]
  },
  {
   "cell_type": "markdown",
   "id": "9a8b076c-a9b6-402f-a8dd-9ee4faf94e5a",
   "metadata": {},
   "source": [
    "## Esercizio 2\n",
    "### Calcolo area di una figura a scelta\n",
    "Scrivere un programma per calcolare l'area geometrica di una figura.\n",
    "\n",
    "Chiedere all’utente quale figura geometrica vuole calcolare (quadrato, rettangolo o cerchio) e calcolare l’area corrispondente.\n",
    "\n",
    "NOTA: per calcolare l'area del cerchio servirà il pi greco; per utilizzare il vero pi greco reale illimitato bisogna utilizzare la libreria math, altrimenti utilizzare il solito 3,14."
   ]
  },
  {
   "cell_type": "code",
   "execution_count": 26,
   "id": "09594d72-5bdd-4811-86de-aa2c7b27a6a7",
   "metadata": {},
   "outputs": [
    {
     "data": {
      "text/plain": [
       "3.141592653589793"
      ]
     },
     "execution_count": 26,
     "metadata": {},
     "output_type": "execute_result"
    }
   ],
   "source": [
    "import math\n",
    "\n",
    "math.pi"
   ]
  },
  {
   "cell_type": "code",
   "execution_count": 5,
   "id": "1fe718e5-0e4d-4610-b4a7-a197c1526a96",
   "metadata": {},
   "outputs": [
    {
     "name": "stdout",
     "output_type": "stream",
     "text": [
      "Scegli una figura geometrica:\n",
      "1 - Quadrato\n",
      "2 - Rettangolo\n",
      "3 - Cerchio\n"
     ]
    },
    {
     "name": "stdin",
     "output_type": "stream",
     "text": [
      "Inserisci la tua scelta (1, 2 o 3):  2\n",
      "Inserisci la base del rettangolo:  5\n",
      "Inserisci l'altezza del rettangolo:  6\n"
     ]
    },
    {
     "name": "stdout",
     "output_type": "stream",
     "text": [
      "L'area del rettangolo è 30.0.\n"
     ]
    }
   ],
   "source": [
    "import math  # Importa la libreria math\n",
    "\n",
    "print(\"Scegli una figura geometrica:\")\n",
    "print(\"1 - Quadrato\")\n",
    "print(\"2 - Rettangolo\")\n",
    "print(\"3 - Cerchio\")\n",
    "scelta = int(input(\"Inserisci la tua scelta (1, 2 o 3): \"))\n",
    "\n",
    "if scelta == 1:\n",
    "    lato = float(input(\"Inserisci la lunghezza del lato del quadrato: \"))\n",
    "    area = lato ** 2\n",
    "    print(f\"L'area del quadrato è {area}.\")\n",
    "elif scelta == 2:\n",
    "    base = float(input(\"Inserisci la base del rettangolo: \"))\n",
    "    altezza = float(input(\"Inserisci l'altezza del rettangolo: \"))\n",
    "    area = base * altezza\n",
    "    print(f\"L'area del rettangolo è {area}.\")\n",
    "elif scelta == 3:\n",
    "    raggio = float(input(\"Inserisci il raggio del cerchio: \"))\n",
    "    area = math.pi * raggio ** 2  # Usa math.pi per il valore di π\n",
    "    print(f\"L'area del cerchio è {area:.2f}.\")\n",
    "else:\n",
    "    print(\"Scelta non valida!\")"
   ]
  },
  {
   "cell_type": "markdown",
   "id": "2e491c3a-c16b-46ca-99ce-4a6af4ad14b5",
   "metadata": {},
   "source": [
    "## Esercizio 3\n",
    "### Applicazione bancaria\n",
    "Creare una applicazione bancaria che permette di effettuare un prelievo o deposito monetario. \n",
    "\n",
    "1. Effettuare il login chiedendo separatamente nome utente e password. Ci sono solo due utenti registrati. Se il nome utente o la password sono errati (la coppia non è corretta, oppure il nome utente non esiste), dare un messaggio di errore e terminare il programma.\n",
    "\n",
    "2. Se il login è corretto, stampare il bilancio del conto e chiedere se l'operazione desiderata è prelievo o deposito. Qualunque altro inserimento risulta nella terminazione del programma con un messaggio di errore.\n",
    "\n",
    "3. Se l'operazione è di deposito, chiedere la cifra (si assuma che l'utente inserisca un intero), aggiornare il totale del conto e stamparlo a video terminando così il programma.\n",
    "\n",
    "4. Se l'operazione è di prelievo, chiedere la cifra (si assuma che l'utente inserisca un intero) e verificare che il bilancio sia sufficente. Se lo è detrarlo dal totale e stampare il nuovo bilancio a video terminando così il programma. Se non lo è terminare il programma con un messaggio di errore."
   ]
  },
  {
   "cell_type": "code",
   "execution_count": 9,
   "id": "58579316-b94e-4967-8c00-225efb717b9d",
   "metadata": {},
   "outputs": [
    {
     "name": "stdin",
     "output_type": "stream",
     "text": [
      "Inserire nome utente:\n",
      " Nicolò\n",
      "Inserire la password:\n",
      " ciao\n"
     ]
    },
    {
     "name": "stdout",
     "output_type": "stream",
     "text": [
      "Credenziali errate, impossibile accedere al servizio!\n",
      "Arrivederci!\n"
     ]
    }
   ],
   "source": [
    "# Utenti \n",
    "user1 = \"Mario\"\n",
    "psw1 = \"Idraulico81\"\n",
    "bilancio1 = 1300\n",
    "\n",
    "user2 = \"Luigi\"\n",
    "psw2 = \"Idraulico83\"\n",
    "bilancio2 = 2100\n",
    "\n",
    "# Input credenziali utente da tastiera\n",
    "username = input(\"Inserire nome utente:\\n\")\n",
    "password = input(\"Inserire la password:\\n\")\n",
    "\n",
    "# Controllo correttezza credenziali \n",
    "is1 = username == user1 and password == psw1\n",
    "is2 = username == user2 and password == psw2\n",
    "\n",
    "if is1 or is2:\n",
    "    print(\"Benvenuto \" + username + \"!\")\n",
    "    \n",
    "    # Stampa bilancio utente\n",
    "    if is1:\n",
    "        print(\"Bilancio: \" + str(bilancio1))\n",
    "    else:\n",
    "        print(\"Bilancio: \" + str(bilancio2))\n",
    "\n",
    "    # Selezionare operazione da svolgere\n",
    "    operazione = int(input(\"Selezionare l'operazione da svolgere: 1 - deposito, 2 - prelievo\"))\n",
    "\n",
    "    # Operazione di deposito\n",
    "    if operazione == 1:\n",
    "        print(\"Hai selezionato l'operazione di DEPOSITO\")\n",
    "        cifra_deposito = int(input(\"Inserire la cifra che si vuole depositare sul conto:\\n\"))\n",
    "        # Utente 1\n",
    "        if is1:\n",
    "            bilancio1 += cifra_deposito\n",
    "            print(\"Operazione eseguita\\n\")\n",
    "            print(f\"Il tuo attuale bilancio ammonta a: {bilancio1}\")\n",
    "        # Utente 2\n",
    "        else:\n",
    "            bilancio2 += cifra_deposito\n",
    "            print(\"Operazione eseguita\\n\")\n",
    "            print(f\"Il tuo attuale bilancio ammonta a: {bilancio2}\")\n",
    "\n",
    "    # Operazione di prelievo\n",
    "    elif operazione == 2:\n",
    "        print(\"Hai selezionato l'operazione di PRELIEVO\")\n",
    "        cifra_deposito = int(input(\"Inserire la cifra che si vuole prelevare dal proprio conto:\\n\"))\n",
    "        # Utente 1\n",
    "        if is1:\n",
    "            # Controllo di avere i soldi per il prelievo\n",
    "            if cifra_deposito <= bilancio1:\n",
    "                bilancio1 -= cifra_deposito\n",
    "                print(\"Operazione eseguita\\n\")\n",
    "                print(f\"Il tuo attuale bilancio ammonta a: {bilancio1}\")\n",
    "            else:\n",
    "                print(\"Non puoi prelevare più soldi di quelli che hai sul conto, mi dispiace!\")\n",
    "        # Utente 2\n",
    "        else:\n",
    "            # Controllo di avere i soldi per il prelievo\n",
    "            if cifra_deposito <= bilancio2:\n",
    "                bilancio2 -= cifra_deposito\n",
    "                print(\"Operazione eseguita\\n\")\n",
    "                print(f\"Il tuo attuale bilancio ammonta a: {bilancio2}\")\n",
    "            else:\n",
    "                print(\"Non puoi prelevare più soldi di quelli che hai sul conto, mi dispiace!\")\n",
    "\n",
    "    # Operazione inserita inesistente\n",
    "    else:\n",
    "        print(\"L'operazione inserita è inesistente.\")\n",
    "        \n",
    "# Credenziali errate     \n",
    "else:\n",
    "    print(\"Credenziali errate, impossibile accedere al servizio!\")\n",
    "print(\"Arrivederci!\")"
   ]
  },
  {
   "cell_type": "markdown",
   "id": "f64e1dda-7947-42be-b7cc-8782083f5e1d",
   "metadata": {},
   "source": [
    "## Esercizio 4\n",
    "### Risoluzione equazione quadratica\n",
    "Scrivi un programma in Python che richieda all’utente i coefficienti, e di un’equazione quadratica della forma: $a^2 + bx + c = 0$\n",
    "\n",
    "Il programma deve calcolare il discriminante ($\\Delta = b^2 - 4ac$) e determinare il tipo di soluzioni dell’equazione in base al valore del discriminante, seguendo le regole matematiche.\n",
    "\n",
    "**Riassunto delle condizioni**:\n",
    "\n",
    "| Condizione                  | Tipo di soluzione                          | Soluzione/e                                                                 |\n",
    "|-----------------------------|--------------------------------------------|-----------------------------------------------------------------------------|\n",
    "| $$ a = 0, b = 0, c = 0 $$   | Indeterminata                              | Infinite soluzioni                                                         |\n",
    "| $$ a = 0, b = 0, c \\neq 0$$ | Impossibile                                | Nessuna soluzione                                                          |\n",
    "| $$ a = 0, b \\neq 0$$        | Primo grado                                | $$ x = -\\frac{c}{b} $$                                                     |\n",
    "| $$ a \\neq 0, \\Delta > 0$$   | Due soluzioni reali distinte               | $$ x_1 = \\frac{-b-\\sqrt{\\Delta}}{2a}, x_2 = \\frac{-b+\\sqrt{\\Delta}}{2a} $$ |\n",
    "| $$ a \\neq 0, \\Delta = 0$$   | Una soluzione reale doppia                 | $$ x = -\\frac{b}{2a} $$                                                    |\n",
    "| $$ a \\neq 0, \\Delta < 0$$   | Due soluzioni complesse coniugate          | $$ x_1, x_2 = -\\frac{b}{2a} \\pm i\\frac{\\sqrt{-\\Delta}}{2a} $$              |\n",
    "\n",
    "**Richiesta aggiuntiva e facoltativa**:\n",
    "\n",
    "Se vi sentite carichi e gasati, trovare anche le soluzioni: per questo vi serve fare la radice quadrata importando la libreria **math** con il comando:"
   ]
  },
  {
   "cell_type": "code",
   "execution_count": 22,
   "id": "3e31293c-6123-4389-b150-429636ce796a",
   "metadata": {},
   "outputs": [
    {
     "data": {
      "text/plain": [
       "3.0"
      ]
     },
     "execution_count": 22,
     "metadata": {},
     "output_type": "execute_result"
    }
   ],
   "source": [
    "import math\n",
    "\n",
    "x = 9\n",
    "math.sqrt(9)"
   ]
  },
  {
   "cell_type": "code",
   "execution_count": 16,
   "id": "845567d6-0748-4b06-9fe3-43255694b412",
   "metadata": {},
   "outputs": [
    {
     "name": "stdout",
     "output_type": "stream",
     "text": [
      "Equazione quadratica della forma ax² + bx + c = 0\n"
     ]
    },
    {
     "name": "stdin",
     "output_type": "stream",
     "text": [
      "Inserisci il coefficiente a:  4\n",
      "Inserisci il coefficiente b:  5\n",
      "Inserisci il coefficiente c:  6\n"
     ]
    },
    {
     "name": "stdout",
     "output_type": "stream",
     "text": [
      "L'equazione ha due soluzioni complesse coniugate: x1 = (-0.625+1.0532687216470449j), x2 = (-0.625-1.0532687216470449j).\n"
     ]
    }
   ],
   "source": [
    "import math\n",
    "\n",
    "# Esempio di utilizzo\n",
    "print(\"Equazione quadratica della forma ax² + bx + c = 0\")\n",
    "a = float(input(\"Inserisci il coefficiente a: \"))\n",
    "b = float(input(\"Inserisci il coefficiente b: \"))\n",
    "c = float(input(\"Inserisci il coefficiente c: \"))\n",
    "\n",
    "# Controlla se è un'equazione di secondo grado\n",
    "if a == 0:\n",
    "    if b == 0:\n",
    "        if c == 0:\n",
    "            # 0 = 0, infinite soluzioni\n",
    "            print(\"L'equazione è indeterminata (possiede infinite soluzioni).\")\n",
    "        else:\n",
    "            # c = 0 con c != 0, impossibile\n",
    "            print(\"L'equazione è impossibile (nessuna soluzione).\")\n",
    "    else:\n",
    "        # Equazione di primo grado: bx + c = 0\n",
    "        x = -c / b\n",
    "        print(f\"L'equazione è di primo grado e ha una soluzione reale: x = {x}.\")\n",
    "else:\n",
    "    # Calcola il discriminante\n",
    "    discriminante = b**2 - 4*a*c\n",
    "\n",
    "    # Determina il numero e il tipo di soluzioni in base al discriminante\n",
    "    if discriminante > 0:\n",
    "        x1 = (-b - math.sqrt(discriminante)) / (2 * a)\n",
    "        x2 = (-b + math.sqrt(discriminante)) / (2 * a)\n",
    "        # Stampa le soluzioni\n",
    "        print(f\"L'equazione ha due soluzioni reali distinte: x1 = {x1}, x2 = {x2}.\")\n",
    "    elif discriminante == 0:\n",
    "        x = -b / (2 * a)\n",
    "        # Stampa le soluzioni\n",
    "        print(f\"L'equazione ha una soluzione reale doppia: x = {x}.\")\n",
    "    else:\n",
    "        real_part = -b / (2 * a)\n",
    "        imaginary_part = math.sqrt(-discriminante) / (2 * a)\n",
    "        x1 = complex(real_part, imaginary_part)\n",
    "        x2 = complex(real_part, -imaginary_part)\n",
    "        # Stampa le soluzioni\n",
    "        print(f\"L'equazione ha due soluzioni complesse coniugate: x1 = {x1}, x2 = {x2}.\")\n"
   ]
  },
  {
   "cell_type": "markdown",
   "id": "60200529-49dd-453a-b8b8-2983af4d24ea",
   "metadata": {},
   "source": [
    "## Esercizio 5\n",
    "### Indovina indovinello\n",
    "Creare un'applicazione che chieda all'utente un indovinello tra 1, 2, 3.\n",
    "\n",
    "Ponga all'utente l'indovinello appena scelto, controlli la risposta dell'utente e stampi l'esito."
   ]
  },
  {
   "cell_type": "code",
   "execution_count": 20,
   "id": "a31bca99-f6ff-4b5c-9462-bcbddd097d34",
   "metadata": {},
   "outputs": [
    {
     "name": "stdin",
     "output_type": "stream",
     "text": [
      "Scegli il tuo indovinello (1, 2, 3):\n",
      " 2\n"
     ]
    },
    {
     "name": "stdout",
     "output_type": "stream",
     "text": [
      "Risposta giusta\n"
     ]
    },
    {
     "name": "stdin",
     "output_type": "stream",
     "text": [
      "Senza coperchio, chiave, né cerniera uno scrigno cela una dorata sfera.\n",
      " Uovo\n"
     ]
    },
    {
     "name": "stdout",
     "output_type": "stream",
     "text": [
      "Risposta corretta\n"
     ]
    }
   ],
   "source": [
    "i1 = \"Ho una coda lunga e una lingua che non parla. Cosa sono?\"\n",
    "r1 = \"Serpente\"\n",
    "\n",
    "i2 = \"Senza coperchio, chiave, né cerniera uno scrigno cela una dorata sfera.\"\n",
    "r2 = \"Uovo\"\n",
    "\n",
    "i3 = \"Se mi rompi, non faccio rumore\"\n",
    "r3_1 = \"Silenzio\"\n",
    "r3_2 = \"Promessa\"\n",
    "\n",
    "\n",
    "risposta = input(\"Scegli il tuo indovinello (1, 2, 3):\\n\")\n",
    "\n",
    "# deve riconoscere la risposta come valida, che deve rientrare all'interno dei tre valori sugeeriti \n",
    "if risposta == \"1\" or risposta == \"2\" or risposta == \"3\":\n",
    "\t# fare cose (andare avanti)\n",
    "\tprint(\"Risposta giusta\")\n",
    "\t# indovinello 1\n",
    "\tif risposta == \"1\":\n",
    "\t\trisposta_ind = input(i1+\"\\n\") \n",
    "\t\tif risposta_ind == r1:\n",
    "\t\t\tprint(\"Risposta corretta\")\n",
    "\t\telse:\n",
    "\t\t\tprint(\"Risposta sbagliata\")\n",
    "\n",
    "\t# indovinello 2\n",
    "\tif risposta == \"2\":\n",
    "\t\trisposta_ind = input(i2+\"\\n\") \n",
    "\t\tif risposta_ind == r2:\n",
    "\t\t\tprint(\"Risposta corretta\")\n",
    "\t\telse:\n",
    "\t\t\tprint(\"Risposta sbagliata\")\n",
    "\n",
    "\t# indovinello 3\n",
    "\tif risposta == \"3\":\n",
    "\t\trisposta_ind = input(i3+\"\\n\") \n",
    "\t\tif risposta_ind == r3_1 or risposta_ind == r3_2:\n",
    "\t\t\tprint(\"Risposta corretta\")\n",
    "\t\telse:\n",
    "\t\t\tprint(\"Risposta sbagliata\")\n",
    "\t\n",
    "\n",
    "else: \n",
    "\t# ramo falso\n",
    "\tprint(\"Ritenta\")"
   ]
  }
 ],
 "metadata": {
  "kernelspec": {
   "display_name": "Python [conda env:base] *",
   "language": "python",
   "name": "conda-base-py"
  },
  "language_info": {
   "codemirror_mode": {
    "name": "ipython",
    "version": 3
   },
   "file_extension": ".py",
   "mimetype": "text/x-python",
   "name": "python",
   "nbconvert_exporter": "python",
   "pygments_lexer": "ipython3",
   "version": "3.10.16"
  }
 },
 "nbformat": 4,
 "nbformat_minor": 5
}
