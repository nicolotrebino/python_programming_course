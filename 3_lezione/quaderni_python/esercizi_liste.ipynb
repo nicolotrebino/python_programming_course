{
 "cells": [
  {
   "cell_type": "markdown",
   "id": "34150091-5d27-424e-89de-da5503e7d523",
   "metadata": {},
   "source": [
    "# Esercizi (liste)\n",
    "Questi esercizi NON sono generici. Non sappiamo ancora trattare le liste con generalità e dinamicità, ma vogliamo allenarci a scrivere codice che coinvolga le liste.\n",
    "\n",
    "## Esercizio 1\n",
    "Creare una lista che contenga nella posizione i-esima la somma degli elementi i-esimi di l1 e l2."
   ]
  },
  {
   "cell_type": "code",
   "execution_count": 5,
   "id": "9cd48caa-de8a-414d-8ca4-26bdec9e7c13",
   "metadata": {},
   "outputs": [
    {
     "name": "stdout",
     "output_type": "stream",
     "text": [
      "[5, 5, 5, 5]\n"
     ]
    }
   ],
   "source": [
    "l1 = [1, 2, 3, 4] #lunghezza fissa, valori variabili\n",
    "l2 = [4, 3, 2, 1] #lunghezza fissa, valori variabili\n",
    "\n",
    "l3 = [l1[0] + l2[0], l1[1] + l2[1], l1[2] + l2[2], l1[3] + l2[3]]\n",
    "print(l3)"
   ]
  },
  {
   "cell_type": "markdown",
   "id": "43b8dc9f-c425-499a-9040-29b05bd7605f",
   "metadata": {},
   "source": [
    "## Esercizio 2\n",
    "Creare una lista che contenga nell'indice i-esimo la somma degli elementi della i-esima lista => sum()."
   ]
  },
  {
   "cell_type": "code",
   "execution_count": 11,
   "id": "efb559a3-7176-49f2-a4cd-1b13a646e44e",
   "metadata": {},
   "outputs": [
    {
     "name": "stdout",
     "output_type": "stream",
     "text": [
      "[10, 14, 18, 17]\n"
     ]
    }
   ],
   "source": [
    "l1 = [1, 2, 3, 4] #lunghezza e valori variabili\n",
    "l2 = [2, 3, 4, 5] #lunghezza e valori variabili\n",
    "l3 = [3, 5, 2, 8] #lunghezza e valori variabili\n",
    "l4 = [11, 5, 1]  #lunghezza e valori variabili\n",
    "\n",
    "l5 = [sum(l1), sum(l2), sum(l3), sum(l4)]\n",
    "print(l5)"
   ]
  },
  {
   "cell_type": "markdown",
   "id": "62ecfe19-2a19-4f44-a703-61cd79701a65",
   "metadata": {},
   "source": [
    "## Esercizio 3\n",
    "Creare una lista l3 che contenga tutti e soli gli elementi comuni sia a l1 che a l2."
   ]
  },
  {
   "cell_type": "code",
   "execution_count": 18,
   "id": "94fa340c-399f-45a9-9f32-3c7e1f082d99",
   "metadata": {},
   "outputs": [
    {
     "name": "stdout",
     "output_type": "stream",
     "text": [
      "[2, 4]\n"
     ]
    }
   ],
   "source": [
    "l1 = [2, 3, 4] #lunghezza fissa, valori variabili\n",
    "l2 = [4, 2, 5] #lunghezza fissa, valori variabili\n",
    "\n",
    "l3 = []\n",
    "\n",
    "if l1[0] in l2:\n",
    "\tl3.append(l1[0])\n",
    "  \n",
    "if l1[1] in l2:\n",
    "  l3.append(l1[1])\n",
    "\n",
    "if l1[2] in l2:\n",
    "  l3.append(l1[2])\n",
    "\n",
    "print(l3)"
   ]
  },
  {
   "cell_type": "markdown",
   "id": "62469678-0fe7-4286-b8bd-8e9812f24dad",
   "metadata": {},
   "source": [
    "## Esercizio 4\n",
    "Creare una nuova lista che contenga come i-esimo elemento la media dei valori della lista i-esima."
   ]
  },
  {
   "cell_type": "code",
   "execution_count": 39,
   "id": "d0250dd1-b5fb-4796-bc1a-ed5680b89596",
   "metadata": {},
   "outputs": [
    {
     "name": "stdout",
     "output_type": "stream",
     "text": [
      "[14.5, 16.5, 7.75]\n"
     ]
    }
   ],
   "source": [
    "l1 = [7, 12, 15, 24]\n",
    "l2 = [8, 9, 21, 28]\n",
    "l3 = [2, 4, 6, 19]\n",
    "\n",
    "media1 = (l1[0] + l1[1] + l1[2] + l1[3])/len(l1)\n",
    "media2 = (l2[0] + l2[1] + l2[2] + l2[3])/len(l2)\n",
    "media3 = (l3[0] + l3[1] + l3[2] + l3[3])/len(l3)\n",
    "\n",
    "l4 = [media1, media2, media3]\n",
    "print(l4)"
   ]
  },
  {
   "cell_type": "markdown",
   "id": "addf027c-b09b-4327-8b59-e60d3cecd9e6",
   "metadata": {},
   "source": [
    "Se si vuole barare si può utilizzare direttamente la funzione **mean()** che si può importare dalla librera **numpy**."
   ]
  },
  {
   "cell_type": "code",
   "execution_count": 35,
   "id": "f6d4a7c7-e651-416a-8ae3-97f4af470cb9",
   "metadata": {},
   "outputs": [
    {
     "name": "stdout",
     "output_type": "stream",
     "text": [
      "[14.5, 16.5, 7.75]\n"
     ]
    }
   ],
   "source": [
    "from numpy import mean\n",
    "\n",
    "l1 = [7, 12, 15, 24]\n",
    "l2 = [8, 9, 21, 28]\n",
    "l3 = [2, 4, 6, 19]\n",
    "\n",
    "l4 = [mean(l1), mean(l2), mean(l3)]\n",
    "print(l4)"
   ]
  },
  {
   "cell_type": "markdown",
   "id": "0cb1c34a-c71c-4ef8-91cc-1554b31e03b4",
   "metadata": {},
   "source": [
    "## Esercizio 5\n",
    "- Chiedere una frase all'utente e stampare il numero di parole che contiene (si consideri lo spazio come separatore di parola).\n",
    "- Poi chiedere all'utente quale parola vuole cambiare con la prima: l'utente fornirà quindi la posizione della parola che vuole scambiare di posizione (verificare che sia una posizione esistente).\n",
    "\n",
    "Porre attenzione alla differenza tra indici e posizioni."
   ]
  },
  {
   "cell_type": "code",
   "execution_count": null,
   "id": "e11ab6a4-d80b-43ca-965b-0ec6c8d89770",
   "metadata": {},
   "outputs": [],
   "source": [
    "frase = input(\"Ciao, dimmi quello che vuoi.\\n\")\n",
    "parole = frase.split(\" \")\n",
    "\n",
    "print(\"Hai scritto\", len(parole), \"parole\")\n",
    "\n",
    "cambio = int(input(\"Quale parola vuoi cambiare?(ins. pos)\\n\"))\n",
    "\n",
    "if cambio > len(parole):\n",
    "\tprint(\"Non posso cambiare\")\n",
    "else:\n",
    "\tprint(parole) # [\"ciao\", \"come\", \"stai?\"]\n",
    "\tprint(cambio) # 2 \n",
    "\n",
    "\tsostituto = parole[cambio-1]\n",
    "\tparole[cambio-1] = parole[0]\n",
    "\tparole[0] = sostituto \n",
    "\n",
    "\tprint(\" \".join(parole))"
   ]
  },
  {
   "cell_type": "markdown",
   "id": "697b30df-a13d-4b69-937c-30a11454b5f5",
   "metadata": {},
   "source": [
    "## Esercizio 6"
   ]
  },
  {
   "cell_type": "code",
   "execution_count": null,
   "id": "f8f402c5-2f45-46ba-b03f-30fb6b1d0041",
   "metadata": {},
   "outputs": [],
   "source": [
    "# Creare un programma che analizzi tre interi forniti dall'utente. \n",
    "\n",
    "# PARTE 1 #\n",
    "# Prima di tutto chiedere il nome dell'utente. Se l'utente non ha scritto il nome con la \n",
    "# maiuscola nella prima lettera, sostituirla. PS: x.isupper() controlla se una variabile è maiuscola. \n",
    "# Stampare un messaggio di benvenuto usando il nome utente eventualmente corretto\n",
    "\n",
    "\n",
    "# PARTE 2 #\n",
    "# Poi, in un solo input, chiedere due numeri separati da virgola \n",
    "# Esempio: 3,2\n",
    "# In un successivo input, chiedere il terzo intero\n",
    "\n",
    "# Ospitare tutti i numeri in una lista,\n",
    "# - stamparli uno per uno\n",
    "# - stampare la media\n",
    "\n",
    "# Eseguire i controlli (per ogni controllo dare un feedback all'utente tramite una stampa)\n",
    "# - Verificare se il terzo numero sia maggiore della somma degli altri due\n",
    "# - Verificare se i tre numeri sono tutti diversi fra loro\n",
    "# - Verificare se la somma dei tre numeri è maggiore o minore al numero di caratteri nel nome dell'utente\n",
    "\n",
    "\n",
    "# PARTE 1 #\n",
    "\n",
    "nome_utente = input(\"Inserisci nome utente:\\n\")\n",
    "print(\"\")\n",
    "\n",
    "# Enrico\n",
    "nome_utente = nome_utente.capitalize()\n",
    "\n",
    "print(\"Benvenuto\",nome_utente)\n",
    "\n",
    "\n",
    "# PARTE 2 #\n",
    "\n",
    "due_numeri = input(\"Dammi 2 numeri separati da una virgola, senza spazi\\n\")\n",
    "terzo_numero = input(\"Dammi un terzo numero\\n\")\n",
    "\n",
    "lista = due_numeri.split(\",\") # \"4,5\" => [\"4\", \"5\"]\n",
    "lista.append(terzo_numero) # [\"4\", \"5\", \"9\"]\n",
    "\n",
    "lista[0] = int(lista[0])\n",
    "lista[1] = int(lista[1])\n",
    "lista[2] = int(lista[2])\n",
    "print(\"\")\n",
    "\n",
    "# [4, 5, 9]\n",
    "\n",
    "print(\"Primo numero:\", lista[0])\n",
    "print(\"Secondo numero:\", lista[1])\n",
    "print(\"Terzo numero:\", lista[2])\n",
    "\n",
    "\n",
    "print(\"La media dei tre numeri è:\", sum(lista) / len(lista))\n",
    "\n",
    "# Verifico se i tre numeri sono diversi fra loro\n",
    "if lista[0] == lista[1] or lista[0] == lista[2] or lista[1] == lista[2]:\n",
    "  print(\"No, sono tutti uguali\")\n",
    "elif lista[0] == lista[1]:\n",
    "  print(\"No, i primi due numeri sono uguali\")\n",
    "elif lista[0] == lista[2]:\n",
    "  print(\"No, il primo e il terzo numero sono uguali\")\n",
    "elif lista[1] == lista[2]:\n",
    "  print(\"No, il secondo e il terzo numero sono uguali\")\n",
    "else:\n",
    "  print(\"Si\")\n",
    "\n",
    "# Verifico se la somma è maggiore ai caratteri del nome\n",
    "print(\"3. La somma dei numeri è maggiore ai caratteri del nome?\")\n",
    "if sum(lista) > len(nome_utente):\n",
    "  print(\"Si\")\n",
    "else:\n",
    "  print(\"No\")\n",
    "\n",
    "# - Verificare se il terzo numero sia maggiore della somma degli altri due\n",
    "\n",
    "if lista[2] > lista[1] + lista[0]:\n",
    "  print(\"Il terzo numero è maggiore della somma degli altri due\")"
   ]
  }
 ],
 "metadata": {
  "kernelspec": {
   "display_name": "Python [conda env:base] *",
   "language": "python",
   "name": "conda-base-py"
  },
  "language_info": {
   "codemirror_mode": {
    "name": "ipython",
    "version": 3
   },
   "file_extension": ".py",
   "mimetype": "text/x-python",
   "name": "python",
   "nbconvert_exporter": "python",
   "pygments_lexer": "ipython3",
   "version": "3.10.16"
  }
 },
 "nbformat": 4,
 "nbformat_minor": 5
}
