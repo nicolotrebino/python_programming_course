{
 "cells": [
  {
   "cell_type": "markdown",
   "id": "5c7470d9-2ef4-4807-abcd-692d2d219f89",
   "metadata": {},
   "source": [
    "# Cicli for\n",
    "\n",
    "## Introduzione\n",
    "Ecco un altro costrutto importantissimo nella programmazione, il ciclo **for**.\n",
    "Si tratta esattamente di un altro modo per scrivere dei cicli, quindi blocchi di codice che vengono eseguiti più volte in base a qualche istruzione. In questo caso c'è sempre una variabile (contatore o elemento) che determina il numero di ripetizioni del ciclo.\n",
    "Funziona esattamente come il ciclo **while** e tutto ciò che si può fare con il ciclo **for** si può fare con un **while** e viceversa, è solo questione di praticità.\n",
    "\n",
    "La sua funzione principale, cioè la funzione per la quale viene utilizzato più spesso, è l'iterazione su sequenze di dati (liste, tuple, set e dizionari, che vedremo prossima lezione).\n",
    "Infatti, è un ciclo \"semplificato\" rispetto al **while** che permette di eseguire una serie di istruzioni per ogni elemento della lista.\n",
    "\n",
    "Sintassi:\n",
    "```python\n",
    "for elemento in lista:\n",
    "    \n",
    "    blocco di codice eseguito se elemento è nella lista\n",
    "\n",
    "blocco di codice eseguito quando elemento esce fuori dalla lista\n",
    "```\n",
    "\n",
    "### Diagramma di flusso\n",
    "```mermaid\n",
    "graph TD\n",
    "    A([Inizio]) --> B{Elemento in lista}\n",
    "    B -- Vero --> C[Istruzioni A]\n",
    "    B -- Falso --> D[Istruzioni B]\n",
    "    C -- Ripeti --> B\n",
    "    D --> E([Fine])\n",
    "```\n",
    "\n",
    "### Esempio"
   ]
  },
  {
   "cell_type": "code",
   "execution_count": 9,
   "id": "15f43b8b-4b64-417c-bff7-afd1b48562f5",
   "metadata": {},
   "outputs": [
    {
     "name": "stdout",
     "output_type": "stream",
     "text": [
      "finocchio\n",
      "cavolo\n",
      "zucca\n"
     ]
    }
   ],
   "source": [
    "verdura = [\"finocchio\", \"cavolo\", \"zucca\"]\n",
    "for x in verdura:\n",
    "  print(x)"
   ]
  },
  {
   "cell_type": "code",
   "execution_count": 11,
   "id": "e68c2c4f-a371-494d-9791-8c15656b09b4",
   "metadata": {},
   "outputs": [
    {
     "name": "stdout",
     "output_type": "stream",
     "text": [
      "finocchio\n",
      "cavolo\n",
      "zucca\n"
     ]
    }
   ],
   "source": [
    "verdura = [\"finocchio\", \"cavolo\", \"zucca\"]\n",
    "for elemento in verdura:\n",
    "  print(elemento)"
   ]
  },
  {
   "cell_type": "markdown",
   "id": "27887de8-6447-4de8-9001-51a9777a7797",
   "metadata": {},
   "source": [
    "### In\n",
    "La parola chiave **in** è utilizzata per ottenere un'espressione booleana che determina la presenza di un elemento."
   ]
  },
  {
   "cell_type": "code",
   "execution_count": 22,
   "id": "20f257cb-ce50-4f38-bda0-8caf09e04ff7",
   "metadata": {},
   "outputs": [
    {
     "name": "stdout",
     "output_type": "stream",
     "text": [
      "True\n",
      "False\n"
     ]
    }
   ],
   "source": [
    "print(\"zucca\" in verdura)\n",
    "print(\"carciofo\" in verdura)"
   ]
  },
  {
   "cell_type": "markdown",
   "id": "379ad2f4-f8a8-4d73-a20d-3a5fe0da14ca",
   "metadata": {},
   "source": [
    "### Esercizio 1\n",
    "Sommare tutti gli elementi di una lista data, la lista può avere lunghezza variabile."
   ]
  },
  {
   "cell_type": "code",
   "execution_count": 29,
   "id": "338dd00c-8690-4602-ab89-c91d1587c4b4",
   "metadata": {},
   "outputs": [
    {
     "name": "stdout",
     "output_type": "stream",
     "text": [
      "La somma è: 105\n"
     ]
    }
   ],
   "source": [
    "numeri = [3, 6, 8, 12, 13, 14, 21, 28]\n",
    "somma = 0\n",
    "for n in numeri:\n",
    "    somma += n\n",
    "print(\"La somma è: \" + str(somma))"
   ]
  },
  {
   "cell_type": "markdown",
   "id": "dd97ba7a-209d-464d-8c5c-67314476c782",
   "metadata": {},
   "source": [
    "## La funzione range()\n",
    "Per scorrere un blocco di codice un numero specifico di volte, possiamo utilizzare la funzione range().\n",
    "\n",
    "La funzione range() restituisce una sequenza di numeri.\n",
    "\n",
    "Sintassi:\n",
    "```python\n",
    "range(start, stop, step)\n",
    "```\n",
    "\n",
    "|Parameter\t|Description|\n",
    "| --------- | ---------- |\n",
    "| start\t| Optional. An integer number specifying at which position to start. Default is 0|\n",
    "|stop\t|Required. An integer number specifying at which position to stop (not included).|\n",
    "|step\t|Optional. An integer number specifying the incrementation. Default is 1|\n",
    "\n",
    "\n",
    "La funzione range() ha come valore iniziale predefinito 0, tuttavia è possibile specificare il valore iniziale aggiungendo un parametro: range(2, 6), che significa valori da 2 a 6 (ma non includendo il 6).\n",
    "\n",
    "La funzione range() incrementa la sequenza di 1 per impostazione predefinita, tuttavia è possibile specificare il valore di incremento aggiungendo un terzo parametro: range(2, 30, 3).\n",
    "\n",
    "Quindi:\n",
    "```python\n",
    "range(2, 30, 3)\n",
    "```\n",
    "Ritornerà una sequenza di numeri che vanno da 2 a 29 con passo 3.\n",
    ">2\n",
    ">5\n",
    ">8\n",
    ">11\n",
    ">14\n",
    ">17\n",
    ">20\n",
    ">23\n",
    ">26\n",
    ">29\n",
    "\n",
    "### Esempio"
   ]
  },
  {
   "cell_type": "code",
   "execution_count": 76,
   "id": "b4b059d8-1e41-4740-8da0-053445bf4f84",
   "metadata": {},
   "outputs": [
    {
     "name": "stdout",
     "output_type": "stream",
     "text": [
      "5\n",
      "10\n",
      "15\n",
      "20\n",
      "25\n",
      "30\n",
      "35\n",
      "40\n",
      "45\n",
      "50\n"
     ]
    }
   ],
   "source": [
    "# Tabellina del 5\n",
    "for x in range(5, 51, 5):\n",
    "    print(x)"
   ]
  },
  {
   "cell_type": "markdown",
   "id": "737d1f4f-0e62-472c-ba1c-ba76e2acc0ce",
   "metadata": {},
   "source": [
    "### Esercizio 2\n",
    "Stampare tutti i numeri della lista in posizione dispari."
   ]
  },
  {
   "cell_type": "code",
   "execution_count": 65,
   "id": "25038327-50c2-428d-b8fb-1fd574413209",
   "metadata": {},
   "outputs": [
    {
     "name": "stdout",
     "output_type": "stream",
     "text": [
      "20\n",
      "40\n",
      "60\n",
      "80\n",
      "100\n"
     ]
    }
   ],
   "source": [
    "lista = [10, 20, 30, 40, 50, 60, 70, 80, 90, 100]\n",
    "\n",
    "for i in range(1, len(lista), 2):\n",
    "    print(lista[i])"
   ]
  },
  {
   "cell_type": "markdown",
   "id": "204dd64a-2e54-4cf4-9d67-64e50383b98a",
   "metadata": {},
   "source": [
    "## Break & Continue\n",
    "### Break\n",
    "Come con il **while**, con la parola chiave **break** possiamo fermare il ciclo prima che finisca di eseguire tutte le iterazioni per tutti gli elementi della lista.\n",
    "\n",
    "#### Esempio"
   ]
  },
  {
   "cell_type": "code",
   "execution_count": 90,
   "id": "8aa7c234-716a-43e4-95ce-e15f7c1a6733",
   "metadata": {},
   "outputs": [
    {
     "name": "stdout",
     "output_type": "stream",
     "text": [
      "finocchio\n",
      "cavolo\n",
      "zucca\n"
     ]
    }
   ],
   "source": [
    "verdura = [\"finocchio\", \"cavolo\", \"zucca\", \"zucchina\", \"carota\"]\n",
    "for x in verdura:\n",
    "  print(x)\n",
    "  if x == \"zucca\":\n",
    "    break"
   ]
  },
  {
   "cell_type": "markdown",
   "id": "830973b6-2a3c-4a1a-b5ba-e53960fe90be",
   "metadata": {},
   "source": [
    "### Continue\n",
    "Come nel **while**, con la parola chiave **continue** possiamo interrompere l'esecuzione di un'iterazione del ciclo e riprendere dalla successiva.\n",
    "\n",
    "#### Esempio"
   ]
  },
  {
   "cell_type": "code",
   "execution_count": 88,
   "id": "4337a4b3-ab69-48bd-b285-a213aca562ed",
   "metadata": {},
   "outputs": [
    {
     "name": "stdout",
     "output_type": "stream",
     "text": [
      "finocchio\n",
      "cavolo\n",
      "zucchina\n",
      "carota\n"
     ]
    }
   ],
   "source": [
    "verdura = [\"finocchio\", \"cavolo\", \"zucca\", \"zucchina\", \"carota\"]\n",
    "for x in verdura:\n",
    "    if x == \"zucca\":\n",
    "        continue\n",
    "    print(x)"
   ]
  }
 ],
 "metadata": {
  "kernelspec": {
   "display_name": "Python [conda env:base] *",
   "language": "python",
   "name": "conda-base-py"
  },
  "language_info": {
   "codemirror_mode": {
    "name": "ipython",
    "version": 3
   },
   "file_extension": ".py",
   "mimetype": "text/x-python",
   "name": "python",
   "nbconvert_exporter": "python",
   "pygments_lexer": "ipython3",
   "version": "3.10.16"
  }
 },
 "nbformat": 4,
 "nbformat_minor": 5
}
