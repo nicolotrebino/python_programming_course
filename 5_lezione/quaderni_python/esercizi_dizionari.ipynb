{
 "cells": [
  {
   "cell_type": "markdown",
   "id": "b6618a6e-f186-415e-9471-5bfd650bbf49",
   "metadata": {},
   "source": [
    "# Esercizi (dizionari)\n",
    "\n",
    "## Esercizio 1 \n",
    "### Creazione dizionario utente\n",
    "Chiedere all'utente *nome*, *cognome*, *email* e *numero di telefono* e creare un dizionario che contenga tutte le informazioni relative a quell'utente."
   ]
  },
  {
   "cell_type": "code",
   "execution_count": 9,
   "id": "a1894ef4-512c-4ec5-a454-15b29020da85",
   "metadata": {},
   "outputs": [
    {
     "name": "stdin",
     "output_type": "stream",
     "text": [
      "Inserire nome:  Nicolò\n",
      "Inserire cognome:  Trebino\n",
      "Inserire email:  nicco.trebien@gmail.com\n",
      "Inserire numero di telefono:  3387650405\n"
     ]
    },
    {
     "name": "stdout",
     "output_type": "stream",
     "text": [
      "{'nome': 'Nicolò', 'cognome': 'Trebino', 'email': 'nicco.trebien@gmail.com', 'telefono': '3387650405'}\n"
     ]
    }
   ],
   "source": [
    "# Definire il dizionario\n",
    "user = {}\n",
    "\n",
    "# Prendere i dati in input dall'utente\n",
    "# e salvarli direttamente come coppia chiave valore nel dizionario\n",
    "user['nome'] = input(\"Inserire nome: \")\n",
    "user['cognome'] = input(\"Inserire cognome: \")\n",
    "user['email'] = input(\"Inserire email: \")\n",
    "user['telefono'] = input(\"Inserire numero di telefono: \")\n",
    "\n",
    "print(user)"
   ]
  },
  {
   "cell_type": "markdown",
   "id": "6a12b7a6-d061-44e2-a552-e9ade0fcfae0",
   "metadata": {},
   "source": [
    "## Esercizio 2\n",
    "### Gestire un registro di studenti\n",
    "\n",
    "Immaginate di essere un professore.\n",
    "Scrivere un programma che chiede all'utente di inserire nome dell'alunno e voto con un ciclo, stoppare il ciclo quando l'utente inserisce un carattere speciale.\n",
    "Con i dati inseriti dall'utente popolare un dizionario che gestisce gli studenti.\n",
    "Dopo aver creato il dizionario stampare:\n",
    "- Lo studente con il voto più alto\n",
    "- Lo studente con il voto più basso\n",
    "- La media dei voti\n",
    "\n",
    "**Esempio di dizionario**:\n",
    "```python\n",
    "studenti = {\n",
    "    \"Giulia\": 10,\n",
    "    \"Elena\": 9,\n",
    "    \"Roberto\": 6,\n",
    "    \"Sara\": 3,\n",
    "    \"Gianluca\": 4,\n",
    "    \"Mattia\": 8\n",
    "}\n",
    "```"
   ]
  },
  {
   "cell_type": "code",
   "execution_count": 10,
   "id": "d9ba48ab-1897-4aae-a268-297f673a83a8",
   "metadata": {},
   "outputs": [
    {
     "name": "stdout",
     "output_type": "stream",
     "text": [
      "Benvenuta/o\n"
     ]
    },
    {
     "name": "stdin",
     "output_type": "stream",
     "text": [
      "Inserisci il nome dello studente (oppure &&& per terminare il programma):  Davide\n",
      "Inserisci il voto di Davide:  8\n",
      "Inserisci il nome dello studente (oppure &&& per terminare il programma):  Gaia\n",
      "Inserisci il voto di Gaia:  10\n",
      "Inserisci il nome dello studente (oppure &&& per terminare il programma):  Matteo\n",
      "Inserisci il voto di Matteo:  4\n",
      "Inserisci il nome dello studente (oppure &&& per terminare il programma):  &&&\n"
     ]
    },
    {
     "name": "stdout",
     "output_type": "stream",
     "text": [
      "Studente con voto più alto: Gaia (10)\n",
      "Studente con voto più basso: Matteo (4)\n",
      "Media dei voti: 7.33\n"
     ]
    }
   ],
   "source": [
    "studenti = {}  # Dizionario per memorizzare gli studenti e i loro voti\n",
    "\n",
    "print(\"Benvenuta/o\")\n",
    "\n",
    "while True:\n",
    "    nome = input(\"Inserisci il nome dello studente (oppure &&& per terminare il programma): \")\n",
    "    if nome == \"&&&\":  # Controllo se è un carattere speciale\n",
    "        break\n",
    "    elif not nome.isalpha():\n",
    "        print(\"Inserire un nome valido\")\n",
    "        continue\n",
    "    \n",
    "    voto = input(f\"Inserisci il voto di {nome}: \")\n",
    "    if not voto.isdigit():  # Controllo che il voto sia un numero\n",
    "        print(\"Errore: Inserisci un numero valido.\")\n",
    "        continue\n",
    "    \n",
    "    studenti[nome] = int(voto)  # Aggiunge lo studente al dizionario\n",
    "\n",
    "# Controllo se ci sono studenti registrati\n",
    "if studenti:\n",
    "\n",
    "    voto_max = 0\n",
    "    # Scandiamo il dizionario con un ciclo for\n",
    "    for studente, voto in studenti.items():\n",
    "        if voto > voto_max:  # Se il voto attuale è maggiore del massimo trovato finora\n",
    "            voto_max = voto\n",
    "            studente_max = studente\n",
    "\n",
    "    voto_min = 100\n",
    "    # Scandiamo il dizionario con un ciclo for\n",
    "    for studente, voto in studenti.items():\n",
    "        if voto < voto_min:  # Se il voto attuale è maggiore del massimo trovato finora\n",
    "            voto_max = voto\n",
    "            studente_min = studente\n",
    "            \n",
    "    media_voti = sum(studenti.values()) / len(studenti)\n",
    "\n",
    "    print(f\"Studente con voto più alto: {studente_max} ({studenti[studente_max]})\")\n",
    "    print(f\"Studente con voto più basso: {studente_min} ({studenti[studente_min]})\")\n",
    "    print(f\"Media dei voti: {media_voti:.2f}\")\n",
    "else:\n",
    "    print(\"Nessuno studente inserito.\")\n"
   ]
  }
 ],
 "metadata": {
  "kernelspec": {
   "display_name": "Python [conda env:base] *",
   "language": "python",
   "name": "conda-base-py"
  },
  "language_info": {
   "codemirror_mode": {
    "name": "ipython",
    "version": 3
   },
   "file_extension": ".py",
   "mimetype": "text/x-python",
   "name": "python",
   "nbconvert_exporter": "python",
   "pygments_lexer": "ipython3",
   "version": "3.10.16"
  }
 },
 "nbformat": 4,
 "nbformat_minor": 5
}
