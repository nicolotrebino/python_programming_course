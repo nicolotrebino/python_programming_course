{
 "cells": [
  {
   "cell_type": "markdown",
   "id": "b07a7f06-bbc2-4daf-a7a6-c8641ae5ec31",
   "metadata": {},
   "source": [
    "# Esercizi (funzioni)\n",
    "\n",
    "## Esercizio 1\n",
    "### Stringa invertita\n",
    "\n",
    "Scrivi una funzione che prende una stringa e restituisce la stringa invertita."
   ]
  },
  {
   "cell_type": "code",
   "execution_count": 3,
   "id": "17a8607b-f29f-4c52-9a43-316c82b289f0",
   "metadata": {},
   "outputs": [],
   "source": [
    "def inverso_stringa(stringa):\n",
    "    inversa = ''\n",
    "    indice = len(stringa) - 1\n",
    "    while indice >= 0:\n",
    "        inversa += stringa[indice]\n",
    "        indice -= 1\n",
    "    return inversa"
   ]
  },
  {
   "cell_type": "markdown",
   "id": "3db137f2-f1e0-444a-888a-bb761cdeabe6",
   "metadata": {},
   "source": [
    "## Esercizio 2\n",
    "### Restituire la parola più lunga\n",
    "Scrivi una funzione che prende una lista di parole e restituisce la parola più lunga."
   ]
  },
  {
   "cell_type": "code",
   "execution_count": 20,
   "id": "35910c0b-bbf2-4cf7-b08b-98a4a1800ed8",
   "metadata": {},
   "outputs": [
    {
     "data": {
      "text/plain": [
       "'calcolatrice'"
      ]
     },
     "execution_count": 20,
     "metadata": {},
     "output_type": "execute_result"
    }
   ],
   "source": [
    "def parola_piu_lunga(lista):\n",
    "    piu_lunga = lista[0]\n",
    "    for parola in lista:\n",
    "        if len(parola) > len(piu_lunga):\n",
    "            piu_lunga = parola\n",
    "    return piu_lunga\n",
    "\n",
    "lista_parola = ['spremuta', 'mongolfiera', 'libro', 'agenda', 'calcolatrice', 'inchiostro']\n",
    "parola_piu_lunga(lista_parola)"
   ]
  },
  {
   "cell_type": "markdown",
   "id": "9e96723e-d41f-450d-b78b-2f0a582dbca3",
   "metadata": {},
   "source": [
    "## Esercizio 3\n",
    "### Filtro con valore soglia\n",
    "Scrivi una funzione che prenda come parametri una lista di numeri e un valore soglia, e crei una nuova lista contenente solo i numeri maggiori di quel valore."
   ]
  },
  {
   "cell_type": "code",
   "execution_count": 13,
   "id": "d3532768-6d36-4881-9700-96d455d10b00",
   "metadata": {},
   "outputs": [
    {
     "name": "stdout",
     "output_type": "stream",
     "text": [
      "Numeri maggiori di 10 : [12, 19, 33, 22]\n"
     ]
    }
   ],
   "source": [
    "def filtro(lista, soglia):\n",
    "    lista_filtrata = []\n",
    "    for numero in lista:\n",
    "        if numero > soglia:\n",
    "            lista_filtrata.append(numero)\n",
    "    return lista_filtrata\n",
    "\n",
    "numeri = [12, 5, 8, 19, 33, 4, 22]\n",
    "soglia = 10\n",
    "\n",
    "print(\"Numeri maggiori di\", soglia, \":\", filtro(numeri, soglia))"
   ]
  },
  {
   "cell_type": "markdown",
   "id": "7b9979a2-84a0-4353-8846-16b19bbf372c",
   "metadata": {},
   "source": [
    "## Esercizio 4\n",
    "### Parole palindrome\n",
    "Scrivi una funzione che prende una lista di parole e restituisce una lista contenente solo le parole palindrome."
   ]
  },
  {
   "cell_type": "code",
   "execution_count": 38,
   "id": "84b154d9-8287-4e08-b9ff-c36740ee82e3",
   "metadata": {},
   "outputs": [],
   "source": [
    "def parole_palindrome(lista):\n",
    "    risultato = []\n",
    "    for parola in lista:\n",
    "        if parola == parola[::-1]:\n",
    "            risultato.append(parola)\n",
    "    return risultato"
   ]
  },
  {
   "cell_type": "code",
   "execution_count": 40,
   "id": "c45ce2f0-8dc1-468f-b59e-6d78cadb93c7",
   "metadata": {},
   "outputs": [
    {
     "data": {
      "text/plain": [
       "['anna', 'osso', 'otto', 'radar']"
      ]
     },
     "execution_count": 40,
     "metadata": {},
     "output_type": "execute_result"
    }
   ],
   "source": [
    "parole = [\n",
    "    \"computer\",  \n",
    "    \"anna\",       \n",
    "    \"osso\",   \n",
    "    \"casa\",            \n",
    "    \"otto\",      \n",
    "    \"python\",     \n",
    "    \"scuola\",     \n",
    "    \"mela\",    \n",
    "    \"radar\",      \n",
    "]\n",
    "\n",
    "parole_palindrome(parole)"
   ]
  },
  {
   "cell_type": "markdown",
   "id": "db6204a6-adef-45e5-9579-2ab3cfbdecf3",
   "metadata": {},
   "source": [
    "## Esercizio 5\n",
    "### Da decimale a numero romano\n",
    "Creare una funzione che preso come parametro un numero decimale, lo trasforma in numero romano.\n",
    "Esempio:\n",
    "\n",
    "```python\n",
    "in_numero_romano(1)\n",
    "'I'\n",
    "in_numero_romano(2)\n",
    "'II'\n",
    "in_numero_romano(4)\n",
    "'IV'\n",
    "in_numero_romano(8)\n",
    "'VIII'\n",
    "in_numero_romano(16)\n",
    "'XVI'\n",
    "in_numero_romano(32)\n",
    "'XXXII'\n",
    "```\n",
    "\n",
    "**Consiglio**:\n",
    "Utilizzare un dizionario!"
   ]
  },
  {
   "cell_type": "code",
   "execution_count": 13,
   "id": "7f5dd9c0-8700-4e10-b9cd-f75bfd7d621c",
   "metadata": {},
   "outputs": [
    {
     "data": {
      "text/plain": [
       "'LIV'"
      ]
     },
     "execution_count": 13,
     "metadata": {},
     "output_type": "execute_result"
    }
   ],
   "source": [
    "def in_numero_romano(num):\n",
    "    roman_map = {\n",
    "        1000: 'M', \n",
    "        900: 'CM', \n",
    "        500: 'D', \n",
    "        400: 'CD',\n",
    "        100: 'C', \n",
    "        90: 'XC', \n",
    "        50: 'L', \n",
    "        40: 'XL',\n",
    "        10: 'X', \n",
    "        9: 'IX', \n",
    "        5: 'V', \n",
    "        4: 'IV', \n",
    "        1: 'I'\n",
    "    }\n",
    "    roman = ''\n",
    "    for value, symbol in roman_map.items():\n",
    "        while num >= value:\n",
    "            roman += symbol\n",
    "            num -= value\n",
    "    return roman\n",
    "\n",
    "in_numero_romano(54)"
   ]
  }
 ],
 "metadata": {
  "kernelspec": {
   "display_name": "Python [conda env:base] *",
   "language": "python",
   "name": "conda-base-py"
  },
  "language_info": {
   "codemirror_mode": {
    "name": "ipython",
    "version": 3
   },
   "file_extension": ".py",
   "mimetype": "text/x-python",
   "name": "python",
   "nbconvert_exporter": "python",
   "pygments_lexer": "ipython3",
   "version": "3.10.16"
  }
 },
 "nbformat": 4,
 "nbformat_minor": 5
}
