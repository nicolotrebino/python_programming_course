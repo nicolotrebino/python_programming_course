{
 "cells": [
  {
   "cell_type": "markdown",
   "id": "43b8f49c",
   "metadata": {},
   "source": [
    "# Dizionari\n",
    "In italiano **dizionari**.\n",
    "I dizionari contengono elementi organizzati in coppie **chiave:valore**.\n",
    "\n",
    "Caratteristiche:\n",
    "- Ordinati: a partire da Python 3.7, i dizionari sono ordinati, il che significa che mantengono l'ordine in cui gli elementi sono stati aggiunti.\n",
    "Nelle versioni precedenti (Python 3.6 e precedenti), i dizionari erano non ordinati.\n",
    "- Modificabili: i dizionari sono modificabili, quindi puoi cambiare, aggiungere o rimuovere elementi dopo averli creati.\n",
    "- Duplicati non consentiti: non è possibile avere due elementi con la stessa chiave in un dizionario, ma i valori possono essere duplicati.\n",
    "- Tipi di dato: i valori possono essere di tutti i tipi di dato che abbiamo visto, possono anche contenere altri dizionari."
   ]
  },
  {
   "cell_type": "code",
   "execution_count": null,
   "id": "7de4b721",
   "metadata": {
    "vscode": {
     "languageId": "python"
    }
   },
   "outputs": [
    {
     "name": "stdout",
     "output_type": "stream",
     "text": [
      "Python 3.10.16\n"
     ]
    }
   ],
   "source": [
    "!python --version"
   ]
  },
  {
   "cell_type": "code",
   "execution_count": 30,
   "id": "627a1508",
   "metadata": {
    "vscode": {
     "languageId": "python"
    }
   },
   "outputs": [
    {
     "name": "stdout",
     "output_type": "stream",
     "text": [
      "{'titolo': 'Bastardi senza gloria', 'regista': 'Quentin Tarantino', 'anno': 2009, 'genere': ['Guerra', 'Drammatico', 'Azione']}\n"
     ]
    }
   ],
   "source": [
    "# Creazione di un dizionario\n",
    "film = {\n",
    "    \"titolo\": \"Bastardi senza gloria\",\n",
    "    \"regista\": \"Quentin Tarantino\",\n",
    "    \"anno\": 2009,\n",
    "    \"genere\": [\"Guerra\", \"Drammatico\", \"Azione\"],\n",
    "}\n",
    "print(film)"
   ]
  },
  {
   "cell_type": "code",
   "execution_count": null,
   "id": "c087bb49",
   "metadata": {
    "vscode": {
     "languageId": "python"
    }
   },
   "outputs": [
    {
     "name": "stdout",
     "output_type": "stream",
     "text": [
      "{'titolo': 'Interstellar'}\n"
     ]
    }
   ],
   "source": [
    "# Duplicati non consentiti: le chiavi devono essere uniche\n",
    "film2 = {\n",
    "    \"titolo\": \"Oppenheimer\",\n",
    "    \"titolo\": \"Interstellar\"  # Sovrascrive il valore precedente\n",
    "}\n",
    "print(film2)"
   ]
  },
  {
   "cell_type": "markdown",
   "id": "054ab511",
   "metadata": {},
   "source": [
    "## Dizionari innestati\n",
    "Un dizionario può contenere dizionari: cosa figa e molto potente!"
   ]
  },
  {
   "cell_type": "code",
   "execution_count": null,
   "id": "69c6b9b2",
   "metadata": {
    "vscode": {
     "languageId": "python"
    }
   },
   "outputs": [],
   "source": [
    "# Creazione di un dizionario annidato\n",
    "studenti = {\n",
    "    \"studente1\": {\n",
    "        \"nome\": \"Alice\",\n",
    "        \"eta\": 18,\n",
    "        \"corsi\": [\"Matematica\", \"Fisica\"]\n",
    "    },\n",
    "    \"studente2\": {\n",
    "        \"nome\": \"Marco\",\n",
    "        \"eta\": 17,\n",
    "        \"corsi\": [\"Storia\", \"Inglese\"]\n",
    "    },\n",
    "    \"studente3\": {\n",
    "        \"nome\": \"Sara\",\n",
    "        \"eta\": 19,\n",
    "        \"corsi\": [\"Chimica\", \"Biologia\"]\n",
    "    }\n",
    "}"
   ]
  },
  {
   "cell_type": "markdown",
   "id": "cd84edbb",
   "metadata": {},
   "source": [
    "## Metodi\n",
    "\n",
    "#### Accesso\n",
    "Per accedere ai vari elementi di un dizionari ci sono vari modi e metodi.\n",
    "Si può utilizzare una **chiave** accedendo al valore riferito ad essa, oppure con il metodo **get()**.\n",
    "\n",
    "Il metodo **get()** è importante e molto utile perché permette di specificare un valore di ritorno se la chiave specificata non esiste.\n",
    "\n",
    "```python\n",
    "dictionary.get(keyname, value)\n",
    "```"
   ]
  },
  {
   "cell_type": "code",
   "execution_count": null,
   "id": "73b893aa",
   "metadata": {
    "vscode": {
     "languageId": "python"
    }
   },
   "outputs": [
    {
     "data": {
      "text/plain": [
       "'Bastardi senza gloria'"
      ]
     },
     "metadata": {},
     "output_type": "display_data"
    }
   ],
   "source": [
    "# Riferendosi al nome della chiave\n",
    "film['titolo']"
   ]
  },
  {
   "cell_type": "code",
   "execution_count": 16,
   "id": "cc501c0a",
   "metadata": {
    "vscode": {
     "languageId": "python"
    }
   },
   "outputs": [
    {
     "data": {
      "text/plain": [
       "'Bastardi senza gloria'"
      ]
     },
     "execution_count": 16,
     "metadata": {},
     "output_type": "execute_result"
    }
   ],
   "source": [
    "# Utilizzando il metodo get()\n",
    "film.get('titolo')"
   ]
  },
  {
   "cell_type": "code",
   "execution_count": 32,
   "id": "0f8503f4-ec9b-4a8c-990f-eff475d71123",
   "metadata": {},
   "outputs": [
    {
     "data": {
      "text/plain": [
       "0"
      ]
     },
     "execution_count": 32,
     "metadata": {},
     "output_type": "execute_result"
    }
   ],
   "source": [
    "# Get() con valore di ritorno non default\n",
    "film.get('valutazione', 0)"
   ]
  },
  {
   "cell_type": "code",
   "execution_count": null,
   "id": "53b71957",
   "metadata": {
    "vscode": {
     "languageId": "python"
    }
   },
   "outputs": [
    {
     "data": {
      "text/plain": [
       "'Sara'"
      ]
     },
     "metadata": {},
     "output_type": "display_data"
    }
   ],
   "source": [
    "# Accedere ad elementi innestati\n",
    "studenti['studente3']['nome']"
   ]
  },
  {
   "cell_type": "markdown",
   "id": "e3673f7a",
   "metadata": {},
   "source": [
    "### Modifica\n",
    "I dizionari si possono modificare grazie all'utilizzo delle loro **chiavi** o con il metodo **update()**."
   ]
  },
  {
   "cell_type": "code",
   "execution_count": 34,
   "id": "00878fbb",
   "metadata": {
    "vscode": {
     "languageId": "python"
    }
   },
   "outputs": [
    {
     "name": "stdout",
     "output_type": "stream",
     "text": [
      "{'titolo': 'Bastardi senza gloria', 'regista': 'Quentin Tarantino', 'anno': 2009, 'genere': ['Guerra', 'Drammatico', 'Azione']}\n",
      "{'titolo': 'Bastardi senza gloria', 'regista': 'Quentin Tarantino', 'anno': 2009, 'genere': ['Guerra', 'Drammatico', 'Azione'], 'valutazione': 9.0}\n",
      "{'titolo': 'Bastardi senza gloria', 'regista': 'Quentin Tarantino', 'anno': 2009, 'genere': ['Guerra', 'Drammatico', 'Azione'], 'valutazione': 8.9}\n"
     ]
    }
   ],
   "source": [
    "# Riferendosi al nome della chiave\n",
    "print(film)\n",
    "film['valutazione'] = 9.0 # Aggiunta la chiave 'valutazione'\n",
    "print(film)\n",
    "film['valutazione'] = 8.9 # Modifica chiave 'valutazione'\n",
    "print(film)"
   ]
  },
  {
   "cell_type": "code",
   "execution_count": null,
   "id": "f896e48e",
   "metadata": {
    "vscode": {
     "languageId": "python"
    }
   },
   "outputs": [
    {
     "name": "stdout",
     "output_type": "stream",
     "text": [
      "{'marca': 'Ford', 'modello': 'Mustang', 'anno': 2020}\n"
     ]
    }
   ],
   "source": [
    "# Utilizzando il metodo update()\n",
    "macchina = {\n",
    "  \"marca\": \"Ford\",\n",
    "  \"modello\": \"Mustang\",\n",
    "  \"anno\": 1964\n",
    "}\n",
    "macchina.update({\"anno\": 2020})\n",
    "print(macchina)"
   ]
  },
  {
   "cell_type": "markdown",
   "id": "bc30cd1a",
   "metadata": {},
   "source": [
    "### Aggiungere un elemento\n",
    "Sempre grazie all'utilizzo della chiave e del metodo **update()** possiamo aggiungere una coppia **chiave:valore** al dizionario."
   ]
  },
  {
   "cell_type": "code",
   "execution_count": null,
   "id": "00e830e4",
   "metadata": {
    "vscode": {
     "languageId": "python"
    }
   },
   "outputs": [
    {
     "name": "stdout",
     "output_type": "stream",
     "text": [
      "{'marca': 'Ford', 'modello': 'Mustang', 'anno': 2020, 'colore': 'nero', 'targa': 'FE587GB'}\n"
     ]
    }
   ],
   "source": [
    "# Utilizzando una chiave\n",
    "macchina['targa'] = \"FE587GB\"\n",
    "print(macchina)"
   ]
  },
  {
   "cell_type": "code",
   "execution_count": null,
   "id": "168900ae",
   "metadata": {
    "vscode": {
     "languageId": "python"
    }
   },
   "outputs": [
    {
     "name": "stdout",
     "output_type": "stream",
     "text": [
      "{'marca': 'Ford', 'modello': 'Mustang', 'anno': 2020, 'colore': 'nero', 'targa': 'FE587GB'}\n"
     ]
    }
   ],
   "source": [
    "# Utilizzando il metodo update()\n",
    "macchina.update({\"colore\": \"nero\"})\n",
    "print(macchina)"
   ]
  },
  {
   "cell_type": "markdown",
   "id": "3fd21925",
   "metadata": {},
   "source": [
    "### Rimuovere un elemento\n",
    "Si possono rimuovere elementi (coppie chiave:valore) dai dizionari attravero i metodi.\n",
    "\n",
    "| Metodo | Descrizione |\n",
    "| --- |---|\n",
    "| pop()| Rimuove l'elemento con la chiave passata come parametro, restituisce errore se non esiste la chiave|\n",
    "| popitem() | Rimuove l'elemento inserito per ultimo|\n",
    "| clear() | Rimuove tutti gli elementi|"
   ]
  },
  {
   "cell_type": "code",
   "execution_count": null,
   "id": "53f79eae",
   "metadata": {
    "vscode": {
     "languageId": "python"
    }
   },
   "outputs": [
    {
     "data": {
      "text/plain": [
       "'nero'"
      ]
     },
     "metadata": {},
     "output_type": "display_data"
    }
   ],
   "source": [
    "macchina.pop(\"colore\")"
   ]
  },
  {
   "cell_type": "code",
   "execution_count": null,
   "id": "ebf96bdf",
   "metadata": {
    "vscode": {
     "languageId": "python"
    }
   },
   "outputs": [
    {
     "data": {
      "text/plain": [
       "('targa', 'FE587GB')"
      ]
     },
     "metadata": {},
     "output_type": "display_data"
    }
   ],
   "source": [
    "macchina.popitem()"
   ]
  },
  {
   "cell_type": "code",
   "execution_count": null,
   "id": "aedb9fe8",
   "metadata": {
    "vscode": {
     "languageId": "python"
    }
   },
   "outputs": [
    {
     "name": "stdout",
     "output_type": "stream",
     "text": [
      "{}\n"
     ]
    }
   ],
   "source": [
    "macchina.clear()\n",
    "print(macchina)"
   ]
  },
  {
   "cell_type": "markdown",
   "id": "15bb0629",
   "metadata": {},
   "source": [
    "### Miscellanea\n",
    "| Metodo | Descrizione |\n",
    "| ---- | ---- |\n",
    "| items() | Restituisce una lista contenente tutti gli elementi (chiave:valore) del dizionario |\n",
    "| keys() | Restituisce una lista contenente tutte le chiavi del dizionario |\n",
    "| values() | Restituisce una lista contenente tutti i valori all'interno del dizionario |\n",
    "\n",
    "**Funzione len()**: non è un metodo ma è una funzione; permette di stampare il numero di elementi nel dizionario."
   ]
  },
  {
   "cell_type": "code",
   "execution_count": null,
   "id": "2b68cbe1",
   "metadata": {
    "vscode": {
     "languageId": "python"
    }
   },
   "outputs": [
    {
     "name": "stdout",
     "output_type": "stream",
     "text": [
      "{'titolo': 'Bastardi senza gloria', 'regista': 'Quentin Tarantino', 'anno': 2009, 'genere': ['Guerra', 'Drammatico', 'Azione'], 'valutazione': 9.0}\n"
     ]
    }
   ],
   "source": [
    "print(film)"
   ]
  },
  {
   "cell_type": "code",
   "execution_count": null,
   "id": "a2ba63dd",
   "metadata": {
    "vscode": {
     "languageId": "python"
    }
   },
   "outputs": [
    {
     "data": {
      "text/plain": [
       "dict_items([('titolo', 'Bastardi senza gloria'), ('regista', 'Quentin Tarantino'), ('anno', 2009), ('genere', ['Guerra', 'Drammatico', 'Azione']), ('valutazione', 9.0)])"
      ]
     },
     "metadata": {},
     "output_type": "display_data"
    }
   ],
   "source": [
    "film.items()"
   ]
  },
  {
   "cell_type": "code",
   "execution_count": null,
   "id": "879f6e9a",
   "metadata": {
    "vscode": {
     "languageId": "python"
    }
   },
   "outputs": [
    {
     "data": {
      "text/plain": [
       "dict_keys(['titolo', 'regista', 'anno', 'genere', 'valutazione'])"
      ]
     },
     "metadata": {},
     "output_type": "display_data"
    }
   ],
   "source": [
    "film.keys()"
   ]
  },
  {
   "cell_type": "code",
   "execution_count": null,
   "id": "b95c03f6",
   "metadata": {
    "vscode": {
     "languageId": "python"
    }
   },
   "outputs": [
    {
     "data": {
      "text/plain": [
       "dict_values(['Bastardi senza gloria', 'Quentin Tarantino', 2009, ['Guerra', 'Drammatico', 'Azione'], 9.0])"
      ]
     },
     "metadata": {},
     "output_type": "display_data"
    }
   ],
   "source": [
    "film.values()"
   ]
  },
  {
   "cell_type": "code",
   "execution_count": null,
   "id": "2a55dd84",
   "metadata": {
    "vscode": {
     "languageId": "python"
    }
   },
   "outputs": [
    {
     "data": {
      "text/plain": [
       "5"
      ]
     },
     "metadata": {},
     "output_type": "display_data"
    }
   ],
   "source": [
    "len(film)"
   ]
  },
  {
   "cell_type": "markdown",
   "id": "3e4e8fcf",
   "metadata": {},
   "source": [
    "### Esercizio\n",
    "Data una serie di amici sottoforma di dizionario in cui un amico ha nome e età:\n",
    "- Restituire l'età dell'amico1\n",
    "- Restituire il nome del terzo amico (usando le chiavi)\n",
    "- Restituire il nome del terzo amico (usando get())\n",
    "- Cancellare amico6 e amico7 con popitem()\n",
    "- Cancellare amico6 e amico7 con pop()\n",
    "- Controllare se amico4 è maggiorenne\n",
    "- Chiedere all'utente di quale amico vuole sapere il nome (aspettarsi un intero) e rispondere all'utente\n",
    "- Contare quanti amici hanno più di 20 anni"
   ]
  },
  {
   "cell_type": "code",
   "execution_count": 20,
   "id": "30205147",
   "metadata": {
    "vscode": {
     "languageId": "python"
    }
   },
   "outputs": [],
   "source": [
    "amici = {\n",
    "    \"amico1\": {\n",
    "        \"nome\": \"Beatrice\",\n",
    "        \"età\": 16,\n",
    "    },\n",
    "    \"amico2\": {\n",
    "        \"nome\": \"Marco\",\n",
    "        \"età\": 21,\n",
    "    },\n",
    "    \"amico3\": {\n",
    "        \"nome\": \"Mattia\",\n",
    "        \"età\": 19,\n",
    "    },\n",
    "    \"amico4\": {\n",
    "        \"nome\": \"Stefano\",\n",
    "        \"età\": 21,\n",
    "    },\n",
    "    \"amico5\": {\n",
    "        \"nome\": \"Sara\",\n",
    "        \"età\": 24,\n",
    "    },\n",
    "    \"amico6\": {\n",
    "        \"nome\": \"Gaia\",\n",
    "        \"età\": 23,\n",
    "    },    \n",
    "    \"amico7\": {\n",
    "        \"nome\": \"Elena\",\n",
    "        \"età\": 20,\n",
    "    }\n",
    "}"
   ]
  },
  {
   "cell_type": "code",
   "execution_count": null,
   "id": "b5a1f11e",
   "metadata": {
    "vscode": {
     "languageId": "python"
    }
   },
   "outputs": [
    {
     "data": {
      "text/plain": [
       "16"
      ]
     },
     "metadata": {},
     "output_type": "display_data"
    }
   ],
   "source": [
    "# 1\n",
    "amici['amico1']['età']"
   ]
  },
  {
   "cell_type": "code",
   "execution_count": null,
   "id": "50dc5132",
   "metadata": {
    "vscode": {
     "languageId": "python"
    }
   },
   "outputs": [
    {
     "data": {
      "text/plain": [
       "'Mattia'"
      ]
     },
     "metadata": {},
     "output_type": "display_data"
    }
   ],
   "source": [
    "# 2a\n",
    "amici['amico3']['nome']"
   ]
  },
  {
   "cell_type": "code",
   "execution_count": null,
   "id": "651ad596",
   "metadata": {
    "vscode": {
     "languageId": "python"
    }
   },
   "outputs": [
    {
     "data": {
      "text/plain": [
       "'Mattia'"
      ]
     },
     "metadata": {},
     "output_type": "display_data"
    }
   ],
   "source": [
    "# 2b\n",
    "amici['amico3'].get('nome')"
   ]
  },
  {
   "cell_type": "code",
   "execution_count": 12,
   "id": "3161ddde",
   "metadata": {
    "vscode": {
     "languageId": "python"
    }
   },
   "outputs": [
    {
     "name": "stdout",
     "output_type": "stream",
     "text": [
      "('amico7', {'nome': 'Elena', 'età': 20})\n",
      "('amico6', {'nome': 'Gaia', 'età': 23})\n"
     ]
    }
   ],
   "source": [
    "# 3a\n",
    "print(amici.popitem())\n",
    "print(amici.popitem())"
   ]
  },
  {
   "cell_type": "code",
   "execution_count": 16,
   "id": "b93e5d7a",
   "metadata": {
    "vscode": {
     "languageId": "python"
    }
   },
   "outputs": [
    {
     "name": "stdout",
     "output_type": "stream",
     "text": [
      "{'nome': 'Gaia', 'età': 23}\n",
      "{'nome': 'Elena', 'età': 20}\n"
     ]
    }
   ],
   "source": [
    "# 3b \n",
    "print(amici.pop(\"amico6\"))\n",
    "print(amici.pop(\"amico7\"))"
   ]
  },
  {
   "cell_type": "code",
   "execution_count": null,
   "id": "0d5992a3",
   "metadata": {
    "vscode": {
     "languageId": "python"
    }
   },
   "outputs": [
    {
     "name": "stdout",
     "output_type": "stream",
     "text": [
      "Stefano è maggiorenne!\n"
     ]
    }
   ],
   "source": [
    "# 4\n",
    "if amici['amico4']['età'] >= 18:\n",
    "    print (amici['amico4']['nome'] + \" è maggiorenne!\")\n",
    "else:\n",
    "    print(amici['amico4']['nome'] + \" è minorenne!\")"
   ]
  },
  {
   "cell_type": "code",
   "execution_count": null,
   "id": "73e315f2",
   "metadata": {
    "vscode": {
     "languageId": "python"
    }
   },
   "outputs": [
    {
     "name": "stdout",
     "output_type": "stream",
     "text": [
      "Di quale amico vuoi sapere il nome? 3\n"
     ]
    },
    {
     "data": {
      "text/plain": [
       "'Mattia'"
      ]
     },
     "metadata": {},
     "output_type": "display_data"
    }
   ],
   "source": [
    "# 5\n",
    "numero_amico = input(\"Di quale amico vuoi sapere il nome?\")\n",
    "amici['amico'+ numero_amico]['nome']\n",
    "# Oppure\n",
    "amici[f'amico{numero_amico}']['nome']"
   ]
  },
  {
   "cell_type": "code",
   "execution_count": 45,
   "id": "98d2bbfd",
   "metadata": {
    "vscode": {
     "languageId": "python"
    }
   },
   "outputs": [
    {
     "name": "stdout",
     "output_type": "stream",
     "text": [
      "Il numero di amici maggiorenni è: 6\n"
     ]
    }
   ],
   "source": [
    "# 6a (senza ciclo for)\n",
    "maggiorenni = 0\n",
    "\n",
    "if amici[\"amico1\"][\"età\"] >= 18:\n",
    "    maggiorenni += 1\n",
    "if amici[\"amico2\"][\"età\"] >= 18:\n",
    "    maggiorenni += 1\n",
    "if amici[\"amico3\"][\"età\"] >= 18:\n",
    "    maggiorenni += 1\n",
    "if amici[\"amico4\"][\"età\"] >= 18:\n",
    "    maggiorenni += 1\n",
    "if amici[\"amico5\"][\"età\"] >= 18:\n",
    "    maggiorenni += 1\n",
    "if amici[\"amico6\"][\"età\"] >= 18:\n",
    "    maggiorenni += 1\n",
    "if amici[\"amico7\"][\"età\"] >= 18:\n",
    "    maggiorenni += 1\n",
    "\n",
    "print(f\"Il numero di amici maggiorenni è: {maggiorenni}\")"
   ]
  },
  {
   "cell_type": "markdown",
   "id": "2ac965d6-6552-46ae-982b-b6a56f004e1c",
   "metadata": {},
   "source": [
    "## Dizionari e cicli for"
   ]
  },
  {
   "cell_type": "code",
   "execution_count": 47,
   "id": "dea2a509-f49d-44c7-8550-49e9f62ca348",
   "metadata": {},
   "outputs": [
    {
     "name": "stdout",
     "output_type": "stream",
     "text": [
      "Il numero di amici maggiorenni è: 6\n"
     ]
    }
   ],
   "source": [
    "# 6b (con ciclo for)\n",
    "maggiorenni = 0\n",
    "\n",
    "for amico in amici:\n",
    "    if amici[amico]['età'] >= 18:\n",
    "        maggiorenni += 1\n",
    "\n",
    "print(f\"Il numero di amici maggiorenni è: {maggiorenni}\")"
   ]
  },
  {
   "cell_type": "code",
   "execution_count": 51,
   "id": "c69e2f07-6f6f-4056-b0dd-a97e570495dd",
   "metadata": {},
   "outputs": [
    {
     "name": "stdout",
     "output_type": "stream",
     "text": [
      "Il numero di amici maggiorenni è: 6\n"
     ]
    }
   ],
   "source": [
    "# 6c (con ciclo for)\n",
    "maggiorenni = 0\n",
    "\n",
    "for numero, amico in amici.items():\n",
    "    if amico['età'] >= 18:\n",
    "        maggiorenni += 1\n",
    "\n",
    "print(f\"Il numero di amici maggiorenni è: {maggiorenni}\")"
   ]
  }
 ],
 "metadata": {
  "kernelspec": {
   "display_name": "Python [conda env:base] *",
   "language": "python",
   "name": "conda-base-py"
  },
  "language_info": {
   "codemirror_mode": {
    "name": "ipython",
    "version": 3
   },
   "file_extension": ".py",
   "mimetype": "text/x-python",
   "name": "python",
   "nbconvert_exporter": "python",
   "pygments_lexer": "ipython3",
   "version": "3.10.16"
  }
 },
 "nbformat": 4,
 "nbformat_minor": 5
}
