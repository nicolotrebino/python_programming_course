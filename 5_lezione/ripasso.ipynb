{
 "cells": [
  {
   "cell_type": "markdown",
   "metadata": {
    "id": "HO3_61CTQIkw"
   },
   "source": [
    "# Esercizi ripasso\n",
    "\n"
   ]
  },
  {
   "cell_type": "markdown",
   "metadata": {
    "id": "qXg8RB3xSLW6"
   },
   "source": [
    "## Esercizio 1 (for)\n",
    "### Stampa quadrati\n",
    "Usa un ciclo for per calcolare e stampare i quadrati dei numeri da 1 a 10."
   ]
  },
  {
   "cell_type": "code",
   "execution_count": 31,
   "metadata": {
    "colab": {
     "base_uri": "https://localhost:8080/"
    },
    "executionInfo": {
     "elapsed": 11,
     "status": "ok",
     "timestamp": 1743326875940,
     "user": {
      "displayName": "Nicolò Trebino",
      "userId": "13577233952307306307"
     },
     "user_tz": -120
    },
    "id": "eSqbAJ42SKYm",
    "outputId": "05f75e83-a9a0-4f80-fd96-0800c889c8ea"
   },
   "outputs": [
    {
     "name": "stdout",
     "output_type": "stream",
     "text": [
      "Quadrati: [1, 4, 9, 16, 25, 36, 49, 64, 81, 100]\n"
     ]
    }
   ],
   "source": [
    "quadrati = []\n",
    "\n",
    "for i in range(1, 11):\n",
    "    quadrato = i ** 2\n",
    "    quadrati.append(quadrato)\n",
    "\n",
    "print(\"Quadrati:\", quadrati)"
   ]
  },
  {
   "cell_type": "markdown",
   "metadata": {
    "id": "bnQGm2ZlSpkU"
   },
   "source": [
    "## Esercizio 2 (for)\n",
    "Stampare tutti i numeri pari minori o uguali a 50."
   ]
  },
  {
   "cell_type": "code",
   "execution_count": 32,
   "metadata": {
    "colab": {
     "base_uri": "https://localhost:8080/"
    },
    "executionInfo": {
     "elapsed": 46,
     "status": "ok",
     "timestamp": 1743326875988,
     "user": {
      "displayName": "Nicolò Trebino",
      "userId": "13577233952307306307"
     },
     "user_tz": -120
    },
    "id": "I7oIRRCVS61z",
    "outputId": "fa58b47c-5806-49c0-dfc2-0014957537cd"
   },
   "outputs": [
    {
     "name": "stdout",
     "output_type": "stream",
     "text": [
      "2\n",
      "4\n",
      "6\n",
      "8\n",
      "10\n",
      "12\n",
      "14\n",
      "16\n",
      "18\n",
      "20\n",
      "22\n",
      "24\n",
      "26\n",
      "28\n",
      "30\n",
      "32\n",
      "34\n",
      "36\n",
      "38\n",
      "40\n",
      "42\n",
      "44\n",
      "46\n",
      "48\n",
      "50\n"
     ]
    }
   ],
   "source": [
    "for i in range(1, 26):\n",
    "  print(i*2)"
   ]
  },
  {
   "cell_type": "code",
   "execution_count": 33,
   "metadata": {
    "colab": {
     "base_uri": "https://localhost:8080/"
    },
    "executionInfo": {
     "elapsed": 37,
     "status": "ok",
     "timestamp": 1743326876026,
     "user": {
      "displayName": "Nicolò Trebino",
      "userId": "13577233952307306307"
     },
     "user_tz": -120
    },
    "id": "26wgFTTjTOx8",
    "outputId": "abcc4125-1ad1-4036-8458-226b17757099"
   },
   "outputs": [
    {
     "name": "stdout",
     "output_type": "stream",
     "text": [
      "0\n",
      "2\n",
      "4\n",
      "6\n",
      "8\n",
      "10\n",
      "12\n",
      "14\n",
      "16\n",
      "18\n",
      "20\n",
      "22\n",
      "24\n",
      "26\n",
      "28\n",
      "30\n",
      "32\n",
      "34\n",
      "36\n",
      "38\n",
      "40\n",
      "42\n",
      "44\n",
      "46\n",
      "48\n",
      "50\n"
     ]
    }
   ],
   "source": [
    "for i in range(0, 51, 2):\n",
    "  print(i)"
   ]
  },
  {
   "cell_type": "code",
   "execution_count": 34,
   "metadata": {
    "colab": {
     "base_uri": "https://localhost:8080/"
    },
    "executionInfo": {
     "elapsed": 4,
     "status": "ok",
     "timestamp": 1743326876027,
     "user": {
      "displayName": "Nicolò Trebino",
      "userId": "13577233952307306307"
     },
     "user_tz": -120
    },
    "id": "oqHF3JU4TWUU",
    "outputId": "e60a1299-9c19-4349-fd9c-b781a9cc17f0"
   },
   "outputs": [
    {
     "name": "stdout",
     "output_type": "stream",
     "text": [
      "2\n",
      "4\n",
      "6\n",
      "8\n",
      "10\n",
      "12\n",
      "14\n",
      "16\n",
      "18\n",
      "20\n",
      "22\n",
      "24\n",
      "26\n",
      "28\n",
      "30\n",
      "32\n",
      "34\n",
      "36\n",
      "38\n",
      "40\n",
      "42\n",
      "44\n",
      "46\n",
      "48\n",
      "50\n"
     ]
    }
   ],
   "source": [
    "i = 0\n",
    "while i < 50:\n",
    "  i += 2\n",
    "  print(i)"
   ]
  },
  {
   "cell_type": "markdown",
   "metadata": {
    "id": "QOdmNZ4KSH-B"
   },
   "source": [
    "## Esercizio 3 (while)\n",
    "### Calcolare la media A\n",
    "Chiedere all'utente di inserire dei numeri.\n",
    "Continuare a chiedere all'utente di inserire un numero sino a che non inserisce un numero negativo per fermare il ciclo.\n",
    "Dopo che l'utente ha inserito un numero negativo, quindi fermato il ciclo delle richeiste, stampare la media dei numeri inseriti."
   ]
  },
  {
   "cell_type": "code",
   "execution_count": 35,
   "metadata": {
    "colab": {
     "base_uri": "https://localhost:8080/"
    },
    "executionInfo": {
     "elapsed": 5158,
     "status": "ok",
     "timestamp": 1743326881186,
     "user": {
      "displayName": "Nicolò Trebino",
      "userId": "13577233952307306307"
     },
     "user_tz": -120
    },
    "id": "InHDINOHQZss",
    "outputId": "6f542cbe-df83-439b-952d-ba24074310bb"
   },
   "outputs": [
    {
     "name": "stdout",
     "output_type": "stream",
     "text": [
      "Inserire un numero (inserire un numero negativo per fermare il ciclo):5\n",
      "Inserire un numero (inserire un numero negativo per fermare il ciclo):5\n",
      "Inserire un numero (inserire un numero negativo per fermare il ciclo):5\n",
      "Inserire un numero (inserire un numero negativo per fermare il ciclo):-1\n",
      "La media dei numeri inseriti vale: 5.0\n"
     ]
    }
   ],
   "source": [
    "somma = 0\n",
    "contatore = 0\n",
    "numero = float(input(\"Inserire un numero (inserire un numero negativo per fermare il ciclo):\"))\n",
    "\n",
    "while numero >= 0:\n",
    "  somma += numero\n",
    "  contatore += 1\n",
    "  numero = float(input(\"Inserire un numero (inserire un numero negativo per fermare il ciclo):\"))\n",
    "\n",
    "if contatore > 0:\n",
    "  media = somma / contatore\n",
    "  print(f\"La media dei numeri inseriti vale: {media}\")\n",
    "else:\n",
    "  print(\"Nessun numero inserito.\")"
   ]
  },
  {
   "cell_type": "markdown",
   "metadata": {
    "id": "Fu9WQgc1RGr8"
   },
   "source": [
    "### Calcolare la media B\n",
    "Fare in modo che ad ogni nuovo numero inserito, venga calcolata immediatamente la media tra tutti i numeri inseriti in precedenza e il nuovo."
   ]
  },
  {
   "cell_type": "code",
   "execution_count": 36,
   "metadata": {
    "colab": {
     "base_uri": "https://localhost:8080/"
    },
    "executionInfo": {
     "elapsed": 6025,
     "status": "ok",
     "timestamp": 1743326887212,
     "user": {
      "displayName": "Nicolò Trebino",
      "userId": "13577233952307306307"
     },
     "user_tz": -120
    },
    "id": "S6WNZD4KRHB-",
    "outputId": "e0c33c56-7ba0-46c9-998c-76073b46aee3"
   },
   "outputs": [
    {
     "name": "stdout",
     "output_type": "stream",
     "text": [
      "Inserire un numero (inserire un numero negativo per fermare il ciclo):10\n",
      "Inserire un numero (inserire un numero negativo per fermare il ciclo):2\n",
      "La media dei numeri inseriti vale: 6.0\n",
      "Inserire un numero (inserire un numero negativo per fermare il ciclo):-1\n",
      "Ciclo terminato!\n"
     ]
    }
   ],
   "source": [
    "numero = float(input(\"Inserire un numero (inserire un numero negativo per fermare il ciclo):\"))\n",
    "somma = numero\n",
    "contatore = 1\n",
    "\n",
    "while numero >= 0:\n",
    "  numero = float(input(\"Inserire un numero (inserire un numero negativo per fermare il ciclo):\"))\n",
    "  somma += numero\n",
    "  contatore += 1\n",
    "\n",
    "  if numero < 0:\n",
    "    print(\"Ciclo terminato!\")\n",
    "  else:\n",
    "    media = somma / contatore\n",
    "    print(f\"La media dei numeri inseriti vale: {media}\")"
   ]
  },
  {
   "cell_type": "markdown",
   "metadata": {
    "id": "Feq-AF0fTua4"
   },
   "source": [
    "## Esercizio 4 (for)\n",
    "### Occorrenze\n",
    "Scrivi un programma che conti quante volte un certo valore appare in una lista."
   ]
  },
  {
   "cell_type": "code",
   "execution_count": 37,
   "metadata": {
    "colab": {
     "base_uri": "https://localhost:8080/"
    },
    "executionInfo": {
     "elapsed": 10,
     "status": "ok",
     "timestamp": 1743326887226,
     "user": {
      "displayName": "Nicolò Trebino",
      "userId": "13577233952307306307"
     },
     "user_tz": -120
    },
    "id": "tqJJToQFTt56",
    "outputId": "6bf69eb7-9389-4575-d64a-1d95719de57e"
   },
   "outputs": [
    {
     "name": "stdout",
     "output_type": "stream",
     "text": [
      "Il numero 6 appare 5 volte in [5, 2, 6, 9, 4, 6, 6, 7, 8, 3, 2, 7, 8, 9, 6, 6].\n"
     ]
    }
   ],
   "source": [
    "lista = [5, 2, 6, 9, 4, 6, 6, 7, 8, 3, 2, 7, 8, 9, 6, 6]\n",
    "elemento_ricorrente = 6\n",
    "conteggio = 0\n",
    "\n",
    "for numero in lista:\n",
    "  if numero == elemento_ricorrente:\n",
    "    conteggio += 1\n",
    "\n",
    "print(f\"Il numero {elemento_ricorrente} appare {conteggio} volte in {lista}.\")"
   ]
  },
  {
   "cell_type": "markdown",
   "metadata": {
    "id": "42FB6j7oUUtP"
   },
   "source": [
    "### Parliamo di funzioni\n"
   ]
  },
  {
   "cell_type": "code",
   "execution_count": 38,
   "metadata": {
    "colab": {
     "base_uri": "https://localhost:8080/"
    },
    "executionInfo": {
     "elapsed": 5,
     "status": "ok",
     "timestamp": 1743326887232,
     "user": {
      "displayName": "Nicolò Trebino",
      "userId": "13577233952307306307"
     },
     "user_tz": -120
    },
    "id": "gpqPxVI0UXEl",
    "outputId": "11f9ee8f-ac1e-4ed5-db30-e65d1cde2541"
   },
   "outputs": [
    {
     "data": {
      "text/plain": [
       "5"
      ]
     },
     "execution_count": 38,
     "metadata": {},
     "output_type": "execute_result"
    }
   ],
   "source": [
    "lista.count(elemento_ricorrente)"
   ]
  },
  {
   "cell_type": "code",
   "execution_count": 39,
   "metadata": {
    "executionInfo": {
     "elapsed": 1,
     "status": "ok",
     "timestamp": 1743326887234,
     "user": {
      "displayName": "Nicolò Trebino",
      "userId": "13577233952307306307"
     },
     "user_tz": -120
    },
    "id": "hyBsozdDUav5"
   },
   "outputs": [],
   "source": [
    "def conta_occorrenze(lista, elemento):\n",
    "  conteggio = 0\n",
    "  for numero in lista:\n",
    "    if numero == elemento:\n",
    "      conteggio += 1\n",
    "  return conteggio"
   ]
  },
  {
   "cell_type": "code",
   "execution_count": 40,
   "metadata": {
    "colab": {
     "base_uri": "https://localhost:8080/"
    },
    "executionInfo": {
     "elapsed": 52,
     "status": "ok",
     "timestamp": 1743326887286,
     "user": {
      "displayName": "Nicolò Trebino",
      "userId": "13577233952307306307"
     },
     "user_tz": -120
    },
    "id": "IDWf9Lo-Ul56",
    "outputId": "543c8869-7a3c-4d04-ef2e-57cd18566906"
   },
   "outputs": [
    {
     "name": "stdout",
     "output_type": "stream",
     "text": [
      "5\n"
     ]
    }
   ],
   "source": [
    "print(conta_occorrenze(lista, elemento_ricorrente))"
   ]
  },
  {
   "cell_type": "markdown",
   "metadata": {
    "id": "3unPzmHcU-DP"
   },
   "source": [
    "## Esercizio 5 (for)\n",
    "## Filtro con valore soglia\n",
    "Data una lista di numeri casuali, creare un filtro che faccia passare solo i numeri più alti di un certo valore.\n"
   ]
  },
  {
   "cell_type": "markdown",
   "metadata": {
    "id": "AoTl7B73Vnpj"
   },
   "source": [
    "- Data una lista stampare i numeri più grandi di un certo valore soglia"
   ]
  },
  {
   "cell_type": "code",
   "execution_count": 41,
   "metadata": {
    "colab": {
     "base_uri": "https://localhost:8080/"
    },
    "executionInfo": {
     "elapsed": 12,
     "status": "ok",
     "timestamp": 1743326887287,
     "user": {
      "displayName": "Nicolò Trebino",
      "userId": "13577233952307306307"
     },
     "user_tz": -120
    },
    "id": "wlw4LDIgVBxo",
    "outputId": "4615cccf-9525-4ba9-fc08-abb1cc885735"
   },
   "outputs": [
    {
     "name": "stdout",
     "output_type": "stream",
     "text": [
      "9\n",
      "7\n",
      "8\n",
      "7\n",
      "8\n",
      "9\n"
     ]
    }
   ],
   "source": [
    "lista = [5, 2, 6, 9, 4, 6, 6, 7, 8, 3, 2, 7, 8, 9, 6, 6]\n",
    "valore_soglia = 7\n",
    "\n",
    "for numero in lista:\n",
    "  if numero >= valore_soglia:\n",
    "    print(numero)"
   ]
  },
  {
   "cell_type": "markdown",
   "metadata": {
    "id": "DAlUwlyJVto1"
   },
   "source": [
    "- Invece di stampare i numeri, creare una nuova lista con questi numeri"
   ]
  },
  {
   "cell_type": "code",
   "execution_count": 42,
   "metadata": {
    "colab": {
     "base_uri": "https://localhost:8080/"
    },
    "executionInfo": {
     "elapsed": 11,
     "status": "ok",
     "timestamp": 1743326887288,
     "user": {
      "displayName": "Nicolò Trebino",
      "userId": "13577233952307306307"
     },
     "user_tz": -120
    },
    "id": "nKYEShtBVz-h",
    "outputId": "d905e0ce-7cc3-40ef-aa8d-cb23e42bb5ad"
   },
   "outputs": [
    {
     "name": "stdout",
     "output_type": "stream",
     "text": [
      "[9, 7, 8, 7, 8, 9]\n"
     ]
    }
   ],
   "source": [
    "lista = [5, 2, 6, 9, 4, 6, 6, 7, 8, 3, 2, 7, 8, 9, 6, 6]\n",
    "valore_soglia = 7\n",
    "lista_filtrata = []\n",
    "\n",
    "for numero in lista:\n",
    "  if numero >= valore_soglia:\n",
    "    lista_filtrata.append(numero)\n",
    "\n",
    "print(lista_filtrata)"
   ]
  },
  {
   "cell_type": "markdown",
   "metadata": {
    "id": "TwwittF9V9Rn"
   },
   "source": [
    "- Dal codice appena prodotto, creare una funzione che prenda come parametro la lista e il valore soglia e restituisca la lista filtrata"
   ]
  },
  {
   "cell_type": "code",
   "execution_count": 43,
   "metadata": {
    "colab": {
     "base_uri": "https://localhost:8080/"
    },
    "executionInfo": {
     "elapsed": 12,
     "status": "ok",
     "timestamp": 1743326887291,
     "user": {
      "displayName": "Nicolò Trebino",
      "userId": "13577233952307306307"
     },
     "user_tz": -120
    },
    "id": "QZ0RA78CWGUc",
    "outputId": "27037e12-4155-410a-91bd-c2370cd2b561"
   },
   "outputs": [
    {
     "name": "stdout",
     "output_type": "stream",
     "text": [
      "Numeri maggiori di 10 : [12, 8, 19, 33, 22]\n"
     ]
    }
   ],
   "source": [
    "def filtro(lista, soglia):\n",
    "  lista_filtrata = []\n",
    "\n",
    "  for numero in lista:\n",
    "    if numero >= valore_soglia:\n",
    "      lista_filtrata.append(numero)\n",
    "\n",
    "  return lista_filtrata\n",
    "\n",
    "numeri = [12, 5, 8, 19, 33, 4, 22]\n",
    "soglia = 10\n",
    "\n",
    "print(\"Numeri maggiori di\", soglia, \":\", filtro(numeri, soglia))"
   ]
  },
  {
   "cell_type": "markdown",
   "metadata": {
    "id": "EARrIlI2XOKQ"
   },
   "source": [
    "## Esercizio 6\n",
    "### Promosso o bocciato?\n",
    "\n",
    "Hai tre liste che rappresentano:\n",
    "1. `studenti` - I nomi degli studenti di una classe.\n",
    "2. `voti` - I voti corrispondenti a ciascun studente.\n",
    "3. `promossi` - Una lista vuota che conterrà i nomi degli studenti promossi.\n",
    "\n",
    "Scrivi un programma che:\n",
    "1. Utilizzi un ciclo `while` per scorrere la lista degli `studenti` e dei loro voti.\n",
    "2. Controlli i voti degli studenti:\n",
    "    - Se un voto è maggiore o uguale a 6, aggiungi lo studente alla lista `promossi`.\n",
    "    - Altrimenti, stampa un messaggio indicando che lo studente non è stato promosso.\n",
    "3. Al termine, stampa la lista degli studenti promossi e di quelli non promossi.\n",
    "\n",
    "Dati iniziali:\n",
    "```python\n",
    "studenti = [\"Alice\", \"Bob\", \"Charlie\", \"Diana\", \"Eve\"]\n",
    "voti = [7, 5, 6, 8, 4]\n",
    "promossi = []\n",
    "```\n",
    "\n",
    "Esempio di output atteso:\n",
    "> Alice è stato/a promosso/a!\n",
    ">\n",
    "> Bob non è stato/a promosso/a. Voto: 5\n",
    ">\n",
    "> Charlie è stato/a promosso/a!\n",
    ">\n",
    "> Diana è stato/a promosso/a!\n",
    ">\n",
    "> Eve non è stato/a promosso/a. Voto: 4\n",
    "\n",
    "Risultato finale:\n",
    "> Studenti promossi: ['Alice', 'Charlie', 'Diana']\n",
    ">\n",
    "> Studenti non promossi: ['Bob', 'Eve']"
   ]
  },
  {
   "cell_type": "code",
   "execution_count": 44,
   "metadata": {
    "executionInfo": {
     "elapsed": 9,
     "status": "ok",
     "timestamp": 1743326887291,
     "user": {
      "displayName": "Nicolò Trebino",
      "userId": "13577233952307306307"
     },
     "user_tz": -120
    },
    "id": "0rHQFfUzXjoV"
   },
   "outputs": [],
   "source": [
    "# Dati iniziali\n",
    "studenti = [\"Alice\", \"Bob\", \"Charlie\", \"Diana\", \"Eve\"]\n",
    "voti = [7, 5, 6, 8, 4]\n",
    "promossi = []\n",
    "non_promossi = []"
   ]
  },
  {
   "cell_type": "code",
   "execution_count": 45,
   "metadata": {
    "colab": {
     "base_uri": "https://localhost:8080/"
    },
    "executionInfo": {
     "elapsed": 13,
     "status": "ok",
     "timestamp": 1743326887295,
     "user": {
      "displayName": "Nicolò Trebino",
      "userId": "13577233952307306307"
     },
     "user_tz": -120
    },
    "id": "ybIwMlJhXoJC",
    "outputId": "0e63a6ec-cce5-4d34-8f9c-7f5f8c8fe3be"
   },
   "outputs": [
    {
     "name": "stdout",
     "output_type": "stream",
     "text": [
      "Alice è stato/a promosso/a! Voto: 7\n",
      "Bob NON è stato/a promosso/a. Voto: 5\n",
      "Charlie è stato/a promosso/a! Voto: 6\n",
      "Diana è stato/a promosso/a! Voto: 8\n",
      "Eve NON è stato/a promosso/a. Voto: 4\n",
      "Studenti promossi: ['Alice', 'Charlie', 'Diana']\n",
      "Studenti non promossi: ['Bob', 'Eve']\n"
     ]
    }
   ],
   "source": [
    "# Inizializzazione dell'indice per il ciclo while\n",
    "i = 0\n",
    "\n",
    "while i < len(studenti):\n",
    "    # Ottieni lo studente e il voto corrente\n",
    "    studente = studenti[i]\n",
    "    voto = voti[i]\n",
    "\n",
    "    if voto >= 6:\n",
    "        # Aggiungi lo studente ai promossi\n",
    "        promossi.append(studente)\n",
    "        print(f\"{studente} è stato/a promosso/a! Voto: {voto}\")\n",
    "    else:\n",
    "        # Aggiungi lo studente ai non promossi\n",
    "        non_promossi.append(studente)\n",
    "        print(f\"{studente} NON è stato/a promosso/a. Voto: {voto}\")\n",
    "\n",
    "    i += 1\n",
    "\n",
    "# Risultato finale\n",
    "print(f\"Studenti promossi: {promossi}\")\n",
    "print(f\"Studenti non promossi: {non_promossi}\")"
   ]
  }
 ],
 "metadata": {
  "colab": {
   "authorship_tag": "ABX9TyO1czcpio0mgLayqdgJKYN5",
   "provenance": []
  },
  "kernelspec": {
   "display_name": "Python [conda env:base] *",
   "language": "python",
   "name": "conda-base-py"
  },
  "language_info": {
   "codemirror_mode": {
    "name": "ipython",
    "version": 3
   },
   "file_extension": ".py",
   "mimetype": "text/x-python",
   "name": "python",
   "nbconvert_exporter": "python",
   "pygments_lexer": "ipython3",
   "version": "3.10.16"
  }
 },
 "nbformat": 4,
 "nbformat_minor": 4
}
