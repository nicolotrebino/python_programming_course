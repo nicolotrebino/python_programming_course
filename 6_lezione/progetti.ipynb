{
 "cells": [
  {
   "cell_type": "markdown",
   "id": "af0030b3-9b52-4c78-b301-1d9aa1dd6bd0",
   "metadata": {},
   "source": [
    "# Progettini\n",
    "\n",
    "## Progetto 1\n",
    "### Rubrica smart"
   ]
  },
  {
   "cell_type": "code",
   "execution_count": 2,
   "id": "f8d98aaf-9d57-40f4-bdac-7a38ebd02cdd",
   "metadata": {},
   "outputs": [
    {
     "name": "stdin",
     "output_type": "stream",
     "text": [
      "Comando (aggiungi/cerca/elimina/exit):  exit\n"
     ]
    },
    {
     "name": "stdout",
     "output_type": "stream",
     "text": [
      "Chiusura rubrica...\n"
     ]
    }
   ],
   "source": [
    "def aggiungi_contatto(rubrica, nome, numero):\n",
    "    rubrica[nome] = numero\n",
    "    print(f\"Contatto {nome} aggiunto con numero {numero}\")\n",
    "\n",
    "def cerca_contatto(rubrica, nome):\n",
    "    if nome in rubrica:\n",
    "        print(f\"Numero di {nome}: {rubrica[nome]}\")\n",
    "    else:\n",
    "        print(f\"{nome} non trovato nella rubrica.\")\n",
    "\n",
    "def elimina_contatto(rubrica, nome):\n",
    "    if nome in rubrica:\n",
    "        del rubrica[nome]\n",
    "        print(f\"Contatto {nome} eliminato.\")\n",
    "    else:\n",
    "        print(f\"{nome} non presente nella rubrica.\")\n",
    "\n",
    "# Esempio di utilizzo\n",
    "rubrica = {}\n",
    "\n",
    "while True:\n",
    "    comando = input(\"Comando (aggiungi/cerca/elimina/exit): \").lower()\n",
    "    \n",
    "    if comando == \"aggiungi\":\n",
    "        nome = input(\"Nome: \")\n",
    "        numero = input(\"Numero: \")\n",
    "        aggiungi_contatto(rubrica, nome, numero)\n",
    "    \n",
    "    elif comando == \"cerca\":\n",
    "        nome = input(\"Nome da cercare: \")\n",
    "        cerca_contatto(rubrica, nome)\n",
    "\n",
    "    elif comando == \"elimina\":\n",
    "        nome = input(\"Nome da eliminare: \")\n",
    "        elimina_contatto(rubrica, nome)\n",
    "\n",
    "    elif comando == \"exit\":\n",
    "        print(\"Chiusura rubrica...\")\n",
    "        break\n",
    "    \n",
    "    else:\n",
    "        print(\"Comando non riconosciuto. Riprova.\")"
   ]
  },
  {
   "cell_type": "markdown",
   "id": "5f85aaf1-3789-4ec5-be88-c8e6d4c4c4c2",
   "metadata": {},
   "source": [
    "## Progetto 2\n",
    "### Gestione delle spese\n",
    "Creare un programma che permetta di gestire le spese personali in modo semplice. \n",
    "\n",
    "Gli utenti potranno aggiungere, visualizzare e analizzare le proprie spese per tenere traccia dei loro acquisti."
   ]
  },
  {
   "cell_type": "code",
   "execution_count": 3,
   "id": "71f4de53-87d8-4a4f-b6e8-884322cdc692",
   "metadata": {},
   "outputs": [
    {
     "name": "stdout",
     "output_type": "stream",
     "text": [
      "\n",
      "--- App di Gestione delle Spese ---\n",
      "1. Aggiungi una spesa\n",
      "2. Visualizza tutte le spese\n",
      "3. Calcola totale delle spese\n",
      "4. Filtra spese per categoria\n",
      "5. Esci\n"
     ]
    },
    {
     "name": "stdin",
     "output_type": "stream",
     "text": [
      "Scegli un'opzione:  1\n",
      "Inserisci la data (GG/MM/AAAA):  02\n",
      "Inserisci l'importo della spesa:  12\n",
      "Inserisci la categoria (es. cibo, trasporti, shopping):  2024\n"
     ]
    },
    {
     "name": "stdout",
     "output_type": "stream",
     "text": [
      "Spesa aggiunta: {'data': '02', 'importo': 12.0, 'categoria': '2024'}\n",
      "\n",
      "--- App di Gestione delle Spese ---\n",
      "1. Aggiungi una spesa\n",
      "2. Visualizza tutte le spese\n",
      "3. Calcola totale delle spese\n",
      "4. Filtra spese per categoria\n",
      "5. Esci\n"
     ]
    },
    {
     "name": "stdin",
     "output_type": "stream",
     "text": [
      "Scegli un'opzione:  Colazione\n"
     ]
    },
    {
     "name": "stdout",
     "output_type": "stream",
     "text": [
      "Opzione non valida. Riprova.\n",
      "\n",
      "--- App di Gestione delle Spese ---\n",
      "1. Aggiungi una spesa\n",
      "2. Visualizza tutte le spese\n",
      "3. Calcola totale delle spese\n",
      "4. Filtra spese per categoria\n",
      "5. Esci\n"
     ]
    },
    {
     "name": "stdin",
     "output_type": "stream",
     "text": [
      "Scegli un'opzione:  5\n"
     ]
    },
    {
     "name": "stdout",
     "output_type": "stream",
     "text": [
      "Uscita dall'app.\n"
     ]
    }
   ],
   "source": [
    "# Dizionario che conterrà le spese con chiavi data, importo e categoria\n",
    "spese = []\n",
    "\n",
    "# Funzione per aggiungere una spesa\n",
    "def aggiungi_spesa(data, importo, categoria):\n",
    "    spesa = {\n",
    "        \"data\": data,\n",
    "        \"importo\": float(importo),\n",
    "        \"categoria\": categoria\n",
    "    }\n",
    "    spese.append(spesa)\n",
    "    print(f\"Spesa aggiunta: {spesa}\")\n",
    "\n",
    "# Funzione per visualizzare tutte le spese\n",
    "def visualizza_spese():\n",
    "    print(\"\\n--- Lista delle Spese ---\")\n",
    "    if not spese:\n",
    "        print(\"Nessuna spesa registrata.\")\n",
    "    for spesa in spese:\n",
    "        print(f\"Data: {spesa['data']}, Importo: {spesa['importo']}, Categoria: {spesa['categoria']}\")\n",
    "    print(\"--------------------------\")\n",
    "\n",
    "# Funzione per calcolare il totale delle spese\n",
    "def calcola_totale_spese():\n",
    "    totale = sum(spesa['importo'] for spesa in spese)\n",
    "    print(f\"\\nIl totale delle spese è: {totale:.2f}\")\n",
    "\n",
    "# Funzione per filtrare le spese per categoria\n",
    "def filtra_per_categoria(categoria):\n",
    "    print(f\"\\n--- Spese per Categoria: {categoria} ---\")\n",
    "    spese_categoria = [spesa for spesa in spese if spesa['categoria'].lower() == categoria.lower()]\n",
    "    if not spese_categoria:\n",
    "        print(\"Nessuna spesa trovata per questa categoria.\")\n",
    "    for spesa in spese_categoria:\n",
    "        print(f\"Data: {spesa['data']}, Importo: {spesa['importo']}, Categoria: {spesa['categoria']}\")\n",
    "    print(\"--------------------------\")\n",
    "\n",
    "# Funzione principale del programma\n",
    "def menu():\n",
    "    while True:\n",
    "        print(\"\\n--- App di Gestione delle Spese ---\")\n",
    "        print(\"1. Aggiungi una spesa\")\n",
    "        print(\"2. Visualizza tutte le spese\")\n",
    "        print(\"3. Calcola totale delle spese\")\n",
    "        print(\"4. Filtra spese per categoria\")\n",
    "        print(\"5. Esci\")\n",
    "        \n",
    "        scelta = input(\"Scegli un'opzione: \")\n",
    "        \n",
    "        if scelta == \"1\":\n",
    "            data = input(\"Inserisci la data (GG/MM/AAAA): \")\n",
    "            importo = input(\"Inserisci l'importo della spesa: \")\n",
    "            categoria = input(\"Inserisci la categoria (es. cibo, trasporti, shopping): \")\n",
    "            aggiungi_spesa(data, importo, categoria)\n",
    "        \n",
    "        elif scelta == \"2\":\n",
    "            visualizza_spese()\n",
    "        \n",
    "        elif scelta == \"3\":\n",
    "            calcola_totale_spese()\n",
    "        \n",
    "        elif scelta == \"4\":\n",
    "            categoria = input(\"Inserisci la categoria per il filtro: \")\n",
    "            filtra_per_categoria(categoria)\n",
    "        \n",
    "        elif scelta == \"5\":\n",
    "            print(\"Uscita dall'app.\")\n",
    "            break\n",
    "        \n",
    "        else:\n",
    "            print(\"Opzione non valida. Riprova.\")\n",
    "\n",
    "# Avvia il programma\n",
    "menu()"
   ]
  },
  {
   "cell_type": "markdown",
   "id": "2e277725-414e-4469-947d-fcf067beecea",
   "metadata": {},
   "source": [
    "## Progetto 3\n",
    "### Sign Up e Log In utente"
   ]
  },
  {
   "cell_type": "code",
   "execution_count": 10,
   "id": "4655f73a-5f21-4b4d-8784-25a802978f88",
   "metadata": {},
   "outputs": [
    {
     "name": "stdout",
     "output_type": "stream",
     "text": [
      "\n",
      "--- Registrazione ---\n"
     ]
    },
    {
     "name": "stdin",
     "output_type": "stream",
     "text": [
      "Scegli un nome utente:  Nik\n",
      "Inserisci la tua email:  nico\n",
      "Scegli una password:  ciao\n"
     ]
    },
    {
     "name": "stdout",
     "output_type": "stream",
     "text": [
      "Registrazione completata!\n",
      "\n",
      "\n",
      "--- Login ---\n"
     ]
    },
    {
     "name": "stdin",
     "output_type": "stream",
     "text": [
      "Inserisci il nome utente:  Nik\n",
      "Inserisci la password:  cia\n"
     ]
    },
    {
     "name": "stdout",
     "output_type": "stream",
     "text": [
      "Errore! Nome utente o password errati.\n",
      "\n"
     ]
    }
   ],
   "source": [
    "# Dizionario per memorizzare i dati dell'utente\n",
    "utente = {}\n",
    "\n",
    "# Funzione per la registrazione\n",
    "def registra_utente():\n",
    "    print(\"\\n--- Registrazione ---\")\n",
    "    username = input(\"Scegli un nome utente: \")\n",
    "    email = input(\"Inserisci la tua email: \")\n",
    "    password = input(\"Scegli una password: \")\n",
    "    \n",
    "    # Memorizza le informazioni nel dizionario\n",
    "    utente[\"username\"] = username\n",
    "    utente[\"email\"] = email\n",
    "    utente[\"password\"] = password\n",
    "    print(\"Registrazione completata!\\n\")\n",
    "\n",
    "# Funzione per il login\n",
    "def login():\n",
    "    print(\"\\n--- Login ---\")\n",
    "    if not utente:\n",
    "        print(\"Nessun utente registrato! Devi registrarti prima.\")\n",
    "        return False\n",
    "    \n",
    "    username = input(\"Inserisci il nome utente: \")\n",
    "    password = input(\"Inserisci la password: \")\n",
    "    \n",
    "    # Controllo delle credenziali\n",
    "    if username == utente[\"username\"] and password == utente[\"password\"]:\n",
    "        print(\"Login riuscito!\\n\")\n",
    "        return True\n",
    "    else:\n",
    "        print(\"Errore! Nome utente o password errati.\\n\")\n",
    "        return False\n",
    "\n",
    "# Funzione per visualizzare le informazioni personali\n",
    "def visualizza_info():\n",
    "    print(\"\\n--- Info Personali ---\")\n",
    "    print(f\"Nome utente: {utente['username']}\")\n",
    "    print(f\"Email: {utente['email']}\")\n",
    "    print(\"----------------------\\n\")\n",
    "\n",
    "# Funzione per cambiare email\n",
    "def cambia_email():\n",
    "    nuova_email = input(\"Inserisci la nuova email: \")\n",
    "    utente[\"email\"] = nuova_email\n",
    "    print(\"Email aggiornata con successo!\\n\")\n",
    "\n",
    "# Funzione per cambiare password\n",
    "def cambia_password():\n",
    "    nuova_password = input(\"Inserisci la nuova password: \")\n",
    "    utente[\"password\"] = nuova_password\n",
    "    print(\"Password aggiornata con successo!\\n\")\n",
    "\n",
    "# Funzione principale\n",
    "def menu():\n",
    "    registra_utente()  # Prima fase: registrazione\n",
    "\n",
    "    if not login():  # Se il login fallisce, esce dal programma\n",
    "        return\n",
    "\n",
    "    while True:\n",
    "        print(\"\\n--- Menu ---\")\n",
    "        print(\"1 - Visualizza info personali\")\n",
    "        print(\"2 - Cambia email\")\n",
    "        print(\"3 - Cambia password\")\n",
    "        print(\"4 - Esci\")\n",
    "        \n",
    "        scelta = input(\"Scegli un'opzione: \")\n",
    "\n",
    "        if scelta == \"1\":\n",
    "            visualizza_info()\n",
    "        elif scelta == \"2\":\n",
    "            cambia_email()\n",
    "        elif scelta == \"3\":\n",
    "            cambia_password()\n",
    "        elif scelta == \"4\":\n",
    "            print(\"Uscita dal programma.\")\n",
    "            break\n",
    "        else:\n",
    "            print(\"Opzione non valida. Riprova.\")\n",
    "\n",
    "# Avvio del programma\n",
    "menu()\n"
   ]
  }
 ],
 "metadata": {
  "kernelspec": {
   "display_name": "Python [conda env:base] *",
   "language": "python",
   "name": "conda-base-py"
  },
  "language_info": {
   "codemirror_mode": {
    "name": "ipython",
    "version": 3
   },
   "file_extension": ".py",
   "mimetype": "text/x-python",
   "name": "python",
   "nbconvert_exporter": "python",
   "pygments_lexer": "ipython3",
   "version": "3.10.16"
  }
 },
 "nbformat": 4,
 "nbformat_minor": 5
}
