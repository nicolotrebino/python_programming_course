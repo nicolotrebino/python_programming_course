{
 "cells": [
  {
   "cell_type": "markdown",
   "id": "af0030b3-9b52-4c78-b301-1d9aa1dd6bd0",
   "metadata": {},
   "source": [
    "# Progetti\n",
    "\n",
    "## 1. Calcolatrice Interattiva in Python"
   ]
  },
  {
   "cell_type": "code",
   "execution_count": 8,
   "id": "53339182-1557-45a9-9c97-9bda6ec0bcc9",
   "metadata": {},
   "outputs": [
    {
     "name": "stdout",
     "output_type": "stream",
     "text": [
      "\n",
      "___CALCOLATRICE___\n",
      "Scegli l'operazione che vuoi eseguire:\n",
      "1. Addizione\n",
      "2. Sottrazione\n",
      "3. Moltiplicazione\n",
      "4. Divisione\n",
      "5. Esponenziale\n",
      "6. Radice quadrata\n",
      "0. Esci\n"
     ]
    },
    {
     "name": "stdin",
     "output_type": "stream",
     "text": [
      "Inserisci il numero corrispondente all'operazione desiderata:  0\n"
     ]
    },
    {
     "name": "stdout",
     "output_type": "stream",
     "text": [
      "Arrivederci!\n"
     ]
    }
   ],
   "source": [
    "import math\n",
    "\n",
    "def calcolatrice():\n",
    "  # Somma\n",
    "  def somma(a, b):\n",
    "    return a + b\n",
    "\n",
    "  # Differenza\n",
    "  def differenza(a, b):\n",
    "    return a - b\n",
    "\n",
    "  # Moltiplicazione\n",
    "  def moltiplicazione(a, b):\n",
    "    return a * b\n",
    "\n",
    "  # Divisione\n",
    "  def divisione(a, b):\n",
    "    if b != 0:\n",
    "      return a / b\n",
    "    else:\n",
    "      return \"Errore: non è possibile dividere per zero\"\n",
    "\n",
    "  # Esponenziale\n",
    "  def esponenziale(a, b):\n",
    "    return a**b\n",
    "\n",
    "  # Radice quadrata\n",
    "  def radice_quadrata(a):\n",
    "    if a >= 0:\n",
    "      return math.sqrt(a)\n",
    "    else:\n",
    "      return \"Errore: il numero deve essere positivo\"\n",
    "\n",
    "  # Loop principale\n",
    "  while True:\n",
    "    print(\"\\n___CALCOLATRICE___\")\n",
    "    print(\"Scegli l'operazione che vuoi eseguire:\")\n",
    "    print(\"1. Addizione\")\n",
    "    print(\"2. Sottrazione\")\n",
    "    print(\"3. Moltiplicazione\")\n",
    "    print(\"4. Divisione\")\n",
    "    print(\"5. Esponenziale\")\n",
    "    print(\"6. Radice quadrata\")\n",
    "    print(\"0. Esci\")\n",
    "\n",
    "    scelta = input(\"Inserisci il numero corrispondente all'operazione desiderata: \")\n",
    "\n",
    "    if scelta == \"0\":\n",
    "      print(\"Arrivederci!\")\n",
    "      break\n",
    "    elif scelta in [\"1\", \"2\", \"3\", \"4\", \"5\"]:\n",
    "      num1 = float(input(\"Inserisci il primo numero: \"))\n",
    "      num2 = float(input(\"Inserisci il secondo numero: \"))\n",
    "\n",
    "      if scelta == \"1\":\n",
    "        print(\"Risultato:\", somma(num1, num2))\n",
    "      elif scelta == \"2\":\n",
    "        print(\"Risultato:\", differenza(num1, num2))\n",
    "      elif scelta == \"3\":\n",
    "        print(\"Risultato:\", moltiplicazione(num1, num2))\n",
    "      elif scelta == \"4\":\n",
    "          print(\"Risultato:\", divisione(num1, num2))\n",
    "      elif scelta == \"5\":\n",
    "        print(\"Risultato:\", esponenziale(num1, num2))\n",
    "    elif scelta == \"6\":\n",
    "      num1 = float(input(\"Inserisci il numero: \"))\n",
    "      print(\"Risultato:\", radice_quadrata(num1))\n",
    "    else:\n",
    "      print(\"Scelta non valida. Riprova.\")\n",
    "\n",
    "calcolatrice()"
   ]
  },
  {
   "cell_type": "markdown",
   "id": "602fa16d-f1fc-4bce-877d-c35fa00df9b7",
   "metadata": {},
   "source": [
    "## 2. Gioco dell'Impiccato in Python"
   ]
  },
  {
   "cell_type": "code",
   "execution_count": 16,
   "id": "18c13880-96a8-420b-ab4e-081cfa3591ed",
   "metadata": {},
   "outputs": [
    {
     "name": "stdout",
     "output_type": "stream",
     "text": [
      "_____IMPICCATO_____\n",
      "Benvenuto!\n",
      "Tentativi rimanenti: 6\n",
      "Parola da indovinare: _ _ _ _ _ _ _ _ _ _ _ _ _ _\n"
     ]
    },
    {
     "name": "stdin",
     "output_type": "stream",
     "text": [
      "\n",
      "Inserisci una lettera:  -1\n"
     ]
    },
    {
     "name": "stdout",
     "output_type": "stream",
     "text": [
      "\n",
      "MI SPIACE, hai esaurito i tentativi.\n",
      "La parola da indovinare era: programmazione\n"
     ]
    }
   ],
   "source": [
    "import random\n",
    "\n",
    "def impiccato():\n",
    "  parole_da_indovinare = [\"python\", \"programmazione\", \"informatica\", \"computer\", \"algoritmo\"]\n",
    "\n",
    "  # Scelta casuale della parola\n",
    "  parola_segreta = random.choice(parole_da_indovinare)\n",
    "  lunghezza_parola = len(parola_segreta)\n",
    "\n",
    "\n",
    "  # Inizializzazione variabili\n",
    "  tentativi_rimanenti = 6 # numero di tentativi\n",
    "  tentativi_eseguiti = [] # lettere già provate\n",
    "  parola_indovinata = [\"_\"] * lunghezza_parola # spazi bianchi per le lettere non ancora indovinate\n",
    "\n",
    "  print(\"_____IMPICCATO_____\")\n",
    "  print(\"Benvenuto!\")\n",
    "  print(\"Tentativi rimanenti:\", tentativi_rimanenti)\n",
    "  print(\"Parola da indovinare:\", \" \".join(parola_indovinata))\n",
    "\n",
    "  while tentativi_rimanenti > 0 and \"_\" in parola_indovinata:\n",
    "    tentativo = input(\"\\nInserisci una lettera: \").lower()\n",
    "\n",
    "    if tentativo == \"-1\":\n",
    "        break\n",
    "\n",
    "    # Controllo se l'input dell'utente è valido (singola lettera)\n",
    "    if len(tentativo) != 1 or not tentativo.isalpha():\n",
    "      print(\"Inserisci una lettera valida.\")\n",
    "      continue\n",
    "\n",
    "    # Controllo se la lettera inserita è giù stata provata in precedenza\n",
    "    if tentativo in tentativi_eseguiti:\n",
    "      print(f\"Hai già tentato questa lettera ({tentativo}), provane un'altra\")\n",
    "      continue\n",
    "\n",
    "    tentativi_eseguiti.append(tentativo) # aggiungi il nuovo tentativo allo storico di lettere provate\n",
    "\n",
    "    # Verifica se la lettera è presente nella parola\n",
    "    if tentativo in parola_segreta:\n",
    "      print(f\"\\nGRANDE! La lettera '{tentativo}' è presente nella parola.\")\n",
    "      for i in range(lunghezza_parola):\n",
    "        if parola_segreta[i] == tentativo:\n",
    "          parola_indovinata[i] = tentativo\n",
    "    else:\n",
    "      tentativi_rimanenti -= 1\n",
    "      print(f\"\\nMi dispiace, la lettera '{tentativo}' non è presente nella parola.\")\n",
    "\n",
    "    print(\"Tentativi rimanenti:\", tentativi_rimanenti)\n",
    "    print(\"Parola da indovinare:\", \" \".join(parola_indovinata))\n",
    "\n",
    "  if \"_\" not in parola_indovinata:\n",
    "    print(\"\\nCONGRATULAZIONI!\")\n",
    "    print(\"Hai indovinato la parola:\", parola_segreta)\n",
    "  else:\n",
    "    print(\"\\nMI SPIACE, hai esaurito i tentativi.\")\n",
    "    print(\"La parola da indovinare era:\", parola_segreta)\n",
    "\n",
    "# Esegui il gioco\n",
    "impiccato()"
   ]
  },
  {
   "cell_type": "markdown",
   "id": "7bb04ea1-ea8f-463c-88c7-c654269ea1b7",
   "metadata": {},
   "source": [
    "## 3. Lista della Spesa Interattiva in Python"
   ]
  },
  {
   "cell_type": "code",
   "execution_count": 18,
   "id": "42a43f1d-f491-4ea6-84bd-29aec18e72b7",
   "metadata": {},
   "outputs": [
    {
     "name": "stdout",
     "output_type": "stream",
     "text": [
      "_____LISTA DELLA SPESA_____\n",
      "1. Visualizza lista della spesa\n",
      "2. Aggiungi elemento alla lista\n",
      "3. Rimuovi elemento dalla lista\n",
      "4. Ordina lista in ordine alfabetico\n",
      "5. Esci\n"
     ]
    },
    {
     "name": "stdin",
     "output_type": "stream",
     "text": [
      "Scegli un'opzione (1-5):  5\n"
     ]
    },
    {
     "name": "stdout",
     "output_type": "stream",
     "text": [
      "Arrivederci!\n"
     ]
    }
   ],
   "source": [
    "def lista_spesa():\n",
    "  # Inizializzazione lista vuota\n",
    "  lista_spesa = []\n",
    "\n",
    "  # Funzione per visualizzare la lista della spesa\n",
    "  def visualizza_lista():\n",
    "    if lista_spesa:\n",
    "      print(\"\\nLista della spesa:\")\n",
    "      for elemento in lista_spesa:\n",
    "        print(f\"- {elemento}\")\n",
    "    else:\n",
    "      print(\"\\nLa lista della spesa è vuota.\")\n",
    "\n",
    "  # Funzione per aggiungere un elemento alla lista\n",
    "  def aggiungi_elemento():\n",
    "    elemento = input(\"Inserisci un elemento nella lista: \")\n",
    "    if elemento.isalnum():\n",
    "      lista_spesa.append(elemento)\n",
    "      print(f\"\\nL'elemento '{elemento}' è stato aggiunto alla lista.\")\n",
    "    else:\n",
    "      print(\"\\nGli elementi della lista devono essere alfanumerici.\")\n",
    "\n",
    "  # Funzione per rimuovere un elemento dalla lista\n",
    "  def rimuovi_elemento():\n",
    "    elemento = input(\"Inserisci l'elemento da rimuovere dalla lista: \")\n",
    "    if elemento in lista_spesa:\n",
    "      lista_spesa.remove(elemento)\n",
    "      print(f\"\\nL'elemento '{elemento}' è stato rimosso dalla lista.\")\n",
    "    else:\n",
    "      print(f\"\\nL'elemento '{elemento}' non è presente nella lista.\")\n",
    "\n",
    "  # Funzione per ordinare la lista in ordine alfabetico\n",
    "  def ordina_lista():\n",
    "    if lista_spesa:\n",
    "      lista_spesa.sort()\n",
    "      print(\"\\nLa lista della spesa è stata ordinata in ordine alfabetico.\")\n",
    "    else:\n",
    "      print(\"\\nLa lista della spesa è vuota. Non è possibile ordinarla.\")\n",
    "\n",
    "  # Loop menu principale\n",
    "  while True:\n",
    "    print(\"_____LISTA DELLA SPESA_____\")\n",
    "    print(\"1. Visualizza lista della spesa\")\n",
    "    print(\"2. Aggiungi elemento alla lista\")\n",
    "    print(\"3. Rimuovi elemento dalla lista\")\n",
    "    print(\"4. Ordina lista in ordine alfabetico\")\n",
    "    print(\"5. Esci\")\n",
    "\n",
    "    scelta = input(\"Scegli un'opzione (1-5): \")\n",
    "\n",
    "    if scelta == \"1\":\n",
    "      visualizza_lista()\n",
    "    elif scelta == \"2\":\n",
    "      aggiungi_elemento()\n",
    "    elif scelta == \"3\":\n",
    "      rimuovi_elemento()\n",
    "    elif scelta == \"4\":\n",
    "      ordina_lista()\n",
    "    elif scelta == \"5\":\n",
    "      print(\"Arrivederci!\")\n",
    "      break\n",
    "    else:\n",
    "      print(\"Scelta non valida. Riprova.\")\n",
    "\n",
    "# Chiamata alla funzione per avviare il programma\n",
    "lista_spesa()"
   ]
  },
  {
   "cell_type": "markdown",
   "id": "ccabc8e5-463f-44ea-acf7-36c61b72b251",
   "metadata": {},
   "source": [
    "## 4. Sistema di Registrazione e Login in Python"
   ]
  },
  {
   "cell_type": "code",
   "execution_count": 20,
   "id": "18af7a64-a14c-4fe0-87fd-8f7b6e6ff487",
   "metadata": {},
   "outputs": [
    {
     "name": "stdout",
     "output_type": "stream",
     "text": [
      "\n",
      "_____MENÙ DI ACCESSO_____\n",
      "1 - Registrazione\n",
      "2 - Login\n",
      "3 - Esci\n"
     ]
    },
    {
     "name": "stdin",
     "output_type": "stream",
     "text": [
      "\n",
      "Scegli un'opzione:  3\n"
     ]
    },
    {
     "name": "stdout",
     "output_type": "stream",
     "text": [
      "Grazie per aver utilizzato il nostro servizio.\n",
      "Arrivederci!\n"
     ]
    }
   ],
   "source": [
    "# Lista per salvare le informazioni dell'utente\n",
    "# utente: [username, email, password]\n",
    "utente = [None, None, None]\n",
    "\n",
    "# Funzione per registrazione\n",
    "def registrazione():\n",
    "  print(\"\\n_____REGISTRAZIONE_____\")\n",
    "  username = input(\"Inserisci il tuo username: \")\n",
    "  email = input(\"Inserisci la tua email: \")\n",
    "  password = input(\"Inserisci la tua password: \")\n",
    "\n",
    "  # Salvare le informazioni nella lista\n",
    "  utente[0] = username\n",
    "  utente[1] = email\n",
    "  utente[2] = password\n",
    "  print(\"Registrazione completata, vai al login!\\n\")\n",
    "\n",
    "# Funzione per il login\n",
    "def login():\n",
    "  print(\"\\n_____LOGIN_____\")\n",
    "  if utente[1] is None:\n",
    "    print(\"Devi prima registrarti!\")\n",
    "    return False\n",
    "\n",
    "  email = input(\"Inserisci la tua email: \")\n",
    "  password = input(\"Inserisci la tua password: \")\n",
    "\n",
    "  if email == utente[1] and password == utente[2]:\n",
    "    print(\"Login effettuato con successo!\")\n",
    "    return True\n",
    "  else:\n",
    "    print(\"Email o password errati!\")\n",
    "    return False\n",
    "\n",
    "# Funzione per visualizzare le informazioni personali\n",
    "def visualizza_info():\n",
    "  print(\"\\n_____INFORMAZIONI PERSONALI_____\")\n",
    "  print(\"Username:\", utente[0])\n",
    "  print(\"Email:\", utente[1])\n",
    "  print(\"Password:\", \"*\"*len(utente[2]))\n",
    "  print(\"__________________________________\")\n",
    "\n",
    "# Funzione per cambiare email\n",
    "def cambia_email():\n",
    "  print(\"\\n_____CAMBIA EMAIL_____\")\n",
    "  email = input(\"Inserisci la nuova email: \")\n",
    "  utente[1] = email # aggiorna l'email nella lista utente\n",
    "  print(\"Email cambiata con successo!\")\n",
    "\n",
    "def cambia_password():\n",
    "  print(\"\\n_____CAMBIA PASSWORD_____\")\n",
    "  nuova_password = input(\"Inserisci la nuova password: \")\n",
    "  utente[2] = nuova_password # aggiorna la password nella lista utente\n",
    "  print(\"Password cambiata con successo!\")\n",
    "\n",
    "# Menu principale\n",
    "while True:\n",
    "  print(\"\\n_____MENÙ DI ACCESSO_____\")\n",
    "  print(\"1 - Registrazione\")\n",
    "  print(\"2 - Login\")\n",
    "  print(\"3 - Esci\")\n",
    "\n",
    "  scelta = input(\"\\nScegli un'opzione: \")\n",
    "  if scelta == \"1\":\n",
    "    registrazione()\n",
    "  elif scelta == \"2\":\n",
    "    if login():\n",
    "      while True:\n",
    "        print(\"\\n_____MENU UTENTE_____\")\n",
    "        print(\"1 - Visualizza informazioni personali\")\n",
    "        print(\"2 - Cambia email\")\n",
    "        print(\"3 - Cambia password\")\n",
    "        print(\"4 - Logout\")\n",
    "\n",
    "        scelta = input(\"\\nScegli un'opzione: \")\n",
    "        if scelta == \"1\":\n",
    "          visualizza_info()\n",
    "        elif scelta == \"2\":\n",
    "          cambia_email()\n",
    "        elif scelta == \"3\":\n",
    "          cambia_password()\n",
    "        elif scelta == \"4\":\n",
    "          print(\"Logout effettuato con successo!\")\n",
    "          break\n",
    "        else:\n",
    "          print(\"Opzione non valida!\")\n",
    "      else:\n",
    "        print(\"Login non riuscito, riprova!\")\n",
    "  elif scelta == \"3\":\n",
    "    print(\"Grazie per aver utilizzato il nostro servizio.\")\n",
    "    print(\"Arrivederci!\")\n",
    "    break\n",
    "  else:\n",
    "    print(\"Opzione non valida!\")"
   ]
  },
  {
   "cell_type": "markdown",
   "id": "5356cc6b-bb05-4a43-892b-bb405fe61ae7",
   "metadata": {},
   "source": [
    "## 5. Gestione della Rubrica Telefonica in Python"
   ]
  },
  {
   "cell_type": "code",
   "execution_count": 22,
   "id": "f8d98aaf-9d57-40f4-bdac-7a38ebd02cdd",
   "metadata": {},
   "outputs": [
    {
     "name": "stdin",
     "output_type": "stream",
     "text": [
      "Comando (aggiungi/cerca/elimina/exit):  exit\n"
     ]
    },
    {
     "name": "stdout",
     "output_type": "stream",
     "text": [
      "Chiusura rubrica...\n"
     ]
    }
   ],
   "source": [
    "def aggiungi_contatto(rubrica, nome, numero):\n",
    "    rubrica[nome] = numero\n",
    "    print(f\"Contatto {nome} aggiunto con numero {numero}\")\n",
    "\n",
    "def cerca_contatto(rubrica, nome):\n",
    "    if nome in rubrica:\n",
    "        print(f\"Numero di {nome}: {rubrica[nome]}\")\n",
    "    else:\n",
    "        print(f\"{nome} non trovato nella rubrica.\")\n",
    "\n",
    "def elimina_contatto(rubrica, nome):\n",
    "    if nome in rubrica:\n",
    "        del rubrica[nome]\n",
    "        print(f\"Contatto {nome} eliminato.\")\n",
    "    else:\n",
    "        print(f\"{nome} non presente nella rubrica.\")\n",
    "\n",
    "rubrica = {}\n",
    "\n",
    "while True:\n",
    "    comando = input(\"Comando (aggiungi/cerca/elimina/exit): \").lower()\n",
    "\n",
    "    if comando == \"aggiungi\":\n",
    "        nome = input(\"Nome: \")\n",
    "        numero = input(\"Numero: \")\n",
    "        aggiungi_contatto(rubrica, nome, numero)\n",
    "\n",
    "    elif comando == \"cerca\":\n",
    "        nome = input(\"Nome da cercare: \")\n",
    "        cerca_contatto(rubrica, nome)\n",
    "\n",
    "    elif comando == \"elimina\":\n",
    "        nome = input(\"Nome da eliminare: \")\n",
    "        elimina_contatto(rubrica, nome)\n",
    "\n",
    "    elif comando == \"exit\":\n",
    "        print(\"Chiusura rubrica...\")\n",
    "        break\n",
    "\n",
    "    else:\n",
    "        print(\"Comando non riconosciuto. Riprova.\")"
   ]
  },
  {
   "cell_type": "markdown",
   "id": "5f85aaf1-3789-4ec5-be88-c8e6d4c4c4c2",
   "metadata": {},
   "source": [
    "## 6. Gestione delle Spese in Python"
   ]
  },
  {
   "cell_type": "code",
   "execution_count": 24,
   "id": "71f4de53-87d8-4a4f-b6e8-884322cdc692",
   "metadata": {},
   "outputs": [
    {
     "name": "stdout",
     "output_type": "stream",
     "text": [
      "\n",
      "--- App di Gestione delle Spese ---\n",
      "1. Aggiungi una spesa\n",
      "2. Visualizza tutte le spese\n",
      "3. Calcola totale delle spese\n",
      "4. Filtra spese per categoria\n",
      "5. Esci\n"
     ]
    },
    {
     "name": "stdin",
     "output_type": "stream",
     "text": [
      "Scegli un'opzione:  5\n"
     ]
    },
    {
     "name": "stdout",
     "output_type": "stream",
     "text": [
      "Uscita dall'app.\n"
     ]
    }
   ],
   "source": [
    "# Dizionario che conterrà le spese con chiavi data, importo e categoria\n",
    "spese = []\n",
    "\n",
    "# Funzione per aggiungere una spesa\n",
    "def aggiungi_spesa(data, importo, categoria):\n",
    "    spesa = {\n",
    "        \"data\": data,\n",
    "        \"importo\": float(importo),\n",
    "        \"categoria\": categoria\n",
    "    }\n",
    "    spese.append(spesa)\n",
    "    print(f\"Spesa aggiunta: {spesa}\")\n",
    "\n",
    "# Funzione per visualizzare tutte le spese\n",
    "def visualizza_spese():\n",
    "    print(\"\\n--- Lista delle Spese ---\")\n",
    "    if not spese:\n",
    "        print(\"Nessuna spesa registrata.\")\n",
    "    for spesa in spese:\n",
    "        print(f\"Data: {spesa['data']}, Importo: {spesa['importo']}, Categoria: {spesa['categoria']}\")\n",
    "    print(\"--------------------------\")\n",
    "\n",
    "# Funzione per calcolare il totale delle spese\n",
    "def calcola_totale_spese():\n",
    "    totale = sum(spesa['importo'] for spesa in spese)\n",
    "    print(f\"\\nIl totale delle spese è: {totale:.2f}\")\n",
    "\n",
    "# Funzione per filtrare le spese per categoria\n",
    "def filtra_per_categoria(categoria):\n",
    "    print(f\"\\n--- Spese per Categoria: {categoria} ---\")\n",
    "    spese_categoria = [spesa for spesa in spese if spesa['categoria'].lower() == categoria.lower()]\n",
    "    if not spese_categoria:\n",
    "        print(\"Nessuna spesa trovata per questa categoria.\")\n",
    "    for spesa in spese_categoria:\n",
    "        print(f\"Data: {spesa['data']}, Importo: {spesa['importo']}, Categoria: {spesa['categoria']}\")\n",
    "    print(\"--------------------------\")\n",
    "\n",
    "# Funzione principale del programma\n",
    "def menu():\n",
    "    while True:\n",
    "        print(\"\\n--- App di Gestione delle Spese ---\")\n",
    "        print(\"1. Aggiungi una spesa\")\n",
    "        print(\"2. Visualizza tutte le spese\")\n",
    "        print(\"3. Calcola totale delle spese\")\n",
    "        print(\"4. Filtra spese per categoria\")\n",
    "        print(\"5. Esci\")\n",
    "\n",
    "        scelta = input(\"Scegli un'opzione: \")\n",
    "\n",
    "        if scelta == \"1\":\n",
    "            data = input(\"Inserisci la data (GG/MM/AAAA): \")\n",
    "            importo = input(\"Inserisci l'importo della spesa: \")\n",
    "            categoria = input(\"Inserisci la categoria (es. cibo, trasporti, shopping): \")\n",
    "            aggiungi_spesa(data, importo, categoria)\n",
    "\n",
    "        elif scelta == \"2\":\n",
    "            visualizza_spese()\n",
    "\n",
    "        elif scelta == \"3\":\n",
    "            calcola_totale_spese()\n",
    "\n",
    "        elif scelta == \"4\":\n",
    "            categoria = input(\"Inserisci la categoria per il filtro: \")\n",
    "            filtra_per_categoria(categoria)\n",
    "\n",
    "        elif scelta == \"5\":\n",
    "            print(\"Uscita dall'app.\")\n",
    "            break\n",
    "\n",
    "        else:\n",
    "            print(\"Opzione non valida. Riprova.\")\n",
    "\n",
    "# Avvia il programma\n",
    "menu()"
   ]
  }
 ],
 "metadata": {
  "kernelspec": {
   "display_name": "Python [conda env:base] *",
   "language": "python",
   "name": "conda-base-py"
  },
  "language_info": {
   "codemirror_mode": {
    "name": "ipython",
    "version": 3
   },
   "file_extension": ".py",
   "mimetype": "text/x-python",
   "name": "python",
   "nbconvert_exporter": "python",
   "pygments_lexer": "ipython3",
   "version": "3.10.16"
  }
 },
 "nbformat": 4,
 "nbformat_minor": 5
}
