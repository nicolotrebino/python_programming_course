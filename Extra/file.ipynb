{
 "cells": [
  {
   "cell_type": "markdown",
   "id": "6b146e84-8158-4f9d-8d31-0735a79ea778",
   "metadata": {},
   "source": [
    "# Gestione file"
   ]
  },
  {
   "cell_type": "code",
   "execution_count": null,
   "id": "b0a29b70-757e-4116-98ed-95b9c922cdfa",
   "metadata": {},
   "outputs": [],
   "source": []
  }
 ],
 "metadata": {
  "kernelspec": {
   "display_name": "Python [conda env:base] *",
   "language": "python",
   "name": "conda-base-py"
  },
  "language_info": {
   "codemirror_mode": {
    "name": "ipython",
    "version": 3
   },
   "file_extension": ".py",
   "mimetype": "text/x-python",
   "name": "python",
   "nbconvert_exporter": "python",
   "pygments_lexer": "ipython3",
   "version": "3.10.16"
  }
 },
 "nbformat": 4,
 "nbformat_minor": 5
}
