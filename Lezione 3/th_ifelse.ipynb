{
 "cells": [
  {
   "cell_type": "markdown",
   "id": "e85b2c0b-ca32-4354-8548-673f2729b6c7",
   "metadata": {},
   "source": [
    "# Istruzione if else\n",
    "## Introduzione\n",
    "Benvenuti ad una nuova lezione!\n",
    "Oggi vedremo l'istruzione **if** **else**, un'istruzione importantissima in tutti i linguaggi di programmazione che permette di eseguire una parte di codice anziché un'altra in base alla veridicità di una condizione.\n",
    "\n",
    "Infatti, se sino ad ora abbiamo appreso che il codice viene interpretato in maniera sequenziale riga per riga, tramite questa istruzione si può \"saltare\" l'esecuzione di un blocco di codice e eseguirne un altro.\n",
    "\n",
    "Si chiama controllo del flusso di esecuzione, **control flow**.\n",
    "\n",
    "Sintassi:\n",
    "\n",
    "```python\n",
    "if condizione:\n",
    "    \n",
    "    blocco di codice eseguito se la condizione è vera\n",
    "    \n",
    "else:\n",
    "    \n",
    "    blocco di codice eseguito se la condizione è falsa\n",
    "```\n",
    "\n",
    "La condizione deve essere espressa tramite gli operatori booleani che abbiamo visto la scorsa lezione, infatti deve essere una condizione vera **True** oppure falsa **False**.\n",
    "\n",
    "### Diagramma di flusso\n",
    "```mermaid\n",
    "graph TD\n",
    "    A([Inizio]) --> B{Condizione}\n",
    "    B -- Vera --> C[Istruzioni A]\n",
    "    B -- Falsa --> D[Istruzioni B]\n",
    "    C --> E([Fine])\n",
    "    D --> E\n",
    "```\n",
    "\n",
    "### Esempio"
   ]
  },
  {
   "cell_type": "code",
   "execution_count": 7,
   "id": "c7001aa0-cc87-4b5b-ab41-9ccb54e7493d",
   "metadata": {},
   "outputs": [
    {
     "name": "stdout",
     "output_type": "stream",
     "text": [
      "a è minore di b\n"
     ]
    }
   ],
   "source": [
    "a = 10\n",
    "b = 20\n",
    "if a < b:\n",
    "    print(\"a è minore di b\")\n",
    "else: \n",
    "    print(\"a è maggiore o uguale a b\")"
   ]
  },
  {
   "cell_type": "markdown",
   "id": "6eac96b1-9de8-4fd5-a7ec-3822c0f8b230",
   "metadata": {},
   "source": [
    "Molto importante è l'**indentazione**, infatti Python fa affidamento all'indentazione del codice per separare i vari blocchi da eseguire."
   ]
  },
  {
   "cell_type": "code",
   "execution_count": 13,
   "id": "72d5541f-7525-4e45-a025-db4f64feb816",
   "metadata": {},
   "outputs": [],
   "source": [
    "# Errore, leggere l'errore dell'interprete\n",
    "# if a < b:\n",
    "# print(\"a è minore di b\")"
   ]
  },
  {
   "cell_type": "markdown",
   "id": "04312d17-ab78-432c-a1a0-7486800c5378",
   "metadata": {},
   "source": [
    "### Esercizio 1\n",
    "Attraverso l'utilizzo dell'istruzione **if** possiamo riprendere l'esercizio della scorsa lezione e migliorarlo.\n",
    "\n",
    "Si possiede un nome utente e una password, controllare le credenziali di login immesse dall'utente e dargli il benvenuto nell'applicazione se le credenziali sono corrette, restituire un errore e farlo riprovare se sono sbagliate."
   ]
  },
  {
   "cell_type": "code",
   "execution_count": 24,
   "id": "bb024ad7-d5de-42c6-aa14-41fd1b075a37",
   "metadata": {},
   "outputs": [
    {
     "name": "stdout",
     "output_type": "stream",
     "text": [
      "Inserire nome utente:\n",
      " utente\n",
      "Inserire password:\n",
      " 5678\n"
     ]
    },
    {
     "name": "stdout",
     "output_type": "stream",
     "text": [
      "Credenziali errate, riprovare\n"
     ]
    }
   ],
   "source": [
    "nome_utente = \"user\"\n",
    "password = \"1234\"\n",
    "nome_utente_inserito = input(\"Inserire nome utente:\\n\")\n",
    "password_inserita = input(\"Inserire password:\\n\")\n",
    "\n",
    "if nome_utente == nome_utente_inserito and password == password_inserita:\n",
    "    print(\"Benvenuto \" + nome_utente_inserito)\n",
    "else:\n",
    "    print(\"Credenziali errate, riprovare\")"
   ]
  },
  {
   "cell_type": "markdown",
   "id": "bb7e5084-32c8-4c69-aa5f-24d1919ca4bf",
   "metadata": {},
   "source": [
    "### Esercizio 2\n",
    "Possiamo migliorare anche il secondo esercizio eseguito la scorsa lezione.\n",
    "\n",
    "Immaginare di essere in un e-commerce per la vendita di bottiglie di vino; ovviamente è opportuno controllare se l'utente è minorenne o maggiorenne prima di farlo accedere al servizio.\n",
    "\n",
    "Chiedere all'utente nome, cognome e data di nascita (chiedere giorno, mese e anno).\n",
    "\n",
    "Salutare l'utente, calcolare la sua età e far accede l'utente solo se è maggiorenne."
   ]
  },
  {
   "cell_type": "code",
   "execution_count": 2,
   "id": "2773c162-a77b-4105-a34a-8da816ea2c72",
   "metadata": {},
   "outputs": [
    {
     "name": "stdout",
     "output_type": "stream",
     "text": [
      "Inserire nome\n",
      " Nicolò\n",
      "Inserire cognome\n",
      " Trebino\n"
     ]
    },
    {
     "name": "stdout",
     "output_type": "stream",
     "text": [
      "Inserire data di nascita\n",
      "\n"
     ]
    },
    {
     "name": "stdout",
     "output_type": "stream",
     "text": [
      "Giorno:\n",
      " 02\n",
      "Mese:\n",
      " 12\n",
      "Anno:\n",
      " 2002\n"
     ]
    },
    {
     "name": "stdout",
     "output_type": "stream",
     "text": [
      "Ciao Nicolò Trebino, hai 22 anni.\n",
      "Bnevenuto, ora puoi accedere al catalogo\n"
     ]
    }
   ],
   "source": [
    "# Data di oggi\n",
    "oggi_giorno = 16\n",
    "oggi_mese = 1\n",
    "oggi_anno = 2025\n",
    "\n",
    "# Input dell'utente\n",
    "nome = input(\"Inserire nome\\n\")\n",
    "cognome = input(\"Inserire cognome\\n\")\n",
    "print(\"Inserire data di nascita\\n\")\n",
    "giorno = int(input(\"Giorno:\\n\"))\n",
    "mese = int(input(\"Mese:\\n\"))\n",
    "anno = int(input(\"Anno:\\n\"))\n",
    "\n",
    "# Calcolo dell'età\n",
    "eta = oggi_anno - anno\n",
    "\n",
    "# Verifica se il compleanno è già passato quest'anno\n",
    "if oggi_mese < mese or (oggi_mese == mese and oggi_giorno < giorno):\n",
    "    eta -= 1\n",
    "\n",
    "# Output del risultato\n",
    "print(f\"Ciao {nome} {cognome}, hai {eta} anni.\")\n",
    "\n",
    "if eta < 18:\n",
    "    print(\"Mi dispiace, per accedere al servizio devi essere maggiorenne\")\n",
    "else:\n",
    "    print(\"Bnevenuto, ora puoi accedere al catalogo\")"
   ]
  },
  {
   "cell_type": "markdown",
   "id": "9495a574-c9a4-4cc8-80f7-b433a27930f3",
   "metadata": {},
   "source": [
    "### Esercizio 3\n",
    "Scrivere un programma che chieda all’utente di inserire un numero intero e verifichi se è pari o dispari."
   ]
  },
  {
   "cell_type": "code",
   "execution_count": 10,
   "id": "cc39c895-ba26-4bf3-a5b1-906c691f2c64",
   "metadata": {},
   "outputs": [
    {
     "name": "stdout",
     "output_type": "stream",
     "text": [
      "Inserisci un numero intero:  80\n"
     ]
    },
    {
     "name": "stdout",
     "output_type": "stream",
     "text": [
      "Il numero 80 è pari.\n"
     ]
    }
   ],
   "source": [
    "numero = int(input(\"Inserisci un numero intero: \"))\n",
    "if numero % 2 == 0:\n",
    "    print(f\"Il numero {numero} è pari.\")\n",
    "else:\n",
    "    print(f\"Il numero {numero} è dispari.\")\n"
   ]
  },
  {
   "cell_type": "markdown",
   "id": "dc1c18df-e739-47a9-8793-bbe156ab61b5",
   "metadata": {},
   "source": [
    "## If elif\n",
    "Se si vogliono aggiungere delle condizioni, ad esempio se si hanno più controlli da fare sulla stessa risorsa o variabile l'istruzione **if** permette di farlo con una sintassi leggermente diversa: la keyword da utilizzare è **elif**.\n",
    "\n",
    "### Esempio"
   ]
  },
  {
   "cell_type": "code",
   "execution_count": 8,
   "id": "e7efc05a-d664-466f-8582-510ee47a4463",
   "metadata": {},
   "outputs": [
    {
     "name": "stdout",
     "output_type": "stream",
     "text": [
      "a is greater than b\n"
     ]
    }
   ],
   "source": [
    "a = 200\n",
    "b = 33\n",
    "if b > a:\n",
    "  print(\"b è maggiore di a\")\n",
    "elif a == b:\n",
    "  print(\"a e b sono uguali\")\n",
    "else:\n",
    "  print(\"a è maggiore di b\")"
   ]
  },
  {
   "cell_type": "markdown",
   "id": "3d890920-06eb-4d7d-91ce-88c9fbecbc2b",
   "metadata": {},
   "source": [
    "### Esercizio 4\n",
    "Chiedere il voto preso all'ultima verifica o interrogazione e restituire un commento personalizzato in base ad esso."
   ]
  },
  {
   "cell_type": "code",
   "execution_count": 45,
   "id": "e6e97e63-b5c2-41ca-b602-8c84548103e5",
   "metadata": {},
   "outputs": [
    {
     "name": "stdout",
     "output_type": "stream",
     "text": [
      "Inserire l'ultimo voto preso 3\n"
     ]
    },
    {
     "name": "stdout",
     "output_type": "stream",
     "text": [
      "Non c'è molto da dire... non hai studiato nulla!\n"
     ]
    }
   ],
   "source": [
    "voto = float(input(\"Inserire l'ultimo voto preso\"))\n",
    "\n",
    "if voto <= 4:\n",
    "    print(\"Non c'è molto da dire... non hai studiato nulla!\")\n",
    "elif voto > 4 and voto <= 6:\n",
    "    print(\"Potevi impegnarti un po' di più!\")\n",
    "elif voto > 6 and voto <= 8:\n",
    "    print(\"Bravissima/o\")\n",
    "elif voto > 8 and voto <= 10:\n",
    "    print(\"Wow, hai raggiunto la perfezione!\")\n",
    "else:\n",
    "    print(\"Inserire un voto valido\")"
   ]
  },
  {
   "cell_type": "markdown",
   "id": "9e0d17b8-ca01-4eaf-8d57-e76b7e74b447",
   "metadata": {},
   "source": [
    "## If innestati\n",
    "Chiamati in gergo **NESTED**.\n",
    "\n",
    "C'è ovviamente la possibilità di inserire delle istruzioni **if else** all'interno di altre istruzioni **if else**.\n",
    "\n",
    "### Esempio"
   ]
  },
  {
   "cell_type": "code",
   "execution_count": 4,
   "id": "38092c69-a573-4013-aab7-a42ca4dfdc78",
   "metadata": {},
   "outputs": [
    {
     "name": "stdout",
     "output_type": "stream",
     "text": [
      "Maggiore di 10,\n",
      "e anche maggiore di 20!\n"
     ]
    }
   ],
   "source": [
    "x = 41\n",
    "\n",
    "if x > 10:\n",
    "  print(\"Maggiore di 10,\")\n",
    "  if x > 20:\n",
    "    print(\"e anche maggiore di 20!\")\n",
    "  else:\n",
    "    print(\"ma non maggiore di 20.\")"
   ]
  }
 ],
 "metadata": {
  "kernelspec": {
   "display_name": "Python [conda env:base] *",
   "language": "python",
   "name": "conda-base-py"
  },
  "language_info": {
   "codemirror_mode": {
    "name": "ipython",
    "version": 3
   },
   "file_extension": ".py",
   "mimetype": "text/x-python",
   "name": "python",
   "nbconvert_exporter": "python",
   "pygments_lexer": "ipython3",
   "version": "3.10.16"
  }
 },
 "nbformat": 4,
 "nbformat_minor": 5
}
