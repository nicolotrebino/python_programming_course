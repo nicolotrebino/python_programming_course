{
 "cells": [
  {
   "cell_type": "markdown",
   "id": "17990015",
   "metadata": {},
   "source": [
    "# Tipi di dato complessi"
   ]
  },
  {
   "cell_type": "markdown",
   "id": "a3c5bf4f",
   "metadata": {},
   "source": [
    "## Liste\n",
    "\n",
    "Le **liste** sono usate per immagazzinare in una sola variabile più dati.\n",
    "\n",
    "Caratteristiche principali:\n",
    "\n",
    "- **Ordinate**: gli elementi hanno un ordine preciso basato sull’indice, che parte da 0. Questo ordine non cambia a meno che non venga modificato con metodi specifici.\n",
    "- **Modificabili**: puoi aggiungere, cambiare o rimuovere elementi dopo aver creato una lista.\n",
    "- **Permettono duplicati**: le liste possono contenere più elementi con lo stesso valore.\n",
    "- **Tipi di dato**: possono contenere qualunque tipo di dato, anche mischiati"
   ]
  },
  {
   "cell_type": "code",
   "execution_count": null,
   "id": "2fc40ec4",
   "metadata": {},
   "outputs": [
    {
     "name": "stdout",
     "output_type": "stream",
     "text": [
      "['mela', 'banana', 'ciliegia', 'kiwi', 'melone']\n"
     ]
    }
   ],
   "source": [
    "lista = [\"mela\", \"banana\", \"ciliegia\", \"kiwi\", \"melone\"] \n",
    "l = [] # lista vuota\n",
    "print(lista)"
   ]
  },
  {
   "cell_type": "markdown",
   "id": "49dba7bc",
   "metadata": {},
   "source": [
    "Perché può tornarci molto utile?\n",
    "\n",
    "### Esercizio 1\n",
    "Detector di parole bannabili.\n",
    "\n",
    "Supponiamo di avere una chat pubblica in un gioco online. Ogni commento razzista, sessista, volgare o scurrile deve essere bannato.\n",
    "Supponiamo che il gestore della chat voglia bannare ogni commento che possiede le parole:\n",
    "- Uccidere\n",
    "- Morte\n",
    "- Sesso\n",
    "- Schifo\n",
    "- Stupido\n",
    "- Nero\n",
    "- Porco\n",
    "\n",
    "Implementare un rilevatore di queste parole e bannare immediatamente l'utente che le utilizza, altrimenti stampare il messaggio.\n",
    "\n",
    "#### Implementazione senza liste"
   ]
  },
  {
   "cell_type": "code",
   "execution_count": null,
   "id": "c06c5653",
   "metadata": {},
   "outputs": [
    {
     "name": "stdout",
     "output_type": "stream",
     "text": [
      "Scrivi il messaggio\n",
      " Cattivo\n"
     ]
    },
    {
     "name": "stdout",
     "output_type": "stream",
     "text": [
      "Cattivo\n"
     ]
    }
   ],
   "source": [
    "# Definisco le parole bannabili\n",
    "\n",
    "p1 = \"uccidere\"\n",
    "p2 = \"morte\"\n",
    "p3 = \"sesso\"\n",
    "p4 = \"schifo\"\n",
    "p5 = \"stupido\"\n",
    "p6 = \"nero\"\n",
    "p7 = \"porco\"\n",
    "\n",
    "# Prendo in input una parola\n",
    "\n",
    "messaggio = input(\"Scrivi il messaggio\\n\")\n",
    "\n",
    "# Controllo se è bannabile e restituisco il risultato\n",
    "\n",
    "if p1 == messaggio.lower() or p2 == messaggio.lower() or p3 == messaggio.lower() or \\\n",
    "    p4 == messaggio.lower() or p5 == messaggio.lower() or p6 == messaggio.lower() or \\\n",
    "    p7 == messaggio.lower():\n",
    "    print(\"Sei bannato!\")\n",
    "else:\n",
    "  print(messaggio)"
   ]
  },
  {
   "cell_type": "markdown",
   "id": "f87d91f6",
   "metadata": {},
   "source": [
    "**Notare**: se volessimo aggiungere una nuova parola da bannare, bisognerebbe aggiungere una nuova variabile in alto e un nuovo controllo nella condizione dell'**if**.\n",
    "\n",
    "#### Implementazione con le liste"
   ]
  },
  {
   "cell_type": "code",
   "execution_count": null,
   "id": "ab49b3df",
   "metadata": {},
   "outputs": [
    {
     "name": "stdout",
     "output_type": "stream",
     "text": [
      "Scrivi messaggio\n",
      " Nero\n"
     ]
    },
    {
     "name": "stdout",
     "output_type": "stream",
     "text": [
      "Sei bannato!\n"
     ]
    }
   ],
   "source": [
    "# Riprendiamo l'esercizio di prima ma usiamo le liste\n",
    "\n",
    "bannabili = [\"uccidere\", \"morte\", \"sesso\", \"shifo\", \"stupido\", \"nero\", \"porco\"]\n",
    "\n",
    "messaggio = input(\"Scrivi messaggio\\n\")\n",
    "\n",
    "# Controllo se è bannabile e restituisco il risultato\n",
    "\n",
    "if messaggio.lower() in bannabili:\n",
    "  print(\"Sei bannato!\")\n",
    "else:\n",
    "  print(messaggio)"
   ]
  },
  {
   "cell_type": "markdown",
   "id": "66f44592",
   "metadata": {},
   "source": [
    "### Metodi\n",
    "#### Accesso con indici\n",
    "Per **accedere** alle liste si usano gli **indici**."
   ]
  },
  {
   "cell_type": "code",
   "execution_count": null,
   "id": "7a321597",
   "metadata": {},
   "outputs": [
    {
     "data": {
      "text/plain": [
       "'banana'"
      ]
     },
     "metadata": {},
     "output_type": "display_data"
    }
   ],
   "source": [
    "lista[1]"
   ]
  },
  {
   "cell_type": "code",
   "execution_count": null,
   "id": "f9bbebb0",
   "metadata": {},
   "outputs": [
    {
     "data": {
      "text/plain": [
       "'mela'"
      ]
     },
     "metadata": {},
     "output_type": "display_data"
    }
   ],
   "source": [
    "lista[0]"
   ]
  },
  {
   "cell_type": "code",
   "execution_count": null,
   "id": "5a7048cb",
   "metadata": {},
   "outputs": [
    {
     "name": "stdout",
     "output_type": "stream",
     "text": [
      "['mela', 'pera', 'ciliegia', 'kiwi', 'melone']\n"
     ]
    }
   ],
   "source": [
    "# Cambio il frutto con indice 1\n",
    "lista[1] = \"pera\"\n",
    "print(lista)"
   ]
  },
  {
   "cell_type": "code",
   "execution_count": null,
   "id": "c26a217f",
   "metadata": {},
   "outputs": [
    {
     "data": {
      "text/plain": [
       "50"
      ]
     },
     "metadata": {},
     "output_type": "display_data"
    }
   ],
   "source": [
    "l1 = [0, 10, 20, 30, 40, 50]\n",
    "l1[-1]"
   ]
  },
  {
   "cell_type": "code",
   "execution_count": null,
   "id": "8ffab729",
   "metadata": {},
   "outputs": [
    {
     "data": {
      "text/plain": [
       "[20, 30]"
      ]
     },
     "metadata": {},
     "output_type": "display_data"
    }
   ],
   "source": [
    "l1[2:4]"
   ]
  },
  {
   "cell_type": "code",
   "execution_count": null,
   "id": "686c702a",
   "metadata": {},
   "outputs": [
    {
     "data": {
      "text/plain": [
       "[20, 30, 40, 50]"
      ]
     },
     "metadata": {},
     "output_type": "display_data"
    }
   ],
   "source": [
    "l1[2:]"
   ]
  },
  {
   "cell_type": "markdown",
   "id": "e81b1ffd",
   "metadata": {},
   "source": [
    "#### Stringhe\n",
    "**NOTARE**: anche le stringhe (i tipi *string*) sono delle liste, quindi gli indici e tutti questi metodi di accesso valgono!"
   ]
  },
  {
   "cell_type": "code",
   "execution_count": null,
   "id": "abc40b2a",
   "metadata": {},
   "outputs": [
    {
     "data": {
      "text/plain": [
       "'mi sto divertendo un sacco!'"
      ]
     },
     "metadata": {},
     "output_type": "display_data"
    }
   ],
   "source": [
    "frase = \"Che bello questo corso, mi sto divertendo un sacco!\"\n",
    "frase[24:]"
   ]
  },
  {
   "cell_type": "code",
   "execution_count": null,
   "id": "c2e38856",
   "metadata": {},
   "outputs": [
    {
     "data": {
      "text/plain": [
       "'Che bello questo corso'"
      ]
     },
     "metadata": {},
     "output_type": "display_data"
    }
   ],
   "source": [
    "frase[:22]"
   ]
  },
  {
   "cell_type": "code",
   "execution_count": null,
   "id": "5f648413",
   "metadata": {},
   "outputs": [
    {
     "data": {
      "text/plain": [
       "'!'"
      ]
     },
     "metadata": {},
     "output_type": "display_data"
    }
   ],
   "source": [
    "frase[-1]"
   ]
  },
  {
   "cell_type": "markdown",
   "id": "44564fef-0dc6-4e0f-94a4-1670699555c0",
   "metadata": {},
   "source": [
    "```python\n",
    "stringa[start:stop:step]\n",
    "```\n",
    "- start -> Punto di partenza (vuoto significa \"inizia dall'inizio\").\n",
    "- stop -> Punto di fine (vuoto significa \"arriva fino alla fine\").\n",
    "- step -> Indica di quanti passi muoversi (se è -1, significa \"vai all'indietro\")."
   ]
  },
  {
   "cell_type": "code",
   "execution_count": 12,
   "id": "bb762a71-bd0f-4465-b298-7ad93674aaf2",
   "metadata": {},
   "outputs": [
    {
     "name": "stdout",
     "output_type": "stream",
     "text": [
      "gianluca\n",
      "aculnaig\n",
      "anna\n",
      "anna\n"
     ]
    }
   ],
   "source": [
    "nome = \"gianluca\"\n",
    "print(nome)\n",
    "print(nome[::-1])\n",
    "\n",
    "nome = \"anna\"\n",
    "print(nome)\n",
    "print(nome[::-1])"
   ]
  },
  {
   "cell_type": "markdown",
   "id": "5a546f6c",
   "metadata": {},
   "source": [
    "#### Aggiungere elementi\n",
    "Per **aggiungere** degli elementi nella lista si possono utilizzare dei metodi\n",
    "\n",
    "| Metodo  | Descrizione |\n",
    "|---------|------------|\n",
    "| append() | Aggiunge un elemento alla fine della lista. |\n",
    "| insert() | Inserisce un elemento in una posizione specificata della lista. |\n",
    "| extend() | Estende la lista aggiungendo gli elementi di un'altra iterabile (lista, tupla, ecc.). |"
   ]
  },
  {
   "cell_type": "code",
   "execution_count": null,
   "id": "52708550",
   "metadata": {},
   "outputs": [
    {
     "name": "stdout",
     "output_type": "stream",
     "text": [
      "['apple', 'banana', 'cherry', 'orange']\n"
     ]
    }
   ],
   "source": [
    "thislist = [\"mela\", \"banana\", \"ciliegia\"]\n",
    "thislist.append(\"arancia\")\n",
    "print(thislist)"
   ]
  },
  {
   "cell_type": "code",
   "execution_count": null,
   "id": "c765fc99",
   "metadata": {},
   "outputs": [
    {
     "name": "stdout",
     "output_type": "stream",
     "text": [
      "['apple', 'orange', 'banana', 'cherry']\n"
     ]
    }
   ],
   "source": [
    "thislist = [\"mela\", \"banana\", \"ciliegia\"]\n",
    "thislist.insert(1, \"arancia\")\n",
    "print(thislist)"
   ]
  },
  {
   "cell_type": "code",
   "execution_count": null,
   "id": "3536de2b",
   "metadata": {},
   "outputs": [
    {
     "name": "stdout",
     "output_type": "stream",
     "text": [
      "['apple', 'banana', 'cherry', 'mango', 'pineapple', 'papaya']\n"
     ]
    }
   ],
   "source": [
    "thislist = [\"mela\", \"banana\", \"ciligia\"]\n",
    "tropical = [\"mango\", \"ananas\", \"papaya\"]\n",
    "thislist.extend(tropical)\n",
    "print(thislist)"
   ]
  },
  {
   "cell_type": "markdown",
   "id": "7235f7f7",
   "metadata": {},
   "source": [
    "#### Rimuovere elementi\n",
    "Per **rimuovere** degli elementi nella lista si possono utilizzare dei metodi\n",
    "\n",
    "| Metodo | Descrizione |\n",
    "|----| ----|\n",
    "| remove()| Rimuove l'elemento specifico, se ce ne sono di più rimuove solo il primo |\n",
    "| pop() | Rimuove l'elemento all'indice specifico, se non si specifica l'elemento rimuove l'ultimo |\n",
    "| clear() | Rimuove tutti gli elementi, la lista diventa vuota |"
   ]
  },
  {
   "cell_type": "code",
   "execution_count": null,
   "id": "f61d6cd4",
   "metadata": {},
   "outputs": [
    {
     "name": "stdout",
     "output_type": "stream",
     "text": [
      "['apple', 'cherry', 'banana', 'kiwi']\n"
     ]
    }
   ],
   "source": [
    "thislist = [\"mela\", \"banana\", \"ciliegia\", \"banana\", \"kiwi\"]\n",
    "thislist.remove(\"banana\")\n",
    "print(thislist)"
   ]
  },
  {
   "cell_type": "code",
   "execution_count": null,
   "id": "6a171ec4",
   "metadata": {},
   "outputs": [
    {
     "name": "stdout",
     "output_type": "stream",
     "text": [
      "['apple', 'cherry']\n"
     ]
    }
   ],
   "source": [
    "thislist = [\"mela\", \"banana\", \"ciliegia\"]\n",
    "thislist.pop(1)\n",
    "print(thislist)"
   ]
  },
  {
   "cell_type": "code",
   "execution_count": null,
   "id": "ceadf896",
   "metadata": {},
   "outputs": [
    {
     "name": "stdout",
     "output_type": "stream",
     "text": [
      "[]\n"
     ]
    }
   ],
   "source": [
    "thislist.clear()\n",
    "print(thislist)"
   ]
  },
  {
   "cell_type": "markdown",
   "id": "d7a45a0e",
   "metadata": {},
   "source": [
    "#### Miscellanea\n",
    "| Metodo | Descrizione |\n",
    "| --- | --- |\n",
    "| count() | Conta le occorrenze di uno specifico elemento |\n",
    "| split() | **ATTENZIONE** si applica a una stringa; ritorna una lista con gli elementi creati dividendo la stringa tramite il separatore passato come parametro. |\n",
    "| join() | **ATTENZIONE** si applica a una stringa; ritorna una stringa unendo tutti gli elementi della lista presa come parametro utilizzando la stringa come separatore |\n",
    "\n",
    "**Funzione len()**: non è un metodo ma è una funzione (che abbiamo già visto per le *string*); permette di stampare il numero di elementi nella lista, come nelle stringhe restituiva il numero di caratteri da cui è composta."
   ]
  },
  {
   "cell_type": "code",
   "execution_count": null,
   "id": "9451d340",
   "metadata": {},
   "outputs": [
    {
     "data": {
      "text/plain": [
       "2"
      ]
     },
     "metadata": {},
     "output_type": "display_data"
    }
   ],
   "source": [
    "# count()\n",
    "thislist = [\"mela\", \"banana\", \"ciliegia\", \"banana\", \"kiwi\"]\n",
    "thislist.count(\"banana\")"
   ]
  },
  {
   "cell_type": "code",
   "execution_count": 22,
   "id": "76cb89d8-3981-4e29-aee4-9bd583d64449",
   "metadata": {},
   "outputs": [
    {
     "name": "stdout",
     "output_type": "stream",
     "text": [
      "['Ciao', 'come', 'stai']\n"
     ]
    }
   ],
   "source": [
    "# split()\n",
    "stringa = \"Ciao come stai\" \n",
    "parole = stringa.split(\" \")\n",
    "print(parole) # lista di tre elementi"
   ]
  },
  {
   "cell_type": "code",
   "execution_count": 20,
   "id": "a5fd4523-e99d-4831-ae29-1a380e347353",
   "metadata": {},
   "outputs": [
    {
     "name": "stdout",
     "output_type": "stream",
     "text": [
      "Ciao_come_stai\n"
     ]
    }
   ],
   "source": [
    "# join()\n",
    "nuova_stringa = \"_\".join(parole)\n",
    "print(nuova_stringa)"
   ]
  },
  {
   "cell_type": "code",
   "execution_count": null,
   "id": "0693e7f0",
   "metadata": {},
   "outputs": [
    {
     "data": {
      "text/plain": [
       "5"
      ]
     },
     "metadata": {},
     "output_type": "display_data"
    }
   ],
   "source": [
    "len(thislist)"
   ]
  },
  {
   "cell_type": "code",
   "execution_count": null,
   "id": "76ba5354",
   "metadata": {},
   "outputs": [
    {
     "data": {
      "text/plain": [
       "24"
      ]
     },
     "metadata": {},
     "output_type": "display_data"
    }
   ],
   "source": [
    "stringa = \"Ciao a tutti come state?\"\n",
    "len(stringa)"
   ]
  },
  {
   "cell_type": "markdown",
   "id": "39e673dd",
   "metadata": {},
   "source": [
    "## Tuple\n",
    "Le tuple, come le liste, sono utilizzate per immagazzinare in una sola variabile più dati, ma hanno delle caratteristiche diverse.\n",
    "\n",
    "- **Ordinate**: significa che gli elementi hanno un ordine definito, e tale ordine non cambierà.\n",
    "- **Immutabili**: il che significa che non possiamo modificare, aggiungere o rimuovere elementi dopo che una tupla è stata creata.\n",
    "- **Consentono duplicati**: poiché le tuple sono indicizzate, possono contenere elementi con lo stesso valore.\n",
    "- **Tipi di dato**: possono contenere qualunque tipo di dato, anche mischiati\n",
    "\n",
    "**In breve** sono delle strutture *identiche* alle liste ma i valori immagazzinati non possono essere cambiati!"
   ]
  },
  {
   "cell_type": "code",
   "execution_count": null,
   "id": "c17feac7",
   "metadata": {},
   "outputs": [
    {
     "name": "stdout",
     "output_type": "stream",
     "text": [
      "('apple', 'banana', 'cherry', 'orange', 'kiwi', 'melon', 'mango')\n"
     ]
    }
   ],
   "source": [
    "mytuple = (\"mela\", \"banana\", \"ciliegia\", \"arancia\", \"kiwi\", \"melone\", \"mango\")\n",
    "print(mytuple)"
   ]
  },
  {
   "cell_type": "markdown",
   "id": "f0629569",
   "metadata": {},
   "source": [
    "Tupla con un solo elemento"
   ]
  },
  {
   "cell_type": "code",
   "execution_count": null,
   "id": "67fe4189",
   "metadata": {},
   "outputs": [
    {
     "name": "stdout",
     "output_type": "stream",
     "text": [
      "<class 'str'>\n"
     ]
    }
   ],
   "source": [
    "singletuple = (\"mela\") # ATTENZIONE: non è una tupla\n",
    "print(type(singletuple))"
   ]
  },
  {
   "cell_type": "code",
   "execution_count": null,
   "id": "5cfe298b",
   "metadata": {},
   "outputs": [
    {
     "name": "stdout",
     "output_type": "stream",
     "text": [
      "<class 'tuple'>\n"
     ]
    }
   ],
   "source": [
    "singletuple = (\"mela\",)\n",
    "print(type(singletuple))"
   ]
  },
  {
   "cell_type": "markdown",
   "id": "78e6c4dd",
   "metadata": {},
   "source": [
    "### Metodi\n",
    "#### Accesso con indici\n",
    "Per accedere agli elementi bisogna usare, come nelle liste, gli indici."
   ]
  },
  {
   "cell_type": "code",
   "execution_count": null,
   "id": "a766787a",
   "metadata": {},
   "outputs": [
    {
     "name": "stdout",
     "output_type": "stream",
     "text": [
      "banana\n"
     ]
    }
   ],
   "source": [
    "print(mytuple[1])"
   ]
  },
  {
   "cell_type": "markdown",
   "id": "2b6f6cce",
   "metadata": {},
   "source": [
    "#### Modifica\n",
    "Come abbiamo detto, le tuple sono tipi di dato complesso *immutabile* però, si può barare!\n",
    "\n",
    "Basta convertire una tupla in lista, cambiarne gli elementi e farla tornare una tupla.\n",
    "(Fa schifo)"
   ]
  },
  {
   "cell_type": "code",
   "execution_count": null,
   "id": "222698ba",
   "metadata": {},
   "outputs": [
    {
     "name": "stdout",
     "output_type": "stream",
     "text": [
      "('mela', 'banana', 'kiwi')\n",
      "('mela', 'mango', 'kiwi')\n"
     ]
    }
   ],
   "source": [
    "x = (\"mela\", \"banana\", \"kiwi\")\n",
    "print(x)\n",
    "y = list(x)\n",
    "y[1] = \"mango\"\n",
    "x = tuple(y)\n",
    "\n",
    "print(x)"
   ]
  },
  {
   "cell_type": "markdown",
   "id": "840a0c2b",
   "metadata": {},
   "source": [
    "#### Miscellanea\n",
    "Dato che le operazioni che si possono fare con una tupla sono poche, i metodi sono molto pochi:\n",
    "| Metodo | Descrizione |\n",
    "| --- |--- |\n",
    "| count() | Conta le occorrenze di uno specifico elemento |\n",
    "\n",
    "**Funzione len()**: non è un metodo ma è una funzione (che abbiamo già visto per le *string* e per le *list*); permette di stampare il numero di elementi nella tupla."
   ]
  },
  {
   "cell_type": "code",
   "execution_count": null,
   "id": "2dcdc7b6",
   "metadata": {},
   "outputs": [
    {
     "data": {
      "text/plain": [
       "3"
      ]
     },
     "metadata": {},
     "output_type": "display_data"
    }
   ],
   "source": [
    "mytuple = (\"mela\", \"banana\", \"banana\", \"kiwi\", \"banana\")\n",
    "mytuple.count(\"banana\")"
   ]
  },
  {
   "cell_type": "code",
   "execution_count": null,
   "id": "ed928800",
   "metadata": {},
   "outputs": [
    {
     "data": {
      "text/plain": [
       "5"
      ]
     },
     "metadata": {},
     "output_type": "display_data"
    }
   ],
   "source": [
    "len(mytuple)"
   ]
  },
  {
   "cell_type": "markdown",
   "id": "6c176afd",
   "metadata": {},
   "source": [
    "## Sets\n",
    "Set in italiano si traduce con **insieme**.\n",
    "Anch'essi sono utilizzati per immagazzinare più valori in una singola variabile.\n",
    "\n",
    "- Non ordinati: gli elementi in un set non hanno un ordine preciso e non possono essere usati con indici.\n",
    "- Parzialmente immutabili: non puoi modificare i singoli elementi di un set, ma puoi aggiungere o rimuovere elementi.\n",
    "- Niente duplicati: Un set non può contenere due elementi con lo stesso valore.\n",
    "- Tipi di dato: possono immagazzinare diversi tipi di dato mischiati MA..."
   ]
  },
  {
   "cell_type": "code",
   "execution_count": null,
   "id": "11c4c5b0",
   "metadata": {},
   "outputs": [
    {
     "name": "stdout",
     "output_type": "stream",
     "text": [
      "{'ciliegia', 'mela', 'banana'}\n"
     ]
    }
   ],
   "source": [
    "thisset = {\"mela\", \"banana\", \"ciliegia\", \"mela\"}\n",
    "print(thisset)"
   ]
  },
  {
   "cell_type": "code",
   "execution_count": null,
   "id": "35fde378",
   "metadata": {},
   "outputs": [
    {
     "name": "stdout",
     "output_type": "stream",
     "text": [
      "{1, 2, 'banana', 'mango', 'mela'}\n",
      "{False, True, 2, 'banana', 'mango', 'mela'}\n"
     ]
    }
   ],
   "source": [
    "# True e 1 sono considerati lo stesso valore\n",
    "thisset = {\"mela\", \"banana\", \"mango\", 1, True, 1, 2}\n",
    "print(thisset)\n",
    "\n",
    "# False e 0 sono considerati lo stesso valore\n",
    "thisset = {\"mela\", \"banana\", \"mango\", False, 0, True, 2}\n",
    "print(thisset)"
   ]
  },
  {
   "cell_type": "markdown",
   "id": "cdd48908",
   "metadata": {},
   "source": [
    "### Metodi\n",
    "#### Accesso (senza indici)\n",
    "Come abbiamo detto non è possibile accedere ai singoli elementi tramite indice.\n",
    "L'unico modo è tramite dei cicli, loops, che vedremo più avanti."
   ]
  },
  {
   "cell_type": "markdown",
   "id": "9d28d60a",
   "metadata": {},
   "source": [
    "#### Aggiungere elementi\n",
    "Si possono inserire nuovi elementi attraverso dei metodi.\n",
    "\n",
    "| Metodo | Descrizione |\n",
    "| --- |---- |\n",
    "| add() | Inserisce un elemento all'interno dell'insieme (set) |\n",
    "| update() | Aggiunge tutti gli elementi di una qualsiasi struttura dati all'interno dell'insieme (set)|"
   ]
  },
  {
   "cell_type": "code",
   "execution_count": null,
   "id": "5c4913fa",
   "metadata": {},
   "outputs": [
    {
     "name": "stdout",
     "output_type": "stream",
     "text": [
      "{'ciliegia', 'mela', 'banana'}\n",
      "{'ciliegia', 'arancia', 'mela', 'banana'}\n"
     ]
    }
   ],
   "source": [
    "thisset = {\"mela\", \"banana\", \"ciliegia\"}\n",
    "print(thisset)\n",
    "thisset.add(\"arancia\")\n",
    "print(thisset)"
   ]
  },
  {
   "cell_type": "code",
   "execution_count": null,
   "id": "1fa6252e",
   "metadata": {},
   "outputs": [
    {
     "name": "stdout",
     "output_type": "stream",
     "text": [
      "{'ciliegia', 'mela', 'banana'}\n",
      "{'ciliegia', 'banana', 'papaya', 'ananas', 'mela', 'mango'}\n",
      "{0, 1, 2, 3, 4, 5, 'banana', 'mango', 'ciliegia', 'papaya', 'ananas', 'mela'}\n"
     ]
    }
   ],
   "source": [
    "thisset = {\"mela\", \"banana\", \"ciliegia\"}\n",
    "print(thisset)\n",
    "tropical = {\"ananas\", \"mango\", \"papaya\"}\n",
    "thisset.update(tropical)\n",
    "print(thisset)\n",
    "numeri = [0, 1, 2, 3, 4, 5]\n",
    "thisset.update(numeri)\n",
    "print(thisset)"
   ]
  },
  {
   "cell_type": "markdown",
   "id": "f66d69c8",
   "metadata": {},
   "source": [
    "#### Rimuovere elementi\n",
    "Anche per la rimozione esistono dei metodi.\n",
    "\n",
    "| Metodo | Descrizione |\n",
    "| ---- | ----|\n",
    "| remove() | Rimuove l'elemento passato come parametro, se non esiste all'interno dell'insieme *produce un errore* |\n",
    "| discard() | Rimuove l'elemento passato come parametro, se non esiste all'interno dell'insieme **NON** *produce un errore* | \n",
    "| pop() | Rimuove un elemento **random** (a caso) dall'insieme |\n",
    "| clear() | Rimuove tutti gli elementi nell'insieme |"
   ]
  },
  {
   "cell_type": "code",
   "execution_count": null,
   "id": "38516363",
   "metadata": {},
   "outputs": [
    {
     "name": "stdout",
     "output_type": "stream",
     "text": [
      "{'ciliegia', 'kiwi', 'mela', 'arancia'}\n"
     ]
    }
   ],
   "source": [
    "thisset = {\"mela\", \"banana\", \"ciliegia\", \"arancia\", \"kiwi\"}\n",
    "thisset.remove(\"banana\")\n",
    "print(thisset)\n",
    "\n",
    "# Controllare errore\n",
    "# thisset.remove(\"pera\")"
   ]
  },
  {
   "cell_type": "code",
   "execution_count": null,
   "id": "4053972d",
   "metadata": {},
   "outputs": [
    {
     "name": "stdout",
     "output_type": "stream",
     "text": [
      "{'ciliegia', 'mela', 'arancia'}\n"
     ]
    }
   ],
   "source": [
    "thisset.discard(\"kiwi\")\n",
    "print(thisset)\n",
    "\n",
    "# Non restituisce un errore\n",
    "thisset.discard(\"pera\")"
   ]
  },
  {
   "cell_type": "code",
   "execution_count": null,
   "id": "0abe146d",
   "metadata": {},
   "outputs": [
    {
     "name": "stdout",
     "output_type": "stream",
     "text": [
      "ciliegia\n",
      "{'banana', 'mango', 'mela', 'pera'}\n"
     ]
    }
   ],
   "source": [
    "thisset = {\"mango\", \"pera\", \"mela\", \"banana\", \"ciliegia\"}\n",
    "x = thisset.pop()\n",
    "print(x)\n",
    "print(thisset)"
   ]
  },
  {
   "cell_type": "code",
   "execution_count": null,
   "id": "1e161f88",
   "metadata": {},
   "outputs": [
    {
     "name": "stdout",
     "output_type": "stream",
     "text": [
      "set()\n"
     ]
    }
   ],
   "source": [
    "thisset.clear()\n",
    "print(thisset)"
   ]
  },
  {
   "cell_type": "markdown",
   "id": "39af9f9b",
   "metadata": {},
   "source": [
    "#### Miscellanea\n",
    "\n",
    "| Metodo          | Descrizione                                                                 |\n",
    "|------------------|-----------------------------------------------------------------------------|\n",
    "| difference()   | Restituisce un set con gli elementi presenti solo nel primo set (differenza). |\n",
    "| intersection() | Restituisce un set con gli elementi comuni a entrambi i set.                |\n",
    "| isdisjoint()   | Restituisce `True` se i due set non hanno elementi in comune.               |\n",
    "| union()        | Restituisce un set con tutti gli elementi presenti in entrambi i set (unione). |\n",
    "\n",
    "**Funzione len()**: non è un metodo ma è una funzione); permette di stampare il numero di elementi nell'insieme."
   ]
  },
  {
   "cell_type": "code",
   "execution_count": 9,
   "id": "62ae79dc",
   "metadata": {},
   "outputs": [
    {
     "name": "stdout",
     "output_type": "stream",
     "text": [
      "{1, 2}\n",
      "Interezione 1 e 2 -> {3, 4}\n",
      "1 e 2 sono disgiunti -> False\n",
      "Interezione 1 e 3 -> set()\n",
      "1 e 3 sono disgiunti -> True\n",
      "{1, 2, 3, 4, 5, 6}\n"
     ]
    }
   ],
   "source": [
    "# Inizializziamo due set\n",
    "set1 = {1, 2, 3, 4}\n",
    "set2 = {3, 4, 5, 6}\n",
    "set3 = {5, 6, 8, 9}\n",
    "\n",
    "# difference()\n",
    "print(set1.difference(set2))\n",
    "\n",
    "# intersection()\n",
    "print(f\"Interezione 1 e 2 -> {set1.intersection(set2)}\")\n",
    "# isdisjoint()\n",
    "print(f\"1 e 2 sono disgiunti -> {set1.isdisjoint(set2)}\")\n",
    "\n",
    "# intersection()\n",
    "print(f\"Interezione 1 e 3 -> {set1.intersection(set3)}\")\n",
    "# isdisjoint()\n",
    "print(f\"1 e 3 sono disgiunti -> {set1.isdisjoint(set3)}\")\n",
    "\n",
    "# union()\n",
    "print(set1.union(set2))"
   ]
  },
  {
   "cell_type": "code",
   "execution_count": 11,
   "id": "29e72b44-074a-46f1-8f25-16ef250822d9",
   "metadata": {},
   "outputs": [
    {
     "data": {
      "text/plain": [
       "4"
      ]
     },
     "execution_count": 11,
     "metadata": {},
     "output_type": "execute_result"
    }
   ],
   "source": [
    "len(set1)"
   ]
  }
 ],
 "metadata": {
  "kernelspec": {
   "display_name": "Python [conda env:base] *",
   "language": "python",
   "name": "conda-base-py"
  },
  "language_info": {
   "codemirror_mode": {
    "name": "ipython",
    "version": 3
   },
   "file_extension": ".py",
   "mimetype": "text/x-python",
   "name": "python",
   "nbconvert_exporter": "python",
   "pygments_lexer": "ipython3",
   "version": "3.10.16"
  }
 },
 "nbformat": 4,
 "nbformat_minor": 5
}
