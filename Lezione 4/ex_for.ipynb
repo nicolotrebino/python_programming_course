{
 "cells": [
  {
   "cell_type": "markdown",
   "id": "80f99bad-aca0-4484-b922-5189e109427e",
   "metadata": {},
   "source": [
    "# Esercizi (for)\n",
    "\n",
    "## Esercizio 1\n",
    "Utilizzando il for loop, stampare il seguente pattern.\n",
    "**CONSIGLIO**: utilizzare due for loop annidati.\n",
    "\n",
    "> 1\n",
    "> \n",
    "> 1 2\n",
    "> \n",
    "> 1 2 3\n",
    ">\n",
    "> 1 2 3 4\n",
    "> \n",
    "> 1 2 3 4 5"
   ]
  },
  {
   "cell_type": "code",
   "execution_count": 7,
   "id": "5a309d9c-6c6a-49f4-9e48-51feed47f7b2",
   "metadata": {},
   "outputs": [
    {
     "name": "stdout",
     "output_type": "stream",
     "text": [
      "Pattern con numeri\n",
      "1 \n",
      "1 2 \n",
      "1 2 3 \n",
      "1 2 3 4 \n",
      "1 2 3 4 5 \n"
     ]
    }
   ],
   "source": [
    "print(\"Pattern con numeri\")\n",
    "\n",
    "righe = 5\n",
    "\n",
    "# start: 1\n",
    "# stop: row+1 (range never include stop number in result)\n",
    "# step: 1\n",
    "# run loop 5 times\n",
    "for i in range(1, righe + 1, 1):\n",
    "    # Run inner loop i+1 times\n",
    "    for j in range(1, i + 1):\n",
    "        print(j, end=' ')\n",
    "    # empty line after each row\n",
    "    print(\"\")"
   ]
  },
  {
   "cell_type": "markdown",
   "id": "a74a2f3a-8598-4d99-becf-a6bded97c719",
   "metadata": {},
   "source": [
    "## Esercizio 2\n",
    "### Massimo e minimo\n",
    "Scrivere un programma che trovi il valore massimo e minimo in una lista di numeri (senza usare max() e min())."
   ]
  },
  {
   "cell_type": "code",
   "execution_count": 5,
   "id": "fa76b1ad-bdcb-4cb2-a7f2-dea34e7b2796",
   "metadata": {},
   "outputs": [
    {
     "name": "stdout",
     "output_type": "stream",
     "text": [
      "Massimo: 99\n",
      "Minimo: 3.4\n"
     ]
    }
   ],
   "source": [
    "numeri = [10.5, 25.2, 3.4, 99, 45, 67.1]\n",
    "massimo = numeri[0]\n",
    "minimo = numeri[0]\n",
    "\n",
    "for numero in numeri:\n",
    "    if numero > massimo:\n",
    "        massimo = numero\n",
    "    if numero < minimo:\n",
    "        minimo = numero\n",
    "\n",
    "print(\"Massimo:\", massimo)\n",
    "print(\"Minimo:\", minimo)"
   ]
  },
  {
   "cell_type": "markdown",
   "id": "f43190e1-20a5-45e1-a6c9-aa170a2416a5",
   "metadata": {},
   "source": [
    "## Esercizio 3\n",
    "### Conta numeri pari\n",
    "Scrivi un programma che conti quanti numeri pari ci sono in una lista."
   ]
  },
  {
   "cell_type": "code",
   "execution_count": 11,
   "id": "8fa49a36-5d11-4d2c-b36d-fa9f2271b175",
   "metadata": {},
   "outputs": [
    {
     "name": "stdout",
     "output_type": "stream",
     "text": [
      "Numeri pari: 4\n"
     ]
    }
   ],
   "source": [
    "numeri = [2, 7, 18, 33, 22, 42, 89]\n",
    "conta_pari = 0\n",
    "\n",
    "for numero in numeri:\n",
    "    if numero % 2 == 0:\n",
    "        conta_pari += 1\n",
    "\n",
    "print(\"Numeri pari:\", conta_pari)"
   ]
  },
  {
   "cell_type": "markdown",
   "id": "70858627-32b4-4763-8da1-b7dee4405c1b",
   "metadata": {},
   "source": [
    "## Esercizio 4\n",
    "### Stampa quadrati\n",
    "Usa un ciclo for per calcolare e stampare i quadrati dei numeri da 1 a 10."
   ]
  },
  {
   "cell_type": "code",
   "execution_count": 13,
   "id": "2cc57730-8ad0-4820-a482-55a3e5f0b49d",
   "metadata": {},
   "outputs": [
    {
     "name": "stdout",
     "output_type": "stream",
     "text": [
      "Quadrati: [1, 4, 9, 16, 25, 36, 49, 64, 81, 100]\n"
     ]
    }
   ],
   "source": [
    "quadrati = []\n",
    "\n",
    "for i in range(1, 11):\n",
    "    quadrato = i ** 2\n",
    "    quadrati.append(quadrato)\n",
    "\n",
    "print(\"Quadrati:\", quadrati)"
   ]
  },
  {
   "cell_type": "markdown",
   "id": "32d12fe3-500a-4388-8cdf-f64b4929c530",
   "metadata": {},
   "source": [
    "## Esercizio 5\n",
    "### Occorrenze\n",
    "Scrivi un programma che conti quante volte un certo valore appare in una lista."
   ]
  },
  {
   "cell_type": "code",
   "execution_count": 18,
   "id": "fefa3891-a850-4dc6-b751-54116ec2a1d7",
   "metadata": {},
   "outputs": [
    {
     "name": "stdout",
     "output_type": "stream",
     "text": [
      "Il numero 3 appare 4 volte nella lista.\n"
     ]
    }
   ],
   "source": [
    "lista = [3, 7, 3, 2, 3, 8, 3, 9]\n",
    "elemento_da_contare = 3\n",
    "conteggio = 0\n",
    "\n",
    "for elemento in lista:\n",
    "    if elemento == elemento_da_contare:\n",
    "        conteggio += 1\n",
    "\n",
    "print(f\"Il numero {elemento_da_contare} appare {conteggio} volte nella lista.\")"
   ]
  },
  {
   "cell_type": "markdown",
   "id": "8029dc5e-c874-4d3c-888d-ad7d5997cc16",
   "metadata": {},
   "source": [
    "## Esercizio 6\n",
    "### Successione di fibonacci\n",
    "Chiedere all'utente di inserire un numero intero *n* e stampare i primi *n* numeri della successione di fibonacci."
   ]
  },
  {
   "cell_type": "code",
   "execution_count": 16,
   "id": "066ca31f-fead-45bf-a0ee-65d98c8183e4",
   "metadata": {},
   "outputs": [
    {
     "name": "stdin",
     "output_type": "stream",
     "text": [
      "Inserire il numero di elementi della serie di fibonacci che si desidera 1\n"
     ]
    },
    {
     "name": "stdout",
     "output_type": "stream",
     "text": [
      "[1]\n"
     ]
    }
   ],
   "source": [
    "n = int(input(\"Inserire il numero di elementi della serie di fibonacci che si desidera\"))\n",
    "if n <= 0:\n",
    "    print(\"Inserire un numero corretto\")\n",
    "elif n == 1:\n",
    "    print([1])\n",
    "else:\n",
    "    l = [1, 1]\n",
    "    for i in range(2, n):\n",
    "        l.append(l[i-1] + l[i-2])\n",
    "    print(l)"
   ]
  },
  {
   "cell_type": "markdown",
   "id": "423c3b40-1e9a-4486-b07a-64082fd3ae17",
   "metadata": {},
   "source": [
    "## Esercizio 7\n",
    "### Calcolo del fattoriale\n",
    "Chiedere all'utente di inserire un numero, calcolarne e stamparne il fattoriale."
   ]
  },
  {
   "cell_type": "code",
   "execution_count": 25,
   "id": "afe94975-d1b6-4b5c-a6a3-a739658169ba",
   "metadata": {},
   "outputs": [
    {
     "name": "stdin",
     "output_type": "stream",
     "text": [
      "Inserire un numero intero non negativo 5\n"
     ]
    },
    {
     "name": "stdout",
     "output_type": "stream",
     "text": [
      "Il fattoriale di 5 è 120\n"
     ]
    }
   ],
   "source": [
    "n = int(input(\"Inserire un numero intero non negativo\"))\n",
    "fattoriale = 1\n",
    "if n < 0:\n",
    "    print(\"Il fattoriale non esiste per numeri minori di 0\")\n",
    "elif n == 0:\n",
    "    print(\"Il fattoriale di 0 è 1\")\n",
    "else:\n",
    "    # run loop 5 times\n",
    "    for i in range(1, n + 1):\n",
    "        # multiply factorial by current number\n",
    "        fattoriale = fattoriale * i\n",
    "    print(\"Il fattoriale di\", n, \"è\", fattoriale)"
   ]
  },
  {
   "cell_type": "markdown",
   "id": "4130ec3f-23f6-4a01-afd6-fa9bc1291660",
   "metadata": {},
   "source": [
    "## Esercizio 8\n",
    "### Stampa numeri primi\n",
    "Stampare tutti i numeri primi tra un range di numeri.\n",
    "\n",
    "**Nota**: \n",
    "- Un numero primo è un numero che non può essere ottenuto moltiplicando altri numeri interi. \n",
    "\n",
    "- Un numero primo è un numero naturale maggiore di 1 che non è il prodotto di due numeri naturali minori.\n",
    "\n",
    "- Un numero primo è un numero naturale maggiore di 1 divisibile solo per 1 o per sé stesso."
   ]
  },
  {
   "cell_type": "code",
   "execution_count": 37,
   "id": "29e5f8c3-da26-443a-9f32-3eacbd34c7ea",
   "metadata": {},
   "outputs": [
    {
     "name": "stdout",
     "output_type": "stream",
     "text": [
      "Prime numbers between 25 and 50 are:\n",
      "29\n",
      "31\n",
      "37\n",
      "41\n",
      "43\n",
      "47\n"
     ]
    }
   ],
   "source": [
    "start = 25\n",
    "end = 50\n",
    "print(\"Prime numbers between\", start, \"and\", end, \"are:\")\n",
    "\n",
    "for num in range(start, end + 1):\n",
    "    # all prime numbers are greater than 1\n",
    "    # if number is less than or equal to 1, it is not prime\n",
    "    if num > 1:\n",
    "        for i in range(2, num):\n",
    "            # check for factors\n",
    "            if (num % i) == 0:\n",
    "                # not a prime number so break inner loop and\n",
    "                # look for next number\n",
    "                break\n",
    "        else:\n",
    "            print(num)"
   ]
  }
 ],
 "metadata": {
  "kernelspec": {
   "display_name": "Python [conda env:base] *",
   "language": "python",
   "name": "conda-base-py"
  },
  "language_info": {
   "codemirror_mode": {
    "name": "ipython",
    "version": 3
   },
   "file_extension": ".py",
   "mimetype": "text/x-python",
   "name": "python",
   "nbconvert_exporter": "python",
   "pygments_lexer": "ipython3",
   "version": "3.10.16"
  }
 },
 "nbformat": 4,
 "nbformat_minor": 5
}
