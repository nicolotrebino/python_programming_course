{
 "cells": [
  {
   "cell_type": "markdown",
   "id": "6e8191cc-7c6c-4a06-8912-e8b9e4387379",
   "metadata": {},
   "source": [
    "# Esercizi (while)\n",
    "\n",
    "## Esercizio 1 \n",
    "### Calcolare la media A\n",
    "Chiedere all'utente di inserire dei numeri.\n",
    "Continuare a chiedere all'utente di inserire un numero sino a che non inserisce un numero negativo per fermare il ciclo.\n",
    "Dopo che l'utente ha inserito un numero negativo, quindi fermato il ciclo delle richeiste, stampare la media dei numeri inseriti."
   ]
  },
  {
   "cell_type": "code",
   "execution_count": 30,
   "id": "b6b82498-e9f7-46ef-bf95-1ca95993d41a",
   "metadata": {},
   "outputs": [
    {
     "name": "stdin",
     "output_type": "stream",
     "text": [
      "Enter a number (enter negative number to stop):  7\n",
      "Enter a number (enter negative number to stop):  3\n",
      "Enter a number (enter negative number to stop):  7\n",
      "Enter a number (enter negative number to stop):  5\n",
      "Enter a number (enter negative number to stop):  9\n",
      "Enter a number (enter negative number to stop):  -1\n"
     ]
    },
    {
     "name": "stdout",
     "output_type": "stream",
     "text": [
      "The average is: 6.2\n"
     ]
    }
   ],
   "source": [
    "sum = 0\n",
    "count = 0\n",
    "number = float(input(\"Enter a number (enter negative number to stop): \"))\n",
    "\n",
    "while number >= 0:\n",
    "    sum += number\n",
    "    count += 1\n",
    "    number = float(input(\"Enter a number (enter negative number to stop): \"))\n",
    "\n",
    "if count > 0:\n",
    "    average = sum / count\n",
    "    print(f\"The average is: {average}\")"
   ]
  },
  {
   "cell_type": "markdown",
   "id": "673c446f-710b-4666-96c6-07e5291bc5ac",
   "metadata": {},
   "source": [
    "### Calcolare la media B\n",
    "Fare in modo che ad ogni nuovo numero inserito, venga calcolata immediatamente la media tra tutti i numeri inseriti in precedenza e il nuovo."
   ]
  },
  {
   "cell_type": "code",
   "execution_count": 36,
   "id": "46eb12cd-735a-4f7e-b323-2a0358c2a20b",
   "metadata": {},
   "outputs": [
    {
     "name": "stdin",
     "output_type": "stream",
     "text": [
      "Enter a number (enter negative number to stop):  10\n",
      "Enter a number (enter negative number to stop):  10\n"
     ]
    },
    {
     "name": "stdout",
     "output_type": "stream",
     "text": [
      "The average is: 10.0\n"
     ]
    },
    {
     "name": "stdin",
     "output_type": "stream",
     "text": [
      "Enter a number (enter negative number to stop):  5\n"
     ]
    },
    {
     "name": "stdout",
     "output_type": "stream",
     "text": [
      "The average is: 8.333333333333334\n"
     ]
    },
    {
     "name": "stdin",
     "output_type": "stream",
     "text": [
      "Enter a number (enter negative number to stop):  10\n"
     ]
    },
    {
     "name": "stdout",
     "output_type": "stream",
     "text": [
      "The average is: 8.75\n"
     ]
    },
    {
     "name": "stdin",
     "output_type": "stream",
     "text": [
      "Enter a number (enter negative number to stop):  9\n"
     ]
    },
    {
     "name": "stdout",
     "output_type": "stream",
     "text": [
      "The average is: 8.8\n"
     ]
    },
    {
     "name": "stdin",
     "output_type": "stream",
     "text": [
      "Enter a number (enter negative number to stop):  10\n"
     ]
    },
    {
     "name": "stdout",
     "output_type": "stream",
     "text": [
      "The average is: 9.0\n"
     ]
    },
    {
     "name": "stdin",
     "output_type": "stream",
     "text": [
      "Enter a number (enter negative number to stop):  5\n"
     ]
    },
    {
     "name": "stdout",
     "output_type": "stream",
     "text": [
      "The average is: 8.428571428571429\n"
     ]
    },
    {
     "name": "stdin",
     "output_type": "stream",
     "text": [
      "Enter a number (enter negative number to stop):  10\n"
     ]
    },
    {
     "name": "stdout",
     "output_type": "stream",
     "text": [
      "The average is: 8.625\n"
     ]
    },
    {
     "name": "stdin",
     "output_type": "stream",
     "text": [
      "Enter a number (enter negative number to stop):  10\n"
     ]
    },
    {
     "name": "stdout",
     "output_type": "stream",
     "text": [
      "The average is: 8.777777777777779\n"
     ]
    },
    {
     "name": "stdin",
     "output_type": "stream",
     "text": [
      "Enter a number (enter negative number to stop):  10\n"
     ]
    },
    {
     "name": "stdout",
     "output_type": "stream",
     "text": [
      "The average is: 8.9\n"
     ]
    },
    {
     "name": "stdin",
     "output_type": "stream",
     "text": [
      "Enter a number (enter negative number to stop):  -1\n"
     ]
    },
    {
     "name": "stdout",
     "output_type": "stream",
     "text": [
      "STOP\n"
     ]
    }
   ],
   "source": [
    "number = float(input(\"Enter a number (enter negative number to stop): \"))\n",
    "sum = number\n",
    "count = 1\n",
    "\n",
    "while number >= 0:\n",
    "    number = float(input(\"Enter a number (enter negative number to stop): \"))\n",
    "    sum += number\n",
    "    count += 1\n",
    "\n",
    "    if number < 0:\n",
    "        print(\"STOP\")\n",
    "    elif count > 0:\n",
    "        average = sum / count\n",
    "        print(f\"The average is: {average}\")"
   ]
  },
  {
   "cell_type": "markdown",
   "id": "367022a8-d8fd-482f-bf73-8153768c8a4a",
   "metadata": {},
   "source": [
    "## Esercizio 2\n",
    "### Solo consonanti\n",
    "Chiedere all'utente di inserire una stringa. Stampare solo le consonanti della stringa usando un loop while."
   ]
  },
  {
   "cell_type": "code",
   "execution_count": 4,
   "id": "ed3bf4fe-8d2f-4a1a-9981-80e846b39d4b",
   "metadata": {},
   "outputs": [
    {
     "name": "stdin",
     "output_type": "stream",
     "text": [
      "Inserisci una stringa:  ciao come state aiuola\n"
     ]
    },
    {
     "name": "stdout",
     "output_type": "stream",
     "text": [
      "c cm stt l"
     ]
    }
   ],
   "source": [
    "s = input(\"Inserisci una stringa: \")\n",
    "i = 0\n",
    "\n",
    "while i < len(s):\n",
    "    if s[i] not in \"aeiouAEIOU\":\n",
    "        print(s[i], end=\"\")\n",
    "    i += 1"
   ]
  },
  {
   "cell_type": "markdown",
   "id": "2965d226-30d4-4c06-8c02-10f3ae4e4549",
   "metadata": {},
   "source": [
    "## Esercizio 3\n",
    "### Calcolare il fattoriale\n",
    "Chiedere all'utente di inserire un numero intero positivo."
   ]
  },
  {
   "cell_type": "code",
   "execution_count": 1,
   "id": "691d0e8c-5aa0-4393-9bdc-2832ddacca21",
   "metadata": {},
   "outputs": [
    {
     "name": "stdin",
     "output_type": "stream",
     "text": [
      "Enter a positive number:  6\n"
     ]
    },
    {
     "name": "stdout",
     "output_type": "stream",
     "text": [
      "The factorial of 6 is 720\n"
     ]
    }
   ],
   "source": [
    "n = int(input(\"Enter a positive number: \"))\n",
    "factorial = 1\n",
    "i = 1\n",
    "\n",
    "while i <= n:\n",
    "    factorial *= i\n",
    "    i += 1\n",
    "print(f\"The factorial of {n} is {factorial}\")"
   ]
  },
  {
   "cell_type": "markdown",
   "id": "cc6636cf-219d-49d3-982e-386a98488170",
   "metadata": {},
   "source": [
    "## Esercizio 4\n",
    "### Correzione operazioni\n",
    "Chiedere all'utente di inserire due numeri interi.\n",
    "\n",
    "Chiedere all'utente quale operazione eseguire sui due numeri, controllare che scelga un'operazione valida altrimenti richiedere quell'operazione in loop sino a che non inserisce un valore corretto.\n",
    "\n",
    "Chiedere all'utente la risposta all'operazione scelta con i due numeri inseriti:\n",
    "- Se la risposta è giusta terminare il programma\n",
    "- Se è sbagliata chiedere la risposta in loop sino a che non è corretta"
   ]
  },
  {
   "cell_type": "code",
   "execution_count": 94,
   "id": "2edad790-d3dc-46fa-9679-ea484ab94a1e",
   "metadata": {},
   "outputs": [
    {
     "name": "stdout",
     "output_type": "stream",
     "text": [
      "Benvenuto!\n"
     ]
    },
    {
     "name": "stdin",
     "output_type": "stream",
     "text": [
      "Inserire un numero intero:  5\n",
      "Inserire un nuovo numero intero:  4\n"
     ]
    },
    {
     "name": "stdout",
     "output_type": "stream",
     "text": [
      "Su cosa desideri esercitarti?\n"
     ]
    },
    {
     "name": "stdin",
     "output_type": "stream",
     "text": [
      "a - addizioni, b - sottrazioni, c - moltiplicazioni, d - divisioni\n",
      " d\n",
      "Inserire la risposta:  0\n"
     ]
    },
    {
     "name": "stdout",
     "output_type": "stream",
     "text": [
      "Risposta errata, riprova\n",
      "\n"
     ]
    },
    {
     "name": "stdin",
     "output_type": "stream",
     "text": [
      "Inserire la risposta:  1\n"
     ]
    },
    {
     "name": "stdout",
     "output_type": "stream",
     "text": [
      "Bravissima/o!\n"
     ]
    }
   ],
   "source": [
    "print(\"Benvenuto!\")\n",
    "\n",
    "n1 = int(input(\"Inserire un numero intero: \"))\n",
    "n2 = int(input(\"Inserire un nuovo numero intero: \"))\n",
    "\n",
    "print(\"Su cosa desideri esercitarti?\")\n",
    "while True:\n",
    "    operazione = input(\"a - addizioni, b - sottrazioni, c - moltiplicazioni, d - divisioni\\n\")\n",
    "    if operazione == 'a' or operazione == 'b' or operazione == 'c' or operazione == 'd':\n",
    "        break\n",
    "    else:\n",
    "        print(\"Scegliere una operazione valida\\n\")\n",
    "\n",
    "while True:\n",
    "    risposta = int(input(\"Inserire la risposta: \"))\n",
    "    if operazione == 'a':\n",
    "        risultato = n1+n2\n",
    "        if risposta == risultato:\n",
    "            print(\"Bravissima/o!\")\n",
    "            break\n",
    "        else:\n",
    "            print(\"Risposta errata, riprova\\n\")\n",
    "    elif operazione == 'b':\n",
    "        risultato = n1-n2\n",
    "        if risposta == risultato:\n",
    "            print(\"Bravissima/o!\")\n",
    "            break\n",
    "        else:\n",
    "            print(\"Risposta errata, riprova\\n\")\n",
    "    elif operazione == 'c':\n",
    "        risultato = n1*n2\n",
    "        if risposta == risultato:\n",
    "            print(\"Bravissima/o!\")\n",
    "            break\n",
    "        else:\n",
    "            print(\"Risposta errata, riprova\\n\")\n",
    "    elif operazione == 'd':\n",
    "        risultato = int(n1/n2)\n",
    "        if risposta == risultato:\n",
    "            print(\"Bravissima/o!\")\n",
    "            break\n",
    "        else:\n",
    "            print(\"Risposta errata, riprova\\n\")\n",
    "    else:\n",
    "        print(\"Inserire una risposta valida!\")"
   ]
  },
  {
   "cell_type": "markdown",
   "id": "ceeccbbe-ddd0-4e61-a965-6c39ad92945a",
   "metadata": {},
   "source": [
    "## Esercizio 5\n",
    "### Creazione di una lista di promozioni\n",
    "Hai tre liste che rappresentano:\n",
    "1. `studenti` - I nomi degli studenti di una classe.\n",
    "2. `voti` - I voti corrispondenti a ciascun studente.\n",
    "3. `promossi` - Una lista vuota che conterrà i nomi degli studenti promossi.\n",
    "\n",
    "Scrivi un programma che:\n",
    "1. Utilizzi un ciclo `while` per scorrere la lista degli `studenti` e dei loro voti.\n",
    "2. Controlli i voti degli studenti:\n",
    "    - Se un voto è maggiore o uguale a 6, aggiungi lo studente alla lista `promossi`.\n",
    "    - Altrimenti, stampa un messaggio indicando che lo studente non è stato promosso.\n",
    "3. Al termine, stampa la lista degli studenti promossi e di quelli non promossi.\n",
    "\n",
    "Dati iniziali:\n",
    "```python\n",
    "studenti = [\"Alice\", \"Bob\", \"Charlie\", \"Diana\", \"Eve\"]\n",
    "voti = [7, 5, 6, 8, 4]\n",
    "promossi = []\n",
    "```\n",
    "\n",
    "Esempio di output atteso:\n",
    "> Alice è stato/a promosso/a!\n",
    "> \n",
    "> Bob non è stato/a promosso/a. Voto: 5\n",
    "> \n",
    "> Charlie è stato/a promosso/a!\n",
    "> \n",
    "> Diana è stato/a promosso/a!\n",
    "> \n",
    "> Eve non è stato/a promosso/a. Voto: 4\n",
    "\n",
    "Risultato finale:\n",
    "> Studenti promossi: ['Alice', 'Charlie', 'Diana']\n",
    "> \n",
    "> Studenti non promossi: ['Bob', 'Eve']"
   ]
  },
  {
   "cell_type": "code",
   "execution_count": 61,
   "id": "31247766-e5e0-4fcb-8d8a-cc09dc7598f8",
   "metadata": {},
   "outputs": [
    {
     "name": "stdout",
     "output_type": "stream",
     "text": [
      "Alice è stato/a promosso/a! Voto: 7\n",
      "Bob non è stato/a promosso/a. Voto: 5\n",
      "Charlie è stato/a promosso/a! Voto: 6\n",
      "Diana è stato/a promosso/a! Voto: 8\n",
      "Eve non è stato/a promosso/a. Voto: 4\n",
      "Studenti promossi: ['Alice', 'Charlie', 'Diana']\n",
      "Studenti non promossi: ['Bob', 'Eve']\n"
     ]
    }
   ],
   "source": [
    "# Dati iniziali\n",
    "studenti = [\"Alice\", \"Bob\", \"Charlie\", \"Diana\", \"Eve\"]\n",
    "voti = [7, 5, 6, 8, 4]\n",
    "promossi = []\n",
    "non_promossi = []\n",
    "\n",
    "# Inizializzazione dell'indice per il ciclo while\n",
    "i = 0\n",
    "\n",
    "while i < len(studenti):\n",
    "    # Ottieni lo studente e il voto corrente\n",
    "    studente = studenti[i]\n",
    "    voto = voti[i]\n",
    "    \n",
    "    if voto >= 6:\n",
    "        # Aggiungi lo studente ai promossi\n",
    "        promossi.append(studente)\n",
    "        print(f\"{studente} è stato/a promosso/a! Voto: {voto}\")\n",
    "    else:\n",
    "        # Aggiungi lo studente ai non promossi\n",
    "        non_promossi.append(studente)\n",
    "        print(f\"{studente} non è stato/a promosso/a. Voto: {voto}\")\n",
    "    \n",
    "    i += 1\n",
    "\n",
    "# Risultato finale\n",
    "print(f\"Studenti promossi: {promossi}\")\n",
    "print(f\"Studenti non promossi: {non_promossi}\")"
   ]
  },
  {
   "cell_type": "markdown",
   "id": "fb5db143-6365-4155-aa9d-c2602f70199e",
   "metadata": {},
   "source": [
    "## Esercizio 6\n",
    "### Gestione degli ordini in un magazzino\n",
    "\n",
    "Hai tre liste che rappresentano:\n",
    "1. `prodotti` - I prodotti disponibili in magazzino.\n",
    "2. `quantità` - La quantità disponibile per ciascun prodotto.\n",
    "3. `ordini` - Gli ordini effettuati dai clienti (ogni ordine è un prodotto richiesto).\n",
    "\n",
    "Scrivi un programma che:\n",
    "1. Scorra la lista degli `ordini` utilizzando un ciclo `while`.\n",
    "2. Controlli se il prodotto richiesto è disponibile nella lista `prodotti` e se la quantità è sufficiente.\n",
    "    - Se il prodotto è disponibile e c'è abbastanza quantità, riduci il valore corrispondente nella lista `quantità` e stampa un messaggio di conferma.\n",
    "    - Se il prodotto è disponibile ma non c'è abbastanza quantità, stampa un messaggio di scorta insufficiente.\n",
    "    - Se il prodotto non è disponibile, stampa un messaggio che indichi che il prodotto non esiste.\n",
    "3. Al termine, stampa la lista aggiornata di `quantità`.\n",
    "\n",
    "Dati iniziali:\n",
    "```python\n",
    "prodotti = [\"mela\", \"banana\", \"arancia\", \"pera\"]\n",
    "quantità = [10, 5, 8, 3]\n",
    "ordini = [\"mela\", \"arancia\", \"banana\", \"mela\", \"pera\", \"kiwi\"]\n",
    "```\n",
    "\n",
    "Esempio di output atteso:\n",
    "> Ordine: mela - Confermato! Quantità rimanente: 9\n",
    "> \n",
    "> Ordine: arancia - Confermato! Quantità rimanente: 7\n",
    "> \n",
    "> Ordine: banana - Confermato! Quantità rimanente: 4\n",
    "> \n",
    "> Ordine: mela - Confermato! Quantità rimanente: 8\n",
    "> \n",
    "> Ordine: pera - Confermato! Quantità rimanente: 2\n",
    "> \n",
    "> Ordine: kiwi - Prodotto non disponibile!\n",
    "> \n",
    "> Quantità finale: [8, 4, 7, 2]\n",
    "\n",
    "\n"
   ]
  },
  {
   "cell_type": "code",
   "execution_count": null,
   "id": "5f04046e-aff7-46a8-8111-590dc9a19fa1",
   "metadata": {},
   "outputs": [],
   "source": [
    "# Dati iniziali\n",
    "prodotti = [\"mela\", \"banana\", \"arancia\", \"pera\"]\n",
    "quantità = [10, 5, 8, 3]\n",
    "ordini = [\"mela\", \"arancia\", \"banana\", \"mela\", \"pera\", \"kiwi\"]\n",
    "\n",
    "# Inizializzazione dell'indice per il ciclo while\n",
    "i = 0\n",
    "\n",
    "while i < len(ordini):\n",
    "    ordine = ordini[i]\n",
    "    \n",
    "    if ordine in prodotti:\n",
    "        # ottieni l'indice del prodotto nella lista prodotti\n",
    "        k = 0\n",
    "        indice = -1\n",
    "        while k < len(prodotti) and indice == -1:\n",
    "            if prodotti[k] == ordine:\n",
    "                indice = k\n",
    "            k += 1\n",
    "        # in alternativa si può anche usare indice = prodotti.index(ordine)\n",
    "\n",
    "\n",
    "        if quantità[indice] > 0:\n",
    "            # Aggiorna la quantità e stampa la conferma\n",
    "            quantità[indice] -= 1\n",
    "            print(f\"Ordine: {ordine} - Confermato! Quantità rimanente: {quantità[indice]}\")\n",
    "        else:\n",
    "            # Quantità insufficiente\n",
    "            print(f\"Ordine: {ordine} - Scorta insufficiente!\")\n",
    "    else:\n",
    "        # Prodotto non trovato\n",
    "        print(f\"Ordine: {ordine} - Prodotto non disponibile!\")\n",
    "    \n",
    "    i += 1\n",
    "\n",
    "# Stampa finale delle quantità aggiornate\n",
    "print(f\"Quantità finale: {quantità}\")"
   ]
  }
 ],
 "metadata": {
  "kernelspec": {
   "display_name": "Python [conda env:base] *",
   "language": "python",
   "name": "conda-base-py"
  },
  "language_info": {
   "codemirror_mode": {
    "name": "ipython",
    "version": 3
   },
   "file_extension": ".py",
   "mimetype": "text/x-python",
   "name": "python",
   "nbconvert_exporter": "python",
   "pygments_lexer": "ipython3",
   "version": "3.10.16"
  }
 },
 "nbformat": 4,
 "nbformat_minor": 5
}
