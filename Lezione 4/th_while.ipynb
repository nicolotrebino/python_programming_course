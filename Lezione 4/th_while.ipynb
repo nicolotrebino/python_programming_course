{
 "cells": [
  {
   "cell_type": "markdown",
   "id": "eb60b10f-96a2-44ca-963e-2aaf21189aaa",
   "metadata": {},
   "source": [
    "# Cicli while\n",
    "\n",
    "## Introduzione\n",
    "Buongiorno e benvenuti!\n",
    "Oggi parleremo dei **cicli**.\n",
    "Sono costrutti importantissimi nella programmazione perché, un po' come gli if else, permettono di eseguire il codice in un ordine ben preciso ma soprattutto, permettono di eseguire parti di codice più volte in un ciclo se una tale espressione o condizione è vera.\n",
    "\n",
    "Sintassi:\n",
    "\n",
    "```python\n",
    "    while condizione:\n",
    "\n",
    "            blocco di codice eseguito se la condizione è vera\n",
    "\n",
    "    blocco di codice eseguito quando la condizione è, o diventa falsa\n",
    "```\n",
    "\n",
    "Anche questa condizione deve essere espressa tramite operatori booleani e deve risultare o **True** o **False**.\n",
    "\n",
    "### Diagramma di flusso\n",
    "```mermaid\n",
    "graph TD\n",
    "    A([Inizio]) --> B{Condizione}\n",
    "    B -- Vera --> C[Istruzioni A]\n",
    "    B -- Falsa --> D[Istruzioni B]\n",
    "    C -- Ripeti --> B\n",
    "    D --> E([Fine])\n",
    "```\n",
    "\n",
    "### Esempio\n",
    "Come posso stampare 5 volte la stringa \"Ciao a tutti!\"?"
   ]
  },
  {
   "cell_type": "code",
   "execution_count": 19,
   "id": "98856f54-ed3a-4d9b-a872-eb17fb908c67",
   "metadata": {},
   "outputs": [
    {
     "name": "stdout",
     "output_type": "stream",
     "text": [
      "Ciao a tutti!\n",
      "Ciao a tutti!\n",
      "Ciao a tutti!\n",
      "Ciao a tutti!\n",
      "Ciao a tutti!\n"
     ]
    }
   ],
   "source": [
    "# Esempio (no while)\n",
    "print(\"Ciao a tutti!\")\n",
    "print(\"Ciao a tutti!\")\n",
    "print(\"Ciao a tutti!\")\n",
    "print(\"Ciao a tutti!\")\n",
    "print(\"Ciao a tutti!\")"
   ]
  },
  {
   "cell_type": "code",
   "execution_count": 6,
   "id": "af7167ca-7d71-4cce-92f6-40eca4c0c381",
   "metadata": {},
   "outputs": [
    {
     "name": "stdout",
     "output_type": "stream",
     "text": [
      "Ciao a tutti!\n",
      "Ciao a tutti!\n",
      "Ciao a tutti!\n",
      "Ciao a tutti!\n",
      "Ciao a tutti!\n"
     ]
    }
   ],
   "source": [
    "# Esempio (con while)\n",
    "i = 0\n",
    "while i<5:\n",
    "    print(\"Ciao a tutti!\")\n",
    "    i += 1"
   ]
  },
  {
   "cell_type": "markdown",
   "id": "406c4a8f-94ea-4c64-a2f5-ada5e1d098f2",
   "metadata": {},
   "source": [
    "**ATTENZIONE!!!**\n",
    "Se la condizione è SEMPRE True, il ciclo non terminerà MAI!\n",
    "Il ciclo sarà infinito.\n",
    "Bisogna stare attenti perché potrebbe creare problemi."
   ]
  },
  {
   "cell_type": "code",
   "execution_count": null,
   "id": "19ea6456-57cd-43bf-8c1b-dbcd2f9951b7",
   "metadata": {},
   "outputs": [],
   "source": [
    "# Meglio non eseguire\n",
    "# while True:\n",
    "#    print(\"Infinito\")"
   ]
  },
  {
   "cell_type": "markdown",
   "id": "373c1e19-1306-47e7-84a0-64f1a2f55ec0",
   "metadata": {},
   "source": [
    "### Esercizio 1\n",
    "Stampare la tabellina del 3 utilizzando il ciclo while."
   ]
  },
  {
   "cell_type": "code",
   "execution_count": 2,
   "id": "8c49d72a-fb33-4b36-b76e-e31ecf67d674",
   "metadata": {},
   "outputs": [
    {
     "name": "stdout",
     "output_type": "stream",
     "text": [
      "0\n",
      "3\n",
      "6\n",
      "9\n",
      "12\n",
      "15\n",
      "18\n",
      "21\n",
      "24\n",
      "27\n",
      "30\n"
     ]
    }
   ],
   "source": [
    "i = 0\n",
    "while i <= 10:\n",
    "    print(str(3*i))\n",
    "    i += 1"
   ]
  },
  {
   "cell_type": "markdown",
   "id": "7f8be33c-00e6-4641-900d-3ab1b0e94f60",
   "metadata": {},
   "source": [
    "### Esercizio 2\n",
    "Aggiungere ad ogni elemento della lista **lista** un valore **x** e stampare la nuova lista."
   ]
  },
  {
   "cell_type": "code",
   "execution_count": 52,
   "id": "1f6fb8d8-6db3-4a7b-bfe8-68adf1025dda",
   "metadata": {},
   "outputs": [
    {
     "name": "stdout",
     "output_type": "stream",
     "text": [
      "[20, 30, 40]\n"
     ]
    }
   ],
   "source": [
    "x = 10\n",
    "lista = [10, 20, 30]\n",
    "i = 0\n",
    "while i < len(lista):\n",
    "\tlista[i] = lista[i] + x\n",
    "\ti += 1\n",
    "print(lista)"
   ]
  },
  {
   "cell_type": "markdown",
   "id": "4d193a4b-0d29-4689-913d-220c13ae3937",
   "metadata": {},
   "source": [
    "### Esercizio 3\n",
    "Moltiplicare ogni elemento della lista **lista** per il valore dell'indice in cui si trova."
   ]
  },
  {
   "cell_type": "code",
   "execution_count": 58,
   "id": "74fa0f5f-1ef9-4929-80b1-708c1b61c63f",
   "metadata": {},
   "outputs": [
    {
     "name": "stdout",
     "output_type": "stream",
     "text": [
      "[0, 12, 16, 15, 8]\n"
     ]
    }
   ],
   "source": [
    "x = 10\n",
    "lista = [32, 12, 8, 5, 2]\n",
    "i = 0\n",
    "while i < len(lista):\n",
    "\tlista[i] = lista[i]*i\n",
    "\ti += 1\n",
    "print(lista)"
   ]
  },
  {
   "cell_type": "markdown",
   "id": "005a02bb-fae8-4693-a738-32f547236b16",
   "metadata": {},
   "source": [
    "### Esercizio 4\n",
    "Stampare tutti gli elementi di **l1** in una sola stringa usando il ciclo while. Inserire gli elementi della lista in una stringa singola e stamparla.\n",
    "\n",
    "```python\n",
    "l1 = [5, 10, 15, 20, 25]\n",
    "```"
   ]
  },
  {
   "cell_type": "code",
   "execution_count": 26,
   "id": "f76ee3e6-57d2-4ef8-a1a3-00ee60e22e1f",
   "metadata": {},
   "outputs": [
    {
     "name": "stdout",
     "output_type": "stream",
     "text": [
      "Esercizio 0 - La lista è: 5 10 15 20 25 \n"
     ]
    }
   ],
   "source": [
    "l1 = [5, 10, 15, 20, 25]\n",
    "\n",
    "indice = 0\n",
    "lista_str = \"\"\n",
    "while indice < len(l1):\n",
    "    lista_str += str(l1[indice]) + \" \"\n",
    "    indice += 1\n",
    "\n",
    "# Stampa della somma\n",
    "print(f\"Esercizio 0 - La lista è: {lista_str}\")"
   ]
  },
  {
   "cell_type": "markdown",
   "id": "e40fc4ad-da26-4927-9911-bde17c0dda99",
   "metadata": {},
   "source": [
    "## Break & Continue\n",
    "### Break\n",
    "Con la parola chiave **break** possiamo fermare l'esecuzione del ciclo anche se la condizione è comunque **True**.\n",
    "\n",
    "#### Esempio\n",
    "Come possiamo notare, nonostante la condizione suggerisca che verranno stampati tutti i numeri da 1 a 5 (dato che è vera sino a che i=5 e falsa da i=6 in poi), il ciclo stamperà da 1 a 3 grazie all'istruzione **break**."
   ]
  },
  {
   "cell_type": "code",
   "execution_count": 74,
   "id": "dd7af8c2-5596-408f-8c96-fb51c6445ada",
   "metadata": {},
   "outputs": [
    {
     "name": "stdout",
     "output_type": "stream",
     "text": [
      "1\n",
      "2\n",
      "3\n"
     ]
    }
   ],
   "source": [
    "i = 1\n",
    "while i < 6:\n",
    "  print(i)\n",
    "  if i == 3:\n",
    "    break\n",
    "  i += 1"
   ]
  },
  {
   "cell_type": "markdown",
   "id": "3ff3e890-3bcf-4e79-96f8-2ca0c94e6547",
   "metadata": {},
   "source": [
    "### Continue\n",
    "Con la parola chiave **continue** possiamo fermare l'esecuzione dell'attuale iterazione del ciclo e continuare dalla successiva.\n",
    "\n",
    "#### Esempio\n",
    "Come possiamo vedere, verranno stampati tutti i numeri tra 1 e 6, ma non verrà stampato il 3 a causa del **continue**."
   ]
  },
  {
   "cell_type": "code",
   "execution_count": 69,
   "id": "73912252-033d-4011-922e-a22416054333",
   "metadata": {},
   "outputs": [
    {
     "name": "stdout",
     "output_type": "stream",
     "text": [
      "1\n",
      "2\n",
      "4\n",
      "5\n",
      "6\n"
     ]
    }
   ],
   "source": [
    "i = 0\n",
    "while i < 6:\n",
    "  i += 1\n",
    "  if i == 3:\n",
    "    continue\n",
    "  print(i)"
   ]
  },
  {
   "cell_type": "markdown",
   "id": "21f47dbc-3de2-4632-b0ea-12421bef4483",
   "metadata": {},
   "source": [
    "### Esercizio 5\n",
    "Utilizzare un **while True** (costrutto che abbiamo visto che significa loop infinito) per scrivere la tabellina del 5."
   ]
  },
  {
   "cell_type": "code",
   "execution_count": 3,
   "id": "3d3f57ec-fca2-4b50-b6c3-6e52501dc1c2",
   "metadata": {},
   "outputs": [
    {
     "name": "stdout",
     "output_type": "stream",
     "text": [
      "5\n",
      "10\n",
      "15\n",
      "20\n",
      "25\n",
      "30\n",
      "35\n",
      "40\n",
      "45\n",
      "50\n"
     ]
    }
   ],
   "source": [
    "i = 1\n",
    "while True:\n",
    "    print(i*5)\n",
    "    i += 1\n",
    "    if i > 10:\n",
    "        break"
   ]
  }
 ],
 "metadata": {
  "kernelspec": {
   "display_name": "Python [conda env:base] *",
   "language": "python",
   "name": "conda-base-py"
  },
  "language_info": {
   "codemirror_mode": {
    "name": "ipython",
    "version": 3
   },
   "file_extension": ".py",
   "mimetype": "text/x-python",
   "name": "python",
   "nbconvert_exporter": "python",
   "pygments_lexer": "ipython3",
   "version": "3.10.16"
  }
 },
 "nbformat": 4,
 "nbformat_minor": 5
}
