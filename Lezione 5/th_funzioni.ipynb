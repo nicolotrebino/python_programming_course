{
 "cells": [
  {
   "cell_type": "markdown",
   "id": "382862e9-eb6d-4e9f-895b-385e3997b989",
   "metadata": {},
   "source": [
    "# Funzioni\n",
    "Le funzioni permettono di definire blocchi di codice che viene eseguito solamente quando viene chiamato.\n",
    "\n",
    "Quando si programma due cose sono fondamentali:\n",
    "1. Non riscrivere il codice che hanno già scritto altri\n",
    "2. Non duplicare il codice che hai già scritto tu\n",
    "\n",
    "Tutto cio è reso possible dalle **funzioni**.\n",
    "\n",
    "Abbiamo già usato molte funzioni sino ad ora come ad esempio **input**, **print**, **len**.\n",
    "\n",
    "Le funzioni devono essere definite *prima* del loro utilizzo, ed hanno questa sintassi:\n",
    "```python\n",
    "def nome(parametro1, parametro2, ...):\n",
    "    return qualcosa\n",
    "```\n",
    "\n",
    "Una funzione può prendere dei valori come parametri, quindi dei valori che può utilizzare all'interno del suo blocco di codice, e può anche ritornare dei valori."
   ]
  },
  {
   "cell_type": "code",
   "execution_count": 4,
   "id": "a75c1b52-6653-44ce-bc13-476dbe6d8d3a",
   "metadata": {},
   "outputs": [],
   "source": [
    "def ciao_mondo():\n",
    "    print(\"Ciao mondo!\")"
   ]
  },
  {
   "cell_type": "code",
   "execution_count": 6,
   "id": "e9ad1957-61c9-4a0c-9336-71c98793fcbe",
   "metadata": {},
   "outputs": [
    {
     "name": "stdout",
     "output_type": "stream",
     "text": [
      "Ciao mondo!\n"
     ]
    }
   ],
   "source": [
    "ciao_mondo()"
   ]
  },
  {
   "cell_type": "markdown",
   "id": "be159e29-e6b8-406f-bbff-e4a5052b30d5",
   "metadata": {},
   "source": [
    "Come abbiamo detto la cosa interessante è che ci permette di non riscrivere del codice uguale e compattare tutto in un unico blocco.\n",
    "Immaginiamo di voler stampare spesso una formattazione particolare del testo ad esempio:\n",
    "\n",
    "\\----------\n",
    "Nuovo Titolo \n",
    "\\----------\n",
    "\n",
    "con ovviamente un titolo sempre diverso per ogni argomento."
   ]
  },
  {
   "cell_type": "code",
   "execution_count": 18,
   "id": "46c8a950-c367-4d6e-ad9e-3accd11aa434",
   "metadata": {},
   "outputs": [],
   "source": [
    "def bel_titolo(argomento):\n",
    "    print(f\"----------{argomento}----------\")"
   ]
  },
  {
   "cell_type": "code",
   "execution_count": 24,
   "id": "43e81129-d8e6-448a-adcb-6d912f476ffc",
   "metadata": {},
   "outputs": [],
   "source": [
    "# Run per vedere l'errore\n",
    "# bel_titolo()"
   ]
  },
  {
   "cell_type": "code",
   "execution_count": 26,
   "id": "19b18e9d-f09f-4813-a1fa-957b476fca36",
   "metadata": {},
   "outputs": [
    {
     "name": "stdout",
     "output_type": "stream",
     "text": [
      "----------Programmazione----------\n"
     ]
    }
   ],
   "source": [
    "bel_titolo(\"Programmazione\")"
   ]
  },
  {
   "cell_type": "code",
   "execution_count": 30,
   "id": "7ef65b34-2859-4a67-a2e4-1affed7c659b",
   "metadata": {},
   "outputs": [
    {
     "name": "stdout",
     "output_type": "stream",
     "text": [
      "----------Matematica----------\n",
      "----------Storia----------\n",
      "----------Filosofia----------\n"
     ]
    }
   ],
   "source": [
    "arg1 = \"Matematica\"\n",
    "arg2 = \"Storia\"\n",
    "arg3 = \"Filosofia\"\n",
    "bel_titolo(arg1)\n",
    "bel_titolo(arg2)\n",
    "bel_titolo(arg3)"
   ]
  },
  {
   "cell_type": "markdown",
   "id": "416c89bc-31a7-4259-8552-b541b881f97b",
   "metadata": {},
   "source": [
    "**Nota**:\n",
    "Questa funzione non ritorna alcun valore.\n",
    "\n",
    "### Esempio\n",
    "Adesso proviamo a creare la nostra funzione che ritorni il massimo di una lista.\n",
    "Il codice sappiamo farlo benissimo, però proviamo a trasformarlo in una funzione da chiamare ogni volta se vogliamo sapere il massimo di una lista."
   ]
  },
  {
   "cell_type": "code",
   "execution_count": 33,
   "id": "f2566bd8-85f8-4e96-803a-c81aeb736279",
   "metadata": {},
   "outputs": [
    {
     "name": "stdout",
     "output_type": "stream",
     "text": [
      "98\n"
     ]
    }
   ],
   "source": [
    "lista = [3, 9, 13, 27, 89, 56, 42, 98, 64, 6, 12]\n",
    "\n",
    "def massimo(listone):\n",
    "    numero_max = 0\n",
    "    for num in listone:\n",
    "        if num > numero_max:\n",
    "            numero_max = num\n",
    "    return numero_max\n",
    "\n",
    "print(massimo(lista))"
   ]
  },
  {
   "cell_type": "markdown",
   "id": "3f0df145-d686-42db-af25-d4b24b48b02f",
   "metadata": {},
   "source": [
    "Adesso che ci siamo scritti la nostra funzione per calcolare il massimo numero all'interno di una lista, si può utilizzare ogni volta che si vuole invece di scriverci ogni volta tutto il codice.\n",
    "\n",
    "Questa è la figata!"
   ]
  },
  {
   "cell_type": "markdown",
   "id": "f5a9b9b9-dd52-47ec-bd4b-4a4355ed7e38",
   "metadata": {},
   "source": [
    "## Import\n",
    "Come abbiamo già detto, è utile e figo non riscrivere codice già scritto da altri.\n",
    "Prendiamo ad esempio il calcolo del fattoriale di un numero, esercizio che abbiamo già svolto con i cicli."
   ]
  },
  {
   "cell_type": "code",
   "execution_count": 45,
   "id": "d904e067-2f2a-407a-a09f-b3529b6de136",
   "metadata": {},
   "outputs": [
    {
     "name": "stdout",
     "output_type": "stream",
     "text": [
      "Il fattoriale di 5 è 120\n"
     ]
    }
   ],
   "source": [
    "# Calcolo del fattoriale di 5\n",
    "n = 5\n",
    "fattoriale = 1\n",
    "if n < 0:\n",
    "    print(\"Il fattoriale non esiste per numeri minori di 0\")\n",
    "elif n == 0:\n",
    "    print(\"Il fattoriale di 0 è 1\")\n",
    "else:\n",
    "    for i in range(1, n + 1):\n",
    "        fattoriale = fattoriale * i\n",
    "    print(\"Il fattoriale di\", n, \"è\", fattoriale)"
   ]
  },
  {
   "cell_type": "code",
   "execution_count": 12,
   "id": "3ebd5202-769b-4e9d-a045-fddc32e69001",
   "metadata": {},
   "outputs": [],
   "source": [
    "# Rendiamo il codice precedente una funzione\n",
    "def fattoriale(numero):\n",
    "    fattoriale = 1\n",
    "    if numero < 0:\n",
    "        return 0\n",
    "    elif numero == 0:\n",
    "        return 1\n",
    "    else:\n",
    "        for i in range(1, numero + 1):\n",
    "            fattoriale = fattoriale * i\n",
    "        return fattoriale"
   ]
  },
  {
   "cell_type": "code",
   "execution_count": 14,
   "id": "c850d13a-29d6-4ca3-8ffb-a51c9cd60745",
   "metadata": {},
   "outputs": [
    {
     "name": "stdout",
     "output_type": "stream",
     "text": [
      "120\n"
     ]
    }
   ],
   "source": [
    "print(fattoriale(5))"
   ]
  },
  {
   "cell_type": "markdown",
   "id": "1dc1e4c2-1ee4-4a41-8aab-f72e06878e11",
   "metadata": {},
   "source": [
    "Quanta fatica scrivere codice inutile!\n",
    "Si può importare direttamente la funzione tramite il modulo **math**, un modulo base di python."
   ]
  },
  {
   "cell_type": "code",
   "execution_count": 50,
   "id": "2a73a180-7d8f-43dd-9e5c-4b3ac540a28a",
   "metadata": {},
   "outputs": [
    {
     "data": {
      "text/plain": [
       "120"
      ]
     },
     "execution_count": 50,
     "metadata": {},
     "output_type": "execute_result"
    }
   ],
   "source": [
    "from math import factorial\n",
    "factorial(5)"
   ]
  },
  {
   "cell_type": "markdown",
   "id": "e8d6ee6e-de34-4a74-bd1b-b3b5b4affc0e",
   "metadata": {},
   "source": [
    "### Esempi di moduli utili\n",
    "| Modulo    | Descrizione | Esempio |\n",
    "|-----------|------------|---------|\n",
    "| `math`    | Funzioni matematiche avanzate, come radici e fattoriali. | `math.sqrt(25)  # → 5.0` |\n",
    "| `random`  | Generazione di numeri casuali o scelta casuale da una lista. | `random.randint(1, 10)  # → Numero tra 1 e 10` |\n",
    "| `datetime`| Lavorare con date e orari. | `datetime.date.today()  # → Data odierna` |\n",
    "| `time`    | Funzioni per gestire il tempo e creare pause. | `time.sleep(3)  # Pausa di 3 secondi` |\n",
    "| `os`      | Interagire con file, cartelle e sistema operativo. | `os.getcwd()  # → Cartella attuale` |\n",
    "| `sys`     | Informazioni su Python e il sistema. | `sys.version  # → Versione di Python` |\n",
    "\n",
    "### Esempio / Esercizio\n",
    "#### Tempi di rezione (moduli time e random)"
   ]
  },
  {
   "cell_type": "code",
   "execution_count": 26,
   "id": "f0df3037-b86d-47f2-b4a8-0cc73dfac101",
   "metadata": {},
   "outputs": [
    {
     "name": "stdout",
     "output_type": "stream",
     "text": [
      "Preparati... quando vedi 'VIA!', premi INVIO il più velocemente possibile!\n",
      "VIA! (premi INVIO ora!) \n"
     ]
    },
    {
     "name": "stdin",
     "output_type": "stream",
     "text": [
      " \n"
     ]
    },
    {
     "name": "stdout",
     "output_type": "stream",
     "text": [
      "Hai impiegato 0.290 secondi!\n"
     ]
    }
   ],
   "source": [
    "import time\n",
    "import random\n",
    "\n",
    "def test_tempo_reazione():\n",
    "    print(\"Preparati... quando vedi 'VIA!', premi INVIO il più velocemente possibile!\")\n",
    "    \n",
    "    # Attendi un tempo casuale tra 2 e 5 secondi\n",
    "    attesa = random.uniform(2, 5)\n",
    "    time.sleep(attesa)\n",
    "    \n",
    "    # Mostra il segnale di partenza\n",
    "    print(\"VIA! (premi INVIO ora!) \")\n",
    "    \n",
    "    # Registra il tempo di inizio\n",
    "    inizio = time.time()\n",
    "    \n",
    "    # Aspetta l'input dell'utente\n",
    "    input()\n",
    "    \n",
    "    # Registra il tempo di fine\n",
    "    fine = time.time()\n",
    "    \n",
    "    # Calcola il tempo di reazione\n",
    "    tempo_reazione = fine - inizio\n",
    "    print(f\"Hai impiegato {tempo_reazione:.3f} secondi!\")\n",
    "\n",
    "# Avvia il test\n",
    "test_tempo_reazione()"
   ]
  }
 ],
 "metadata": {
  "kernelspec": {
   "display_name": "Python [conda env:base] *",
   "language": "python",
   "name": "conda-base-py"
  },
  "language_info": {
   "codemirror_mode": {
    "name": "ipython",
    "version": 3
   },
   "file_extension": ".py",
   "mimetype": "text/x-python",
   "name": "python",
   "nbconvert_exporter": "python",
   "pygments_lexer": "ipython3",
   "version": "3.10.16"
  }
 },
 "nbformat": 4,
 "nbformat_minor": 5
}
