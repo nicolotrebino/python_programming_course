{
 "cells": [
  {
   "cell_type": "markdown",
   "id": "6b146e84-8158-4f9d-8d31-0735a79ea778",
   "metadata": {},
   "source": [
    "# Gestione file\n",
    "\n",
    "## Scrivere su un file"
   ]
  },
  {
   "cell_type": "code",
   "execution_count": 16,
   "id": "b0a29b70-757e-4116-98ed-95b9c922cdfa",
   "metadata": {},
   "outputs": [],
   "source": [
    "# Questo crea un file chiamato 'esempio.txt' con due righe di testo.\n",
    "with open(\"esempio.txt\", \"w\") as file:\n",
    "    file.write(\"Ciao, questo è un file di esempio!\\n\")\n",
    "    file.write(\"Python è fantastico per la gestione dei file.\\n\")"
   ]
  },
  {
   "cell_type": "markdown",
   "id": "e7a32746-78ae-42af-bab8-fd6ca4fa1d30",
   "metadata": {},
   "source": [
    "## Leggere da un file"
   ]
  },
  {
   "cell_type": "code",
   "execution_count": 18,
   "id": "5c0b92c3-c603-4918-9eb0-2ad5f9b25a95",
   "metadata": {},
   "outputs": [
    {
     "name": "stdout",
     "output_type": "stream",
     "text": [
      "Contenuto del file:\n",
      " Ciao, questo è un file di esempio!\n",
      "Python è fantastico per la gestione dei file.\n",
      "\n"
     ]
    }
   ],
   "source": [
    "# Il contenuto del file 'esempio.txt' verrà stampato.\n",
    "with open(\"esempio.txt\", \"r\") as file:\n",
    "    contenuto = file.read()\n",
    "    print(\"Contenuto del file:\\n\", contenuto)"
   ]
  },
  {
   "cell_type": "markdown",
   "id": "c33e4256-2192-41e7-bd46-48e6d2ba392e",
   "metadata": {},
   "source": [
    "### Leggere riga per riga"
   ]
  },
  {
   "cell_type": "code",
   "execution_count": 20,
   "id": "755dc58e-47ef-4fb1-b0a2-248b3164880d",
   "metadata": {},
   "outputs": [
    {
     "name": "stdout",
     "output_type": "stream",
     "text": [
      "Riga: Ciao, questo è un file di esempio!\n",
      "Riga: Python è fantastico per la gestione dei file.\n"
     ]
    }
   ],
   "source": [
    "# 'strip()' è usato per rimuovere i caratteri di newline (invio) alla fine di ogni riga.\n",
    "with open(\"esempio.txt\", \"r\") as file:\n",
    "    for riga in file:\n",
    "        print(\"Riga:\", riga.strip())"
   ]
  },
  {
   "cell_type": "markdown",
   "id": "14206356-cda9-4260-ab6e-4508584a88ea",
   "metadata": {},
   "source": [
    "## Append di un file (aggiungere contenuto)"
   ]
  },
  {
   "cell_type": "code",
   "execution_count": 22,
   "id": "6cc338c1-0648-4acb-9ca0-e775ed235b1b",
   "metadata": {},
   "outputs": [
    {
     "name": "stdout",
     "output_type": "stream",
     "text": [
      "Contenuto aggiornato del file:\n",
      " Ciao, questo è un file di esempio!\n",
      "Python è fantastico per la gestione dei file.\n",
      "Questa è una nuova riga aggiunta al file.\n",
      "\n"
     ]
    }
   ],
   "source": [
    "# 'esempio.txt' avrà una nuova riga alla fine.\n",
    "with open(\"esempio.txt\", \"a\") as file:\n",
    "    file.write(\"Questa è una nuova riga aggiunta al file.\\n\")\n",
    "\n",
    "# Verifica che la riga aggiunta sia presente nel file.\n",
    "with open(\"esempio.txt\", \"r\") as file:\n",
    "    contenuto = file.read()\n",
    "    print(\"Contenuto aggiornato del file:\\n\", contenuto)"
   ]
  },
  {
   "cell_type": "markdown",
   "id": "dbc038c5-5f8c-48f4-bb88-2505a3492453",
   "metadata": {},
   "source": [
    "## readlines()\n",
    "### Leggere tutte le righe del file come lista"
   ]
  },
  {
   "cell_type": "code",
   "execution_count": 24,
   "id": "4d442082-7b16-48f3-8f95-30c6daa25b2e",
   "metadata": {},
   "outputs": [
    {
     "name": "stdout",
     "output_type": "stream",
     "text": [
      "Riga: Ciao, questo è un file di esempio!\n",
      "Riga: Python è fantastico per la gestione dei file.\n",
      "Riga: Questa è una nuova riga aggiunta al file.\n"
     ]
    }
   ],
   "source": [
    "# 'readlines()' ritorna tutte le righe come una lista, dove ogni elemento è una riga.\n",
    "with open(\"esempio.txt\", \"r\") as file:\n",
    "    righe = file.readlines()\n",
    "\n",
    "# Stampare ogni riga\n",
    "for riga in righe:\n",
    "    print(\"Riga:\", riga.strip())"
   ]
  },
  {
   "cell_type": "markdown",
   "id": "837a7bb8-1836-4f6c-8bc9-62effdf4de51",
   "metadata": {},
   "source": [
    "## Try e Except\n",
    "### Gestione errori"
   ]
  },
  {
   "cell_type": "code",
   "execution_count": 29,
   "id": "61b86498-46ed-4e6b-b633-f105327b060b",
   "metadata": {},
   "outputs": [
    {
     "name": "stdout",
     "output_type": "stream",
     "text": [
      "Errore: Il file non esiste.\n"
     ]
    }
   ],
   "source": [
    "# Se il file non esiste, l'errore viene gestito con un messaggio.\n",
    "try:\n",
    "    with open(\"non_esistente.txt\", \"r\") as file:\n",
    "        contenuto = file.read()\n",
    "except FileNotFoundError:\n",
    "    print(\"Errore: Il file non esiste.\")"
   ]
  }
 ],
 "metadata": {
  "kernelspec": {
   "display_name": "Python [conda env:base] *",
   "language": "python",
   "name": "conda-base-py"
  },
  "language_info": {
   "codemirror_mode": {
    "name": "ipython",
    "version": 3
   },
   "file_extension": ".py",
   "mimetype": "text/x-python",
   "name": "python",
   "nbconvert_exporter": "python",
   "pygments_lexer": "ipython3",
   "version": "3.10.16"
  }
 },
 "nbformat": 4,
 "nbformat_minor": 5
}
