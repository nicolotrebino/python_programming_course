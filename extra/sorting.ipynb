{
 "cells": [
  {
   "cell_type": "markdown",
   "id": "4ef8d447-12c1-42f5-903e-9eadff2c0bbb",
   "metadata": {},
   "source": [
    "# Algoritmi di ordinamento\n",
    "\n",
    "## Bubble sort\n",
    "- Immagina delle carte con dei numeri in fila.\n",
    "- Confronti due carte alla volta.\n",
    "- Se sono nell’ordine sbagliato, le scambi.\n",
    "- Ripeti fino a quando tutti i numeri sono ordinati."
   ]
  },
  {
   "cell_type": "code",
   "execution_count": 3,
   "id": "2c91f8d4-131f-4f36-bd7d-f8ddfa270e18",
   "metadata": {},
   "outputs": [],
   "source": [
    "def bubble_sort(lista):\n",
    "    n = len(lista)\n",
    "    \n",
    "    for i in range(n - 1):  # Passaggi attraverso la lista\n",
    "        for j in range(n - 1 - i):  # Confronti tra coppie di elementi\n",
    "            if lista[j] > lista[j + 1]:  # Se sono nell'ordine sbagliato, scambiali\n",
    "                lista[j], lista[j + 1] = lista[j + 1], lista[j]"
   ]
  },
  {
   "cell_type": "code",
   "execution_count": 16,
   "id": "9670a872-1424-4bf1-8c27-b209f0658b82",
   "metadata": {},
   "outputs": [
    {
     "name": "stdout",
     "output_type": "stream",
     "text": [
      "[5, 2, 9, 1, 5, 6]\n",
      "[1, 2, 5, 5, 6, 9]\n"
     ]
    }
   ],
   "source": [
    "# Esempio di utilizzo\n",
    "numeri = [5, 2, 9, 1, 5, 6]\n",
    "print(numeri)\n",
    "bubble_sort(numeri)\n",
    "print(numeri)"
   ]
  },
  {
   "cell_type": "markdown",
   "id": "531c395e-8689-4c90-a17d-1c13fc6adb8d",
   "metadata": {},
   "source": [
    "## Selection sort\n",
    "- Trova il numero più piccolo nella lista e mettilo in prima posizione.\n",
    "- Trova il secondo più piccolo e mettilo in seconda posizione.\n",
    "- Ripeti fino a ordinare tutta la lista."
   ]
  },
  {
   "cell_type": "code",
   "execution_count": 19,
   "id": "012de144-58e7-4428-8d3d-cdaf2b3238e3",
   "metadata": {},
   "outputs": [],
   "source": [
    "def selection_sort(arr):\n",
    "    n = len(arr)\n",
    "\n",
    "    for i in range(n):\n",
    "        min_index = i  # Assume che l'elemento corrente sia il più piccolo\n",
    "        \n",
    "        for j in range(i + 1, n):  # Cerca il valore più piccolo nella parte rimanente\n",
    "            if arr[j] < arr[min_index]:\n",
    "                min_index = j\n",
    "        \n",
    "        # Scambia l'elemento più piccolo trovato con quello nella posizione corrente\n",
    "        arr[i], arr[min_index] = arr[min_index], arr[i]"
   ]
  },
  {
   "cell_type": "code",
   "execution_count": 25,
   "id": "a5ebd5bb-6a77-4066-ac5c-ffe4de5102b2",
   "metadata": {},
   "outputs": [
    {
     "name": "stdout",
     "output_type": "stream",
     "text": [
      "[5, 2, 9, 1, 5, 6]\n",
      "[1, 2, 5, 5, 6, 9]\n"
     ]
    }
   ],
   "source": [
    "# Esempio di utilizzo\n",
    "numeri = [5, 2, 9, 1, 5, 6]\n",
    "print(numeri)\n",
    "selection_sort(numeri)\n",
    "print(numeri)"
   ]
  },
  {
   "cell_type": "markdown",
   "id": "dd32147f-954e-41e9-999b-88cc62194750",
   "metadata": {},
   "source": [
    "## Differenze in termini di complessità (AVANZATO)\n",
    "\n",
    "| Algoritmo      | Complessità Caso Peggiore | Complessità Caso Medio | Complessità Caso Migliore | Spazio Extra | Stabilità |\n",
    "|---------------|------------------------|-----------------------|----------------------|------------|------------|\n",
    "| **Bubble Sort**   | **O(n²)**  | **O(n²)**  | **O(n)** (se già ordinato) | O(1) | Sì |\n",
    "| **Selection Sort** | **O(n²)**  | **O(n²)**  | **O(n²)** | O(1) | No |\n",
    "\n",
    "### Bubble Sort\n",
    "- Confronta **elementi adiacenti** e li scambia se non sono nell’ordine giusto.  \n",
    "- **MOLTO lento** su liste grandi perché fa sempre **O(n²)** confronti.  \n",
    "- **Veloce solo se la lista è quasi ordinata** (**O(n)** in quel caso).  \n",
    "\n",
    "**Esempio:**\n",
    "Se hai `n = 1000`, Bubble Sort fa circa **1.000.000** operazioni!\n",
    "\n",
    "### Selection Sort\n",
    "- **Trova il minimo** e lo mette nella posizione giusta, ripetendo il processo.  \n",
    "- **Sempre O(n²)**, anche se la lista è già ordinata.  \n",
    "- **Più efficiente di Bubble Sort** perché fa **meno scambi**, ma resta lento.  \n",
    "\n",
    "### Chi è più veloce? \n",
    "**Selection Sort** è più veloce in generale perché fa meno scambi.  \n",
    "**Bubble Sort** è accettabile **solo** se la lista è quasi ordinata.  \n",
    "\n",
    "Per liste più grandi di **100 elementi**, è meglio usare **Quick Sort o Merge Sort**!"
   ]
  }
 ],
 "metadata": {
  "kernelspec": {
   "display_name": "Python [conda env:base] *",
   "language": "python",
   "name": "conda-base-py"
  },
  "language_info": {
   "codemirror_mode": {
    "name": "ipython",
    "version": 3
   },
   "file_extension": ".py",
   "mimetype": "text/x-python",
   "name": "python",
   "nbconvert_exporter": "python",
   "pygments_lexer": "ipython3",
   "version": "3.10.16"
  }
 },
 "nbformat": 4,
 "nbformat_minor": 5
}
